{
 "cells": [
  {
   "cell_type": "markdown",
   "id": "fa0cc4b9",
   "metadata": {},
   "source": [
    "# Class 17: Dynamics on Networks 2 — Compartmental Models"
   ]
  },
  {
   "cell_type": "code",
   "execution_count": null,
   "id": "9b33da0e",
   "metadata": {},
   "outputs": [],
   "source": []
  }
 ],
 "metadata": {
  "kernelspec": {
   "display_name": "Python 3",
   "language": "python",
   "name": "python3"
  },
  "language_info": {
   "codemirror_mode": {
    "name": "ipython",
    "version": 3
   },
   "file_extension": ".py",
   "mimetype": "text/x-python",
   "name": "python",
   "nbconvert_exporter": "python",
   "pygments_lexer": "ipython3",
   "version": "3.9.19"
  }
 },
 "nbformat": 4,
 "nbformat_minor": 5
}
