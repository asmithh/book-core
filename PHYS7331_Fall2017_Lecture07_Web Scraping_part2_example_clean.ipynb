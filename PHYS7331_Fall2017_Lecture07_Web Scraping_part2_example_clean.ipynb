{
 "cells": [
  {
   "cell_type": "markdown",
   "metadata": {},
   "source": [
    "# Web Scraping Examples - Online Police Logs"
   ]
  },
  {
   "cell_type": "code",
   "execution_count": 1,
   "metadata": {},
   "outputs": [
    {
     "data": {
      "text/html": [
       "\n",
       "        <iframe\n",
       "            width=\"800\"\n",
       "            height=\"300\"\n",
       "            src=\"https://www.cambridgema.gov/cpd/newsandalerts/Archives\"\n",
       "            frameborder=\"0\"\n",
       "            allowfullscreen\n",
       "        ></iframe>\n",
       "        "
      ],
      "text/plain": [
       "<IPython.lib.display.IFrame at 0x105e8bc50>"
      ]
     },
     "execution_count": 1,
     "metadata": {},
     "output_type": "execute_result"
    }
   ],
   "source": [
    "from IPython.display import IFrame\n",
    "IFrame('https://www.cambridgema.gov/cpd/newsandalerts/Archives', width=800, height=300)"
   ]
  },
  {
   "cell_type": "code",
   "execution_count": 2,
   "metadata": {
    "collapsed": true
   },
   "outputs": [],
   "source": [
    "import requests\n",
    "from bs4 import BeautifulSoup\n",
    "import re"
   ]
  },
  {
   "cell_type": "code",
   "execution_count": 3,
   "metadata": {},
   "outputs": [
    {
     "name": "stdout",
     "output_type": "stream",
     "text": [
      "ï»¿User-Agent: *\r\n",
      "Disallow: /propertydatabase/\n"
     ]
    }
   ],
   "source": [
    "r = requests.get('https://www.cambridgema.gov/robots.txt')\n",
    "print(r.text)"
   ]
  },
  {
   "cell_type": "code",
   "execution_count": 4,
   "metadata": {
    "collapsed": true
   },
   "outputs": [],
   "source": [
    "url = 'https://www.cambridgema.gov/cpd/newsandalerts/Archives'\n",
    "r = requests.get(url)\n",
    "landing_page = r.text\n"
   ]
  },
  {
   "cell_type": "code",
   "execution_count": 5,
   "metadata": {},
   "outputs": [
    {
     "data": {
      "text/plain": [
       "200"
      ]
     },
     "execution_count": 5,
     "metadata": {},
     "output_type": "execute_result"
    }
   ],
   "source": [
    "r.status_code\n"
   ]
  },
  {
   "cell_type": "code",
   "execution_count": 6,
   "metadata": {},
   "outputs": [
    {
     "data": {
      "text/plain": [
       "'utf-8'"
      ]
     },
     "execution_count": 6,
     "metadata": {},
     "output_type": "execute_result"
    }
   ],
   "source": [
    "r.encoding"
   ]
  },
  {
   "cell_type": "code",
   "execution_count": 8,
   "metadata": {},
   "outputs": [
    {
     "name": "stdout",
     "output_type": "stream",
     "text": [
      "\r\n",
      "\r\n",
      "<!DOCTYPE html PUBLIC \"-//W3C//DTD XHTML 1.0 Strict//EN\"\r\n",
      "    \"http://www.w3.org/TR/xhtml1/DTD/xhtml1-strict.dtd\">\r\n",
      "<html xmlns=\"http://www.w3.org/1999/xhtml\" xml:lang=\"en\" lang=\"en\">\r\n",
      "<head id=\"Head1\"><title>\r\n",
      "\tNews - Police Department - City of Cambridge, Massachusetts\r\n",
      "</title><meta name=\"description\" content=\"CPD News\" /><meta name=\"keywords\" content=\"news, cambridge police\" /><meta name=\"robots\" content=\"noindex, follow\" /><meta name=\"author\" content=\"City of Cambridge\" /><meta http-equiv=\"Content-Type\" content=\"text/html;charset=utf-8\" /><meta http-equiv=\"X-UA-Compatible\" content=\"IE=8\" /><link rel=\"stylesheet\" type=\"text/css\" href=\"/Layouts/CambridgePD/_resources/css/global.css\" media=\"all\"/><link rel=\"stylesheet\" type=\"text/css\" href=\"/Layouts/CambridgePD/_resources/css/cpd.css\" media=\"all\"/><link rel=\"stylesheet\" type=\"text/css\" href=\"/Layouts/CambridgePD/_resources/css/print.css\" media=\"print\"/><link rel=\"stylesheet\" type=\"text/css\" href=\"/Layouts/SharedPresentation/_resources/css/universal.css\" media=\"all\"/><script type=\"text/javascript\" src=\"/Layouts/CambridgePD/_resources/js/jquery.js\"></script><script type=\"text/javascript\" src=\"/Layouts/CambridgePD/_resources/js/image-gallery.js\"></script><script type=\"text/javascript\" src=\"/Layouts/CambridgePD/_resources/js/translate.js\"></script><script type=\"text/javascript\" src=\"/Layouts/CambridgePD/_resources/js/ui.tabs.js\"></script><script type=\"text/javascript\" src=\"/Layouts/CambridgePD/_resources/js/ui.tabs.ext.js\">\n"
     ]
    }
   ],
   "source": [
    "print(landing_page[:1500])\n",
    "\n"
   ]
  },
  {
   "cell_type": "code",
   "execution_count": 9,
   "metadata": {
    "collapsed": true
   },
   "outputs": [],
   "source": [
    "soup = BeautifulSoup(landing_page,'lxml')\n"
   ]
  },
  {
   "cell_type": "code",
   "execution_count": 10,
   "metadata": {
    "collapsed": true
   },
   "outputs": [],
   "source": [
    "def make_soup(url,params = None):\n",
    "    response = requests.get(url, params=params)\n",
    "    if response.status_code == 200:\n",
    "        html = response.text\n",
    "        soup = BeautifulSoup(html, 'lxml')\n",
    "    else:\n",
    "        print('Error')\n",
    "        raise\n",
    "    return soup\n"
   ]
  },
  {
   "cell_type": "code",
   "execution_count": 14,
   "metadata": {},
   "outputs": [
    {
     "name": "stdout",
     "output_type": "stream",
     "text": [
      "<!DOCTYPE html PUBLIC \"-//W3C//DTD XHTML 1.0 Strict//EN\" \"http://www.w3.org/TR/xhtml1/DTD/xhtml1-strict.dtd\">\n",
      "<html lang=\"en\" xml:lang=\"en\" xmlns=\"http://www.w3.org/1999/xhtml\">\n",
      " <head id=\"Head1\">\n",
      "  <title>\n",
      "   News - Police Department - City of Cambridge, Massachusetts\n",
      "  </title>\n",
      "  <meta content=\"CPD News\" name=\"description\"/>\n",
      "  <meta content=\"news, cambridge police\" name=\"keywords\"/>\n",
      "  <meta content=\"noindex, follow\" name=\"robots\"/>\n",
      "  <meta content=\"City of Cambridge\" name=\"author\"/>\n",
      "  <meta content=\"text/html;charset=utf-8\" http-equiv=\"Content-Type\"/>\n",
      "  <meta content=\"IE=8\" http-equiv=\"X-UA-Compatible\"/>\n",
      "  <link href=\"/Layouts/CambridgePD/_resources/css/global.css\" media=\"all\" rel=\"stylesheet\" type=\"text/css\"/>\n",
      "  <link href=\"/Layouts/CambridgePD/_resources/css/cpd.css\" media=\"all\" rel=\"stylesheet\" type=\"text/css\"/>\n",
      "  <link href=\"/Layouts/CambridgePD/_resources/css/print.css\" media=\"print\" rel=\"stylesheet\" type=\"text/css\"/>\n",
      "  <link href=\"/Layouts/SharedPresentation/_resources/css/universal.css\" media=\"all\" rel=\"stylesheet\" type=\"text/css\"/>\n",
      "  <script src=\"/Layouts/CambridgePD/_resources/js/jquery.js\" type=\"text/javascript\">\n",
      "  </script>\n",
      "  <script src=\"/Layouts/CambridgePD/_resources/js/image-gallery.js\" type=\"text/javascript\">\n",
      "  </script>\n",
      "  <script src=\"/Layouts/CambridgePD/_resources/js/translate.js\" type=\"text/javascript\">\n",
      "  </script>\n",
      "  <script src=\"/Layouts/CambridgePD/_resources/js/ui.tabs.js\" type=\"text/javascript\">\n",
      "  </script>\n",
      "  <script src=\"/Layouts/CambridgePD/_resour\n"
     ]
    }
   ],
   "source": [
    "soup = make_soup(url)\n",
    "print(soup.prettify()[:1500])\n"
   ]
  },
  {
   "cell_type": "code",
   "execution_count": 16,
   "metadata": {},
   "outputs": [],
   "source": [
    "all_a = soup.findAll('a')"
   ]
  },
  {
   "cell_type": "code",
   "execution_count": 17,
   "metadata": {},
   "outputs": [
    {
     "data": {
      "text/plain": [
       "[<a href=\"/cpd\" id=\"brand\">Police Department</a>,\n",
       " <a href=\"/cpd/newsandalerts/Calendar\">Calendar</a>,\n",
       " <a href=\"/cpd/ContactUs\">Contact Us</a>,\n",
       " <a href=\"/cpd/Publications\">Publications</a>,\n",
       " <a class=\"reg\" href=\"#\" onclick=\"setActiveStyleSheet('default', 'true', 'false'); return false;\">A</a>,\n",
       " <a class=\"med\" href=\"#\" onclick=\"setActiveStyleSheet('medium', 'true', 'false'); return false;\">A</a>,\n",
       " <a class=\"large\" href=\"#\" onclick=\"setActiveStyleSheet('large', 'true', 'false'); return false;\">A</a>,\n",
       " <a class=\"nav-home\" href=\"/cpd\">Police Department</a>,\n",
       " <a class=\"nav-units\" href=\"/cpd/policeunits\">Police Units</a>,\n",
       " <a class=\"nav-resources\" href=\"/cpd/communityresources\">Community Resources</a>]"
      ]
     },
     "execution_count": 17,
     "metadata": {},
     "output_type": "execute_result"
    }
   ],
   "source": [
    "all_a[:10]\n"
   ]
  },
  {
   "cell_type": "code",
   "execution_count": 18,
   "metadata": {
    "collapsed": true
   },
   "outputs": [],
   "source": [
    "a = all_a[0]\n"
   ]
  },
  {
   "cell_type": "code",
   "execution_count": 19,
   "metadata": {},
   "outputs": [
    {
     "data": {
      "text/plain": [
       "'Police Department'"
      ]
     },
     "execution_count": 19,
     "metadata": {},
     "output_type": "execute_result"
    }
   ],
   "source": [
    "a.text\n"
   ]
  },
  {
   "cell_type": "code",
   "execution_count": 20,
   "metadata": {},
   "outputs": [
    {
     "data": {
      "text/plain": [
       "'/cpd'"
      ]
     },
     "execution_count": 20,
     "metadata": {},
     "output_type": "execute_result"
    }
   ],
   "source": [
    "a.attrs['href']\n"
   ]
  },
  {
   "cell_type": "code",
   "execution_count": null,
   "metadata": {
    "collapsed": true
   },
   "outputs": [],
   "source": [
    "# bucket +> dictionary\n",
    "# queue +> urls of all pages\n",
    "# while loop: scraping\n",
    "\n"
   ]
  },
  {
   "cell_type": "code",
   "execution_count": null,
   "metadata": {
    "collapsed": true
   },
   "outputs": [],
   "source": [
    "\n"
   ]
  },
  {
   "cell_type": "code",
   "execution_count": null,
   "metadata": {
    "collapsed": true
   },
   "outputs": [],
   "source": [
    "\n"
   ]
  },
  {
   "cell_type": "markdown",
   "metadata": {},
   "source": [
    "## Intermezzo: Handling Exceptions in Python"
   ]
  },
  {
   "cell_type": "code",
   "execution_count": 31,
   "metadata": {},
   "outputs": [
    {
     "name": "stdout",
     "output_type": "stream",
     "text": [
      "Zero division error\n",
      "Done!\n"
     ]
    }
   ],
   "source": [
    "import sys\n",
    "\n",
    "try:\n",
    "    # do something\n",
    "    x = 1/2\n",
    "    x = 1/0\n",
    "except ZeroDivisionError:\n",
    "    print('Zero division error')\n",
    "    pass\n",
    "except:\n",
    "    print('I have an unknown error..', sys.exc_info()[0])\n",
    "    raise NameError('... an error ....')\n",
    "    # do something else if everything went wrong\n",
    "else:\n",
    "    print('The result of the division is %1.2f' % x)\n",
    "finally:\n",
    "    print('Done!')"
   ]
  },
  {
   "cell_type": "markdown",
   "metadata": {},
   "source": [
    "## Back to scraping.."
   ]
  },
  {
   "cell_type": "markdown",
   "metadata": {},
   "source": [
    "### Get url of police daily logs"
   ]
  },
  {
   "cell_type": "code",
   "execution_count": 44,
   "metadata": {
    "collapsed": true
   },
   "outputs": [],
   "source": [
    "from time import sleep"
   ]
  },
  {
   "cell_type": "code",
   "execution_count": 45,
   "metadata": {
    "collapsed": true
   },
   "outputs": [],
   "source": [
    "sleep(10)"
   ]
  },
  {
   "cell_type": "code",
   "execution_count": 46,
   "metadata": {},
   "outputs": [
    {
     "name": "stdout",
     "output_type": "stream",
     "text": [
      "09/27/2017\n",
      "09/26/2017\n",
      "09/25/2017\n",
      "09/24/2017\n",
      "09/21/2017\n",
      "09/20/2017\n",
      "!!! index error !!!\n",
      "Next page found..\n",
      "09/19/2017\n",
      "09/18/2017\n",
      "09/17/2017\n",
      "09/14/2017\n",
      "09/13/2017\n",
      "09/12/2017\n",
      "09/11/2017\n",
      "!!! index error !!!\n",
      "Next page found..\n",
      "09/11/2017\n",
      "09/10/2017\n",
      "09/07/2017\n",
      "09/06/2017\n",
      "09/05/2017\n",
      "09/04/2017\n",
      "!!! index error !!!\n",
      "Next page found..\n",
      "09/04/2017\n",
      "08/31/2017\n",
      "08/30/2017\n",
      "08/29/2017\n",
      "08/28/2017\n",
      "08/27/2017\n",
      "08/24/2017\n",
      "08/23/2017\n",
      "!!! index error !!!\n",
      "Next page found..\n",
      "08/22/2017\n",
      "08/21/2017\n",
      "08/20/2017\n",
      "08/17/2017\n",
      "08/16/2017\n",
      "08/15/2017\n",
      "08/14/2017\n",
      "08/13/2017\n",
      "!!! index error !!!\n",
      "Next page found..\n",
      "08/10/2017\n",
      "08/09/2017\n",
      "08/08/2017\n",
      "08/07/2017\n",
      "08/06/2017\n",
      "08/03/2017\n",
      "08/02/2017\n",
      "08/01/2017\n",
      "07/31/2017\n",
      "07/30/2017\n",
      "!!! index error !!!\n",
      "Next page found..\n"
     ]
    },
    {
     "ename": "KeyboardInterrupt",
     "evalue": "",
     "output_type": "error",
     "traceback": [
      "\u001b[0;31m---------------------------------------------------------------------------\u001b[0m",
      "\u001b[0;31mKeyboardInterrupt\u001b[0m                         Traceback (most recent call last)",
      "\u001b[0;32m<ipython-input-46-14e2792c30cf>\u001b[0m in \u001b[0;36m<module>\u001b[0;34m()\u001b[0m\n\u001b[1;32m     30\u001b[0m         \u001b[0murl\u001b[0m \u001b[0;34m=\u001b[0m \u001b[0;34m'https://www.cambridgema.gov%s'\u001b[0m \u001b[0;34m%\u001b[0m \u001b[0mnext_page\u001b[0m\u001b[0;34m.\u001b[0m\u001b[0mattrs\u001b[0m\u001b[0;34m[\u001b[0m\u001b[0;34m'href'\u001b[0m\u001b[0;34m]\u001b[0m\u001b[0;34m\u001b[0m\u001b[0m\n\u001b[1;32m     31\u001b[0m         \u001b[0mqueue\u001b[0m\u001b[0;34m.\u001b[0m\u001b[0mappend\u001b[0m\u001b[0;34m(\u001b[0m\u001b[0murl\u001b[0m\u001b[0;34m)\u001b[0m\u001b[0;34m\u001b[0m\u001b[0m\n\u001b[0;32m---> 32\u001b[0;31m     \u001b[0msleep\u001b[0m\u001b[0;34m(\u001b[0m\u001b[0;36m2\u001b[0m\u001b[0;34m)\u001b[0m\u001b[0;34m\u001b[0m\u001b[0m\n\u001b[0m",
      "\u001b[0;31mKeyboardInterrupt\u001b[0m: "
     ]
    }
   ],
   "source": [
    "# bucket +> dictionary\n",
    "# queue +> urls of all pages\n",
    "# while loop: scraping\n",
    "Logs = {} # key is date, value is the url\n",
    "#queue = ['https://www.cambridgema.gov/cpd/newsandalerts/Archives']\n",
    "queue = ['https://www.cambridgema.gov/cpd/newsandalerts/Archives?Year=%d' % year for year in range(2014,2018)]\n",
    "\n",
    "while queue:\n",
    "    url = queue.pop()\n",
    "    soup = make_soup(url) # http request\n",
    "    for a in soup.find_all('a'):\n",
    "        if 'Daily Log' in a.text:\n",
    "            label = a.text\n",
    "            url = a.attrs['href']\n",
    "            \n",
    "            try:\n",
    "                date = re.findall( '(\\d{1,2})\\.(\\d{1,2})\\.(\\d{4})'  , label)[0]\n",
    "                month = int(date[0])\n",
    "                day = int(date[1])\n",
    "                year = int(date[2])\n",
    "                pretty_date = '%02d/%02d/%d' % (month,day,year)\n",
    "                print(pretty_date)\n",
    "                Logs[pretty_date] = {'url': 'https://www.cambridgema.gov%s' % url}\n",
    "            except IndexError:\n",
    "                print('!!! index error !!!')\n",
    "            except:\n",
    "                print('Unknown:', sys.exc_info()[0])\n",
    "    \n",
    "    next_page = soup.find('a', text='Next')\n",
    "    if next_page:\n",
    "        print('Next page found..')\n",
    "        url = 'https://www.cambridgema.gov%s' % next_page.attrs['href']\n",
    "        queue.append(url)\n",
    "    sleep(2)\n"
   ]
  },
  {
   "cell_type": "code",
   "execution_count": 48,
   "metadata": {},
   "outputs": [
    {
     "data": {
      "text/plain": [
       "{'url': 'https://www.cambridgema.gov/cpd/newsandalerts/Archives/detail.aspx?path=%2fsitecore%2fcontent%2fhome%2fcpd%2fnewsandalerts%2fArchives%2f2017%2f07%2f07302017'}"
      ]
     },
     "execution_count": 48,
     "metadata": {},
     "output_type": "execute_result"
    }
   ],
   "source": [
    "Logs['07/30/2017']"
   ]
  },
  {
   "cell_type": "code",
   "execution_count": 43,
   "metadata": {},
   "outputs": [],
   "source": [
    "soup.find('a', text = 'Next111')"
   ]
  },
  {
   "cell_type": "code",
   "execution_count": 35,
   "metadata": {},
   "outputs": [
    {
     "data": {
      "text/plain": [
       "('9', '27', '2017')"
      ]
     },
     "execution_count": 35,
     "metadata": {},
     "output_type": "execute_result"
    }
   ],
   "source": [
    "label = 'Daily Log 9.27.2017'\n",
    "re.findall( '(\\d{1,2})\\.(\\d{1,2})\\.(\\d{4})'  , label)[0]"
   ]
  },
  {
   "cell_type": "code",
   "execution_count": 38,
   "metadata": {
    "collapsed": true
   },
   "outputs": [],
   "source": [
    "digit = 9"
   ]
  },
  {
   "cell_type": "code",
   "execution_count": 39,
   "metadata": {},
   "outputs": [
    {
     "name": "stdout",
     "output_type": "stream",
     "text": [
      "09\n"
     ]
    }
   ],
   "source": [
    "print('%02d' % digit)"
   ]
  },
  {
   "cell_type": "code",
   "execution_count": 36,
   "metadata": {
    "collapsed": true
   },
   "outputs": [],
   "source": [
    "x = []"
   ]
  },
  {
   "cell_type": "code",
   "execution_count": 37,
   "metadata": {},
   "outputs": [
    {
     "ename": "IndexError",
     "evalue": "list index out of range",
     "output_type": "error",
     "traceback": [
      "\u001b[0;31m---------------------------------------------------------------------------\u001b[0m",
      "\u001b[0;31mIndexError\u001b[0m                                Traceback (most recent call last)",
      "\u001b[0;32m<ipython-input-37-1ae75c28907a>\u001b[0m in \u001b[0;36m<module>\u001b[0;34m()\u001b[0m\n\u001b[0;32m----> 1\u001b[0;31m \u001b[0mx\u001b[0m\u001b[0;34m[\u001b[0m\u001b[0;36m0\u001b[0m\u001b[0;34m]\u001b[0m\u001b[0;34m\u001b[0m\u001b[0m\n\u001b[0m",
      "\u001b[0;31mIndexError\u001b[0m: list index out of range"
     ]
    }
   ],
   "source": [
    "x[0]"
   ]
  },
  {
   "cell_type": "markdown",
   "metadata": {},
   "source": [
    "### Get url of police daily logs for all the years"
   ]
  },
  {
   "cell_type": "code",
   "execution_count": null,
   "metadata": {
    "collapsed": true
   },
   "outputs": [],
   "source": []
  },
  {
   "cell_type": "code",
   "execution_count": null,
   "metadata": {
    "collapsed": true
   },
   "outputs": [],
   "source": []
  },
  {
   "cell_type": "code",
   "execution_count": null,
   "metadata": {
    "collapsed": true
   },
   "outputs": [],
   "source": []
  },
  {
   "cell_type": "code",
   "execution_count": null,
   "metadata": {
    "collapsed": true
   },
   "outputs": [],
   "source": []
  },
  {
   "cell_type": "markdown",
   "metadata": {},
   "source": [
    "### Parse individual log pages"
   ]
  },
  {
   "cell_type": "code",
   "execution_count": 49,
   "metadata": {},
   "outputs": [
    {
     "name": "stdout",
     "output_type": "stream",
     "text": [
      "09/27/2017 {'url': 'https://www.cambridgema.gov/cpd/newsandalerts/Archives/detail.aspx?path=%2fsitecore%2fcontent%2fhome%2fcpd%2fnewsandalerts%2fArchives%2f2017%2f09%2f09272017'}\n",
      "09/26/2017 {'url': 'https://www.cambridgema.gov/cpd/newsandalerts/Archives/detail.aspx?path=%2fsitecore%2fcontent%2fhome%2fcpd%2fnewsandalerts%2fArchives%2f2017%2f09%2f09262017'}\n",
      "09/25/2017 {'url': 'https://www.cambridgema.gov/cpd/newsandalerts/Archives/detail.aspx?path=%2fsitecore%2fcontent%2fhome%2fcpd%2fnewsandalerts%2fArchives%2f2017%2f09%2f09252017'}\n",
      "09/24/2017 {'url': 'https://www.cambridgema.gov/cpd/newsandalerts/Archives/detail.aspx?path=%2fsitecore%2fcontent%2fhome%2fcpd%2fnewsandalerts%2fArchives%2f2017%2f09%2f09242017'}\n",
      "09/21/2017 {'url': 'https://www.cambridgema.gov/cpd/newsandalerts/Archives/detail.aspx?path=%2fsitecore%2fcontent%2fhome%2fcpd%2fnewsandalerts%2fArchives%2f2017%2f09%2f09212017'}\n",
      "09/20/2017 {'url': 'https://www.cambridgema.gov/cpd/newsandalerts/Archives/detail.aspx?path=%2fsitecore%2fcontent%2fhome%2fcpd%2fnewsandalerts%2fArchives%2f2017%2f09%2f09202017'}\n",
      "09/19/2017 {'url': 'https://www.cambridgema.gov/cpd/newsandalerts/Archives/detail.aspx?path=%2fsitecore%2fcontent%2fhome%2fcpd%2fnewsandalerts%2fArchives%2f2017%2f09%2f09192017'}\n",
      "09/18/2017 {'url': 'https://www.cambridgema.gov/cpd/newsandalerts/Archives/detail.aspx?path=%2fsitecore%2fcontent%2fhome%2fcpd%2fnewsandalerts%2fArchives%2f2017%2f09%2f09182017'}\n",
      "09/17/2017 {'url': 'https://www.cambridgema.gov/cpd/newsandalerts/Archives/detail.aspx?path=%2fsitecore%2fcontent%2fhome%2fcpd%2fnewsandalerts%2fArchives%2f2017%2f09%2f09172017'}\n",
      "09/14/2017 {'url': 'https://www.cambridgema.gov/cpd/newsandalerts/Archives/detail.aspx?path=%2fsitecore%2fcontent%2fhome%2fcpd%2fnewsandalerts%2fArchives%2f2017%2f09%2f09142017'}\n",
      "09/13/2017 {'url': 'https://www.cambridgema.gov/cpd/newsandalerts/Archives/detail.aspx?path=%2fsitecore%2fcontent%2fhome%2fcpd%2fnewsandalerts%2fArchives%2f2017%2f09%2f09132017'}\n",
      "09/12/2017 {'url': 'https://www.cambridgema.gov/cpd/newsandalerts/Archives/detail.aspx?path=%2fsitecore%2fcontent%2fhome%2fcpd%2fnewsandalerts%2fArchives%2f2017%2f09%2f09122017'}\n",
      "09/11/2017 {'url': 'https://www.cambridgema.gov/cpd/newsandalerts/Archives/detail.aspx?path=%2fsitecore%2fcontent%2fhome%2fcpd%2fnewsandalerts%2fArchives%2f2017%2f09%2f09112017'}\n",
      "09/10/2017 {'url': 'https://www.cambridgema.gov/cpd/newsandalerts/Archives/detail.aspx?path=%2fsitecore%2fcontent%2fhome%2fcpd%2fnewsandalerts%2fArchives%2f2017%2f09%2f09102017'}\n",
      "09/07/2017 {'url': 'https://www.cambridgema.gov/cpd/newsandalerts/Archives/detail.aspx?path=%2fsitecore%2fcontent%2fhome%2fcpd%2fnewsandalerts%2fArchives%2f2017%2f09%2f09072017'}\n",
      "09/06/2017 {'url': 'https://www.cambridgema.gov/cpd/newsandalerts/Archives/detail.aspx?path=%2fsitecore%2fcontent%2fhome%2fcpd%2fnewsandalerts%2fArchives%2f2017%2f09%2f09062017'}\n",
      "09/05/2017 {'url': 'https://www.cambridgema.gov/cpd/newsandalerts/Archives/detail.aspx?path=%2fsitecore%2fcontent%2fhome%2fcpd%2fnewsandalerts%2fArchives%2f2017%2f09%2f09052017'}\n",
      "09/04/2017 {'url': 'https://www.cambridgema.gov/cpd/newsandalerts/Archives/detail.aspx?path=%2fsitecore%2fcontent%2fhome%2fcpd%2fnewsandalerts%2fArchives%2f2017%2f09%2f09042017'}\n",
      "08/31/2017 {'url': 'https://www.cambridgema.gov/cpd/newsandalerts/Archives/detail.aspx?path=%2fsitecore%2fcontent%2fhome%2fcpd%2fnewsandalerts%2fArchives%2f2017%2f08%2f08312017'}\n",
      "08/30/2017 {'url': 'https://www.cambridgema.gov/cpd/newsandalerts/Archives/detail.aspx?path=%2fsitecore%2fcontent%2fhome%2fcpd%2fnewsandalerts%2fArchives%2f2017%2f08%2f08302017'}\n",
      "08/29/2017 {'url': 'https://www.cambridgema.gov/cpd/newsandalerts/Archives/detail.aspx?path=%2fsitecore%2fcontent%2fhome%2fcpd%2fnewsandalerts%2fArchives%2f2017%2f08%2f08292017'}\n",
      "08/28/2017 {'url': 'https://www.cambridgema.gov/cpd/newsandalerts/Archives/detail.aspx?path=%2fsitecore%2fcontent%2fhome%2fcpd%2fnewsandalerts%2fArchives%2f2017%2f08%2f08282017'}\n",
      "08/27/2017 {'url': 'https://www.cambridgema.gov/cpd/newsandalerts/Archives/detail.aspx?path=%2fsitecore%2fcontent%2fhome%2fcpd%2fnewsandalerts%2fArchives%2f2017%2f08%2f08272017'}\n",
      "08/24/2017 {'url': 'https://www.cambridgema.gov/cpd/newsandalerts/Archives/detail.aspx?path=%2fsitecore%2fcontent%2fhome%2fcpd%2fnewsandalerts%2fArchives%2f2017%2f08%2f08242017'}\n",
      "08/23/2017 {'url': 'https://www.cambridgema.gov/cpd/newsandalerts/Archives/detail.aspx?path=%2fsitecore%2fcontent%2fhome%2fcpd%2fnewsandalerts%2fArchives%2f2017%2f08%2f08232017'}\n",
      "08/22/2017 {'url': 'https://www.cambridgema.gov/cpd/newsandalerts/Archives/detail.aspx?path=%2fsitecore%2fcontent%2fhome%2fcpd%2fnewsandalerts%2fArchives%2f2017%2f08%2f08222017'}\n",
      "08/21/2017 {'url': 'https://www.cambridgema.gov/cpd/newsandalerts/Archives/detail.aspx?path=%2fsitecore%2fcontent%2fhome%2fcpd%2fnewsandalerts%2fArchives%2f2017%2f08%2f08212017'}\n",
      "08/20/2017 {'url': 'https://www.cambridgema.gov/cpd/newsandalerts/Archives/detail.aspx?path=%2fsitecore%2fcontent%2fhome%2fcpd%2fnewsandalerts%2fArchives%2f2017%2f08%2f08202017'}\n",
      "08/17/2017 {'url': 'https://www.cambridgema.gov/cpd/newsandalerts/Archives/detail.aspx?path=%2fsitecore%2fcontent%2fhome%2fcpd%2fnewsandalerts%2fArchives%2f2017%2f08%2f08172017'}\n",
      "08/16/2017 {'url': 'https://www.cambridgema.gov/cpd/newsandalerts/Archives/detail.aspx?path=%2fsitecore%2fcontent%2fhome%2fcpd%2fnewsandalerts%2fArchives%2f2017%2f08%2f08162017'}\n",
      "08/15/2017 {'url': 'https://www.cambridgema.gov/cpd/newsandalerts/Archives/detail.aspx?path=%2fsitecore%2fcontent%2fhome%2fcpd%2fnewsandalerts%2fArchives%2f2017%2f08%2f08152017'}\n",
      "08/14/2017 {'url': 'https://www.cambridgema.gov/cpd/newsandalerts/Archives/detail.aspx?path=%2fsitecore%2fcontent%2fhome%2fcpd%2fnewsandalerts%2fArchives%2f2017%2f08%2f08142017'}\n",
      "08/13/2017 {'url': 'https://www.cambridgema.gov/cpd/newsandalerts/Archives/detail.aspx?path=%2fsitecore%2fcontent%2fhome%2fcpd%2fnewsandalerts%2fArchives%2f2017%2f08%2f08132017'}\n",
      "08/10/2017 {'url': 'https://www.cambridgema.gov/cpd/newsandalerts/Archives/detail.aspx?path=%2fsitecore%2fcontent%2fhome%2fcpd%2fnewsandalerts%2fArchives%2f2017%2f08%2f08102017'}\n",
      "08/09/2017 {'url': 'https://www.cambridgema.gov/cpd/newsandalerts/Archives/detail.aspx?path=%2fsitecore%2fcontent%2fhome%2fcpd%2fnewsandalerts%2fArchives%2f2017%2f08%2f08092017'}\n",
      "08/08/2017 {'url': 'https://www.cambridgema.gov/cpd/newsandalerts/Archives/detail.aspx?path=%2fsitecore%2fcontent%2fhome%2fcpd%2fnewsandalerts%2fArchives%2f2017%2f08%2f08082017'}\n",
      "08/07/2017 {'url': 'https://www.cambridgema.gov/cpd/newsandalerts/Archives/detail.aspx?path=%2fsitecore%2fcontent%2fhome%2fcpd%2fnewsandalerts%2fArchives%2f2017%2f08%2f08072017'}\n",
      "08/06/2017 {'url': 'https://www.cambridgema.gov/cpd/newsandalerts/Archives/detail.aspx?path=%2fsitecore%2fcontent%2fhome%2fcpd%2fnewsandalerts%2fArchives%2f2017%2f08%2f08062017'}\n",
      "08/03/2017 {'url': 'https://www.cambridgema.gov/cpd/newsandalerts/Archives/detail.aspx?path=%2fsitecore%2fcontent%2fhome%2fcpd%2fnewsandalerts%2fArchives%2f2017%2f08%2f08032017'}\n",
      "08/02/2017 {'url': 'https://www.cambridgema.gov/cpd/newsandalerts/Archives/detail.aspx?path=%2fsitecore%2fcontent%2fhome%2fcpd%2fnewsandalerts%2fArchives%2f2017%2f08%2f08022017'}\n",
      "08/01/2017 {'url': 'https://www.cambridgema.gov/cpd/newsandalerts/Archives/detail.aspx?path=%2fsitecore%2fcontent%2fhome%2fcpd%2fnewsandalerts%2fArchives%2f2017%2f08%2f08012017'}\n",
      "07/31/2017 {'url': 'https://www.cambridgema.gov/cpd/newsandalerts/Archives/detail.aspx?path=%2fsitecore%2fcontent%2fhome%2fcpd%2fnewsandalerts%2fArchives%2f2017%2f07%2f07312017'}\n",
      "07/30/2017 {'url': 'https://www.cambridgema.gov/cpd/newsandalerts/Archives/detail.aspx?path=%2fsitecore%2fcontent%2fhome%2fcpd%2fnewsandalerts%2fArchives%2f2017%2f07%2f07302017'}\n"
     ]
    }
   ],
   "source": [
    "for log, url in Logs.items():\n",
    "    print(log, url)"
   ]
  },
  {
   "cell_type": "code",
   "execution_count": 50,
   "metadata": {},
   "outputs": [
    {
     "data": {
      "text/plain": [
       "'07/30/2017'"
      ]
     },
     "execution_count": 50,
     "metadata": {},
     "output_type": "execute_result"
    }
   ],
   "source": [
    "log"
   ]
  },
  {
   "cell_type": "code",
   "execution_count": 51,
   "metadata": {},
   "outputs": [
    {
     "name": "stdout",
     "output_type": "stream",
     "text": [
      "https://www.cambridgema.gov/cpd/newsandalerts/Archives/detail.aspx?path=%2fsitecore%2fcontent%2fhome%2fcpd%2fnewsandalerts%2fArchives%2f2017%2f07%2f07302017\n"
     ]
    }
   ],
   "source": [
    "url = Logs[log]['url']\n",
    "print(url)\n",
    "soup = make_soup(url)"
   ]
  },
  {
   "cell_type": "code",
   "execution_count": 52,
   "metadata": {},
   "outputs": [
    {
     "data": {
      "text/plain": [
       "<tr style=\"mso-yfti-irow: 0; mso-yfti-firstrow: yes;\">\n",
       "<td colspan=\"2\" style=\"padding: 0.75pt; border: rgb(0, 0, 0); width: 464.2pt; background-color: transparent;\">\n",
       "<p style=\"margin: 0in 0in 0pt; text-align: center; line-height: normal;\"><strong>Cambridge\n",
       "            Police Daily Log July 30<sup>th</sup>, 2017</strong></p>\n",
       "</td>\n",
       "</tr>"
      ]
     },
     "execution_count": 52,
     "metadata": {},
     "output_type": "execute_result"
    }
   ],
   "source": [
    "soup.find('tr')"
   ]
  },
  {
   "cell_type": "code",
   "execution_count": 53,
   "metadata": {},
   "outputs": [
    {
     "data": {
      "text/plain": [
       "'\\n\\ncambridge\\n            police daily log july 30th, 2017\\n\\n'"
      ]
     },
     "execution_count": 53,
     "metadata": {},
     "output_type": "execute_result"
    }
   ],
   "source": [
    "soup.find('tr').getText()."
   ]
  },
  {
   "cell_type": "code",
   "execution_count": 54,
   "metadata": {},
   "outputs": [],
   "source": [
    "rows = soup.find_all('tr')"
   ]
  },
  {
   "cell_type": "code",
   "execution_count": 56,
   "metadata": {},
   "outputs": [],
   "source": [
    "row = rows[3]"
   ]
  },
  {
   "cell_type": "code",
   "execution_count": 57,
   "metadata": {},
   "outputs": [
    {
     "data": {
      "text/plain": [
       "<tr style=\"mso-yfti-irow: 3;\">\n",
       "<td style=\"padding: 0.75pt; border: rgb(0, 0, 0); width: 160.35pt; background-color: transparent;\" valign=\"top\">\n",
       "<p style=\"margin: 0in 0in 0pt; line-height: normal;\">07/30/2017 <strong>06:45</strong><br/>\n",
       "<strong>INCIDENT </strong> 17005254<br/>\n",
       "<strong>B&amp;E NIGHTTIME FOR FELONY c266\n",
       "            S16</strong></p>\n",
       "</td>\n",
       "<td style=\"padding: 0.75pt; border: rgb(0, 0, 0); width: 302.35pt; background-color: transparent;\">\n",
       "<p style=\"margin: 0in 0in 0pt; line-height: normal;\"><strong>MASSACHUSETTS AVE</strong><br/>\n",
       "            \n",
       "            A restaurant on Massachusetts Avenue reported a night time breaking and entering\n",
       "            and larceny to Cambridge Police.</p>\n",
       "</td>\n",
       "</tr>"
      ]
     },
     "execution_count": 57,
     "metadata": {},
     "output_type": "execute_result"
    }
   ],
   "source": [
    "row"
   ]
  },
  {
   "cell_type": "code",
   "execution_count": 58,
   "metadata": {
    "collapsed": true
   },
   "outputs": [],
   "source": [
    "cells = [cell for cell in row.find_all('td') if cell.getText().strip()]"
   ]
  },
  {
   "cell_type": "code",
   "execution_count": 63,
   "metadata": {},
   "outputs": [
    {
     "data": {
      "text/plain": [
       "<td style=\"padding: 0.75pt; border: rgb(0, 0, 0); width: 302.35pt; background-color: transparent;\">\n",
       "<p style=\"margin: 0in 0in 0pt; line-height: normal;\"><strong>MASSACHUSETTS AVE</strong><br/>\n",
       "            \n",
       "            A restaurant on Massachusetts Avenue reported a night time breaking and entering\n",
       "            and larceny to Cambridge Police.</p>\n",
       "</td>"
      ]
     },
     "execution_count": 63,
     "metadata": {},
     "output_type": "execute_result"
    }
   ],
   "source": [
    "cells[1]"
   ]
  },
  {
   "cell_type": "code",
   "execution_count": 70,
   "metadata": {},
   "outputs": [
    {
     "name": "stdout",
     "output_type": "stream",
     "text": [
      "crime: misc. report type\tplace: sciarappa st\tdescription: cambridge police responded to reports of a loud party.\tcrime: b&e nighttime for felony c266 s16\tplace: massachusetts ave\tdescription: a restaurant on massachusetts avenue reported a night time breaking and entering\n",
      "            and larceny to cambridge police.\tcrime: destruction of property +$250, malicious c266 s12\tplace: cottage st\tdescription: several cambridge residents reported multiple incidents of malicious\n",
      "            destruction of property and vandalism to their motor vehicles.\tcrime: destruction of property +$250, malicious c266 s12\tplace: bowdoin st\tdescription: a bowdoin street resident reported his vehicle was damaged around 4 a.m. by\n",
      "            an unknown person while it was parked in his driveway.\tcrime: b&e daytime for felony c266 s18\tplace: cambridge st\tdescription: a somerville resident reported an attempted break in at the office where she\n",
      "            works in cambridge. the attempted break in took place on 7/29/2017 between 10\n",
      "            a.m. and 11 a.m., and the reporting party has a recording of it on her cell\n",
      "            phone. no entrance was gained but the glass in the door was broken.\tcrime: larceny under $250 c266 s30\tplace: massachusetts ave\tdescription: police responded to massachusetts avenue for a past larceny report.\tcrime: warrant arrest report\tplace: broadway\tdescription: adolfo r. ramirez, 27, of 269 broadway in cambridge, was arrested for warrants\n",
      "            out of boston district court and chelsea district court for operating a motor\n",
      "            vehicle without a license, leaving the scene of property damage, and a state\n",
      "            highway traffic violation.\tcrime: assault w/dangerous weapon c265 s15b\tplace: memorial dr\tdescription: cambridge police responded to a memorial drive residence for a report of an\n",
      "            assault in progress involving a knife. an investigation revealed that two\n",
      "            female parties got into an argument which resulted in one using a kitchen\n",
      "            knife against the other, causing a laceration to the facial area. the suspect\n",
      "            fled the scene prior to police arrival. the victim was transported to the\n",
      "            hospital to be evaluated for injuries.\tcrime: larceny under $250 c266 s30\tplace: bishop allen dr\tdescription: a resident of somerville reported her bicycle was stolen from prospect street\n",
      "            near bishop allen drive.\tcrime: destruction of property +$250, malicious c266 s12\tplace: pleasant st\tdescription: a malden resident reported an unknown person damaged the driver’s side mirror\n",
      "            of her motor vehicle while it was parked on pleasant street.\tcrime: b&e for misdemeanor c266 s16a\tplace: cambridgepark dr\tdescription: officers responded to cambridge park drive for a past breaking and entering.\n",
      "            a report was taken.\tcrime: leave scene of property damage c90 s24\tplace: hampshire st\tdescription: a marlborough resident reported a green honda civic attempted to illegally\n",
      "            pass her on the right side, via the bike lane, and struck her motor vehicle,\n",
      "            causing damage. the driver of the honda civic left the scene without\n",
      "            exchanging information.\tcrime: warrant arrest report\tplace: brattle st\tdescription: kelli loper, 44, of 240 albany street in cambridge, was placed under arrest\n",
      "            due to a warrant out of cambridge district court for assault and battery.\tcrime: larceny under $250 c266 s30\tplace: green st\tdescription: cambridge police responded to a green street residence in regards to a stolen\n",
      "            cell phone.\tcrime: motor veh, larceny of c266 s28\tplace: broadway\tdescription: a chelsea resident reported that between 7/30/17 at 3:30 p.m. and 7/31/17 at\n",
      "            12:15 a.m., an unknown person(s) stole their motorcycle which was locked\n",
      "            outside of broadway.\tcrime: a&b c265 s13a\tplace: cardinal medeiros ave\tdescription: a cambridge resident reported that she was assaulted by a known woman while\n",
      "            in a cambridge park.\tcrime: suspicious package / eod investigation\tplace: main st\tdescription: cambridge police received a call of an unattended bag on main street. the explosive\n",
      "            ordinance unit and their k9 cleared the bag and determined it not to be\n",
      "            dangerous.\tcrime: unlicensed operation of mv c90 s10\tplace: blanche st\tdescription: cambridge police conducted a motor vehicle stop for failure to stop at a red\n",
      "            light. the driver was summonsed for operating without a driver's license,\n",
      "            failure to stop for red light, and failure to wear a seatbelt. the vehicle\n",
      "            owner was summonsed for allowing an unlicensed operator and failure to report\n",
      "            change of address to the ma rmv.\tcrime: b&e mv / boat nighttime for felony c266 s16\tplace: oxford st\tdescription: police responded to oxford street for a past breaking and entering of a motor\n",
      "            vehicle report.\tcrime: misc. report type\tplace: fairmont st\tdescription: a sick raccoon was euthanized in the rear of a fairmont st building.\tcrime: leave scene of property damage c90 s24\tplace: boardman st\tdescription: cambridge police responded to boardman street in regards to a past hit and\n",
      "            run crash.\tcrime: threat to commit crime c275 s2\tplace: garden st\tdescription: cambridge police responded to garden street for a threats report.\tcrime: misc. report type\tplace: bishop allen\tdescription: cambridge police responded to a bishop allen residence for an attempted flim\n",
      "            flam report.\tcrime: larceny over $250 c266 s30\tplace: cambridgeside pl\tdescription: cambridge police responded to a cambridgeside place business for a report of\n",
      "            a larceny.\tcrime: threat to commit crime c275 s2\tplace: winthrop st\tdescription: two employees were threatened by an intoxicated individual while they were\n",
      "            working at a jfk street business.\tcrime: larceny over $250 c266 s30\tplace: walden st\tdescription: officers were dispatched to walden street for a report of a stolen cell phone.\tcrime: warrant arrest report\tplace: temple st\tdescription: cambridge police observed a female with active warrants on bishop allen\n",
      "            drive. lucilia amado 45, 7 temple street, cambridge, was placed under arrest for\n",
      "            warrants out of salem district court and cambridge district court for larceny\n",
      "            over $250.\tcrime: leave scene of property damage c90 s24\tplace: union pl\tdescription: cambridge police responded to union place due to a report of a hit and run\n",
      "            causing property damage.\tcrime: larceny over $250 c266 s30\tplace: jfk st\tdescription: cambridge police responded to jfk street for a report of a larceny in progress.\n",
      "            ronell silas, 18, 93 willowood street, dorchester, was placed under arrest\n",
      "            and charged with larceny over $250. silas was charged after he was witnessed\n",
      "            by two individuals cutting a lock off a bike and taking it across the street.\tcrime: warrant arrest report\tplace: jfk st\tdescription: cambridge police placed davongie stone, 20, 2 brookline street, boston, under\n",
      "            arrest for a warrant out of boston district court for threatening to commit a\n",
      "            crime and assault and battery.\tcrime: warrant arrest report\tplace: massachusetts ave\tdescription: james kirylo, 52, 240 albany street, was observed in central square and placed\n",
      "            under arrest for a warrant out of cambridge district court for assault and\n",
      "            battery and larceny over $250.\tcrime: b&e nighttime for felony c266 s16\tplace: huron ave\tdescription: cambridge police responded to a golf course on huron avenue for a report of a\n",
      "            past breaking and entering.\tcrime: larceny over $250 c266 s30\tplace: massachusetts ave\tdescription: an employer of cambridge reported an employee may be responsible for stealing\n",
      "            money from the office. the employer noticed money first being taken on\n",
      "            07/12/17.\tcrime: larceny over $250 by false pretense c266 s34\tplace: franklin st\tdescription: a cambridge resident called police to report that she was a victim of an online\n",
      "            scam. a report was filed.\tcrime: attempt to commit crime\tplace: callender st\tdescription: a resident of cambridge reported a flim flam.\tcrime: threat to commit crime c275 s2\tplace: windsor st\tdescription: cambridge police responded to a windsor street address after a cambridge\n",
      "            resident called police after a party known to him made threats against the\n",
      "            caller.\tcrime: larceny over $250 by false pretense c266 s34\tplace: walden st\tdescription: a cambridge resident reported she was swindled out of $4200 by a suspicious\n",
      "            person claiming to have property for rent.\tcrime: larceny over $250 by false pretense c266 s34\tplace: sixth st\tdescription: a new york resident reported an apartment scam.\tcrime: larceny under $250 c266 s30\tplace: massachusetts ave\tdescription: cambridge police responded to a business on massachusetts avenue for a report\n",
      "            of a past larceny.\tcrime: leave scene of property damage c90 s24\tplace: cambridgepark dr\tdescription: cambridge police was dispatched to cambridgepark drive for a past hit and run\n",
      "            motor vehicle crash.\tcrime: identity fraud\tplace: museum way\tdescription: a cambridge resident reported that someone is using her ssn.\tcrime: disturbing the peace c272 s53\tplace: cushing st\tdescription: west cambridge residents reported an impaired male driving around the\n",
      "            neighborhood while playing loud, offensive music and making threats to\n",
      "            residents.\tcrime: threat to commit crime c275 s2\tplace: massachusetts ave\tdescription: cambridge police responded to the area of massachusetts avenue in harvard square\n",
      "            for a suspicious person, possibly in possession of a knife, who threatened\n",
      "            another party.\tcrime: deface property c266 s126\tplace: st sauveur ct\tdescription: a watertown resident reported his\n",
      "            motorcycle was damaged while parked on cushing street.\tcrime: larceny from building c266 s20\tplace: white st\tdescription: cambridge police responded to a white street business for a report of a larceny\n",
      "            from a building.\tcrime: drug, possess to distrib class d c94c s32c\tplace: market st\tdescription: members of the cambridge police special investigations unit arrested ezequiel\n",
      "            netzahualt, 22, 269 broadway, cambridge and charged him with distribution of\n",
      "            a class d substance, possession with intent to distribute a class d\n",
      "            substance, possession with intent to distribute a class b substance, and\n",
      "            unlawful possession of ammunition. also arrested and charged with possession\n",
      "            with intent to distribute a class d substance was alemsged berhde, 23, 8\n",
      "            marcella street, cambridge. netzahualt and berhde were observed in the\n",
      "            parking lot of linwood court, engaging in what was believed to be a drug\n",
      "            transaction. upon being stopped, berhde was found to be in possession of\n",
      "            approximately 20 grams of suspected marijuana and a digital scale.\n",
      "            netzahualt, upon being stopped, was found to be in possession of\n",
      "            approximately 450 grams of suspected marijuana, approximately 7 grams of\n",
      "            suspected cocaine, $960 cash, and a number of digital scales.\tcrime: assault & battery (a&b), aggravated c265 s13a/d\tplace: brattle st\tdescription: cambridge police responded to the\n",
      "            area of brattle street for a past assault.\t"
     ]
    }
   ],
   "source": [
    "rows = []\n",
    "for row in soup.find_all('tr'):\n",
    "    text = row.getText().lower()\n",
    "    try:\n",
    "        if ('incident' in text) or ('arrest' in text):\n",
    "            cells = [cell for cell in row.find_all('td') if cell.getText().strip()]\n",
    "            for i, cell in enumerate(cells):\n",
    "                text = cell.getText().strip()\n",
    "                if i == 0:\n",
    "                    incident_number = re.findall('(\\d{8})', text)[-1]\n",
    "                    text = text.split(incident_number)\n",
    "                    crime = text[-1]\n",
    "                    crime = crime.strip().lower()\n",
    "                    crime = re.sub('\\s+', ' ', crime)\n",
    "                    crime = re.sub('\\n',' ', crime)\n",
    "                    if len(crime) == 0:\n",
    "                        crime = 'unclassified'\n",
    "                    print('crime: %s' % crime, end = '\\t')\n",
    "                elif i == 1:\n",
    "                    place = cell.find('strong').getText()\n",
    "                    description = text[len(place):]\n",
    "                    place = place.strip().lower()\n",
    "                    description = description.strip().lower()\n",
    "                    print('place: %s' % place, end = '\\t')\n",
    "                    print('description: %s' % description, end = '\\t')\n",
    "    \n",
    "            if (len(crime)>0) & (len(place)>0)& (len(description)>0): \n",
    "                    rows.append((crime,place, description))\n",
    "    except:\n",
    "        print('Some error occurred:', sys.exc_info()[0])"
   ]
  },
  {
   "cell_type": "markdown",
   "metadata": {},
   "source": [
    "___"
   ]
  },
  {
   "cell_type": "code",
   "execution_count": 72,
   "metadata": {},
   "outputs": [
    {
     "data": {
      "text/plain": [
       "('misc. report type',\n",
       " 'sciarappa st',\n",
       " 'cambridge police responded to reports of a loud party.')"
      ]
     },
     "execution_count": 72,
     "metadata": {},
     "output_type": "execute_result"
    }
   ],
   "source": [
    "rows[0]"
   ]
  },
  {
   "cell_type": "code",
   "execution_count": 73,
   "metadata": {},
   "outputs": [
    {
     "data": {
      "text/plain": [
       "('destruction of property +$250, malicious c266 s12',\n",
       " 'cottage st',\n",
       " 'several cambridge residents reported multiple incidents of malicious\\n            destruction of property and vandalism to their motor vehicles.')"
      ]
     },
     "execution_count": 73,
     "metadata": {},
     "output_type": "execute_result"
    }
   ],
   "source": [
    "rows[2]"
   ]
  },
  {
   "cell_type": "code",
   "execution_count": null,
   "metadata": {
    "collapsed": true
   },
   "outputs": [],
   "source": []
  },
  {
   "cell_type": "code",
   "execution_count": null,
   "metadata": {
    "collapsed": true
   },
   "outputs": [],
   "source": []
  }
 ],
 "metadata": {
  "kernelspec": {
   "display_name": "Python 3",
   "language": "python",
   "name": "python3"
  },
  "language_info": {
   "codemirror_mode": {
    "name": "ipython",
    "version": 3
   },
   "file_extension": ".py",
   "mimetype": "text/x-python",
   "name": "python",
   "nbconvert_exporter": "python",
   "pygments_lexer": "ipython3",
   "version": "3.9.19"
  },
  "latex_envs": {
   "LaTeX_envs_menu_present": true,
   "autocomplete": true,
   "bibliofile": "biblio.bib",
   "cite_by": "apalike",
   "current_citInitial": 1,
   "eqLabelWithNumbers": true,
   "eqNumInitial": 1,
   "hotkeys": {
    "equation": "Ctrl-E",
    "itemize": "Ctrl-I"
   },
   "labels_anchors": false,
   "latex_user_defs": false,
   "report_style_numbering": false,
   "user_envs_cfg": false
  }
 },
 "nbformat": 4,
 "nbformat_minor": 1
}
