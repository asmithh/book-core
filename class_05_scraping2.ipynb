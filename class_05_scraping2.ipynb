{
 "cells": [
  {
   "cell_type": "markdown",
   "id": "69d132f0",
   "metadata": {},
   "source": [
    "# Class 5: Scraping Web Data 2 - Creating a Network from Scraped Data\n"
   ]
  },
  {
   "cell_type": "code",
   "execution_count": null,
   "id": "ece457db",
   "metadata": {},
   "outputs": [],
   "source": []
  }
 ],
 "metadata": {
  "kernelspec": {
   "display_name": "Python 3",
   "language": "python",
   "name": "python3"
  },
  "language_info": {
   "codemirror_mode": {
    "name": "ipython",
    "version": 3
   },
   "file_extension": ".py",
   "mimetype": "text/x-python",
   "name": "python",
   "nbconvert_exporter": "python",
   "pygments_lexer": "ipython3",
   "version": "3.9.19"
  }
 },
 "nbformat": 4,
 "nbformat_minor": 5
}
