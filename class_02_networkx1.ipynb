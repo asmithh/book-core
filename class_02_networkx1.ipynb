{
 "cells": [
  {
   "cell_type": "markdown",
   "metadata": {},
   "source": [
    "# Class 2: Introduction to Networkx 1 — Loading Data, Basic Statistics\n",
    "Goal of today's class:\n",
    "1. Introduce basic network properties\n",
    "2. Show various network data input/output approaches\n",
    "3. Calculate basic network properties from scratch (and their `networkx` analogs)\n",
    "__________"
   ]
  },
  {
   "cell_type": "markdown",
   "metadata": {},
   "source": [
    "## Basic Definitions\n",
    "- An ___undirected graph___ $G$ is defined by a pair of sets $G = (V,E)$, where $V$ is non-empty countable set of elements (i.e., _vertices_ or _nodes_) and $E$ is a set of _non-ordered_ pairs of different vertices (i.e., _edges_ or _links_)."
   ]
  },
  {
   "cell_type": "markdown",
   "metadata": {},
   "source": [
    "- A ___directed graph___ (or digraph) is defined by a pair of sets $G = (V,E)$, where $V$ is non-empty countable set of elements (i.e., _vertices_ or _nodes_) and $E$ is a set of _ordered_ pairs of different vertices (i.e., _edges_ or _links_)."
   ]
  },
  {
   "cell_type": "markdown",
   "metadata": {},
   "source": [
    "Let us denote with $N$ the __total number of vertices__ of the graph (i.e., the cardinality of the set $V$, also called the __order__ of the graph) and \n",
    "with $M$ the __total number of edges__ of the graph (i.e. the cardinality of the set $E$)."
   ]
  },
  {
   "cell_type": "markdown",
   "metadata": {},
   "source": [
    "Graph __density__ is defined as the number of existing edges of graph $G$ divided by the maximal possible number of edges:\n",
    "* in an _undirected graph_, density: $\\dfrac{2 M}{N(N-1)} $\n",
    "\n",
    "* in an _directed graph_, density: $ \\dfrac{M}{N(N-1)} $"
   ]
  },
  {
   "cell_type": "markdown",
   "metadata": {},
   "source": [
    "## Network Representations\n",
    "\n",
    "Following the basic definitions listed above, we need only two pieces of information to represent a network: a list of objects that we can use to represent the nodes in the graph and a list of node pairs telling us which nodes are connected. In particular, we say that two vertices $i$ and $j$ are adjacent or connected or (nearest) neighbors whenever there exists an edge $e_{i,j} \\in E$ joining them. However, if we exclude for a moment the case in which we have nodes with no connections (i.e., isolated nodes), we can further simplify our network representation task and use only one object to represent a network."
   ]
  },
  {
   "cell_type": "markdown",
   "metadata": {},
   "source": [
    "In the case of an __undirected graph__, an __edgelist__ is defined as a set of _non-ordered node pairs_ where each pair represents a link between two nodes. \n",
    "\n",
    "\n",
    "For example, let us consider the undirected network in the previous Figure. The edgelist for that network is: $\\left\\{ (0,1),(1,2),(0,3),(3,1),(0,2),(2,3),(4,5),(1,5),(4,0) \\right\\}$. \n",
    "\n",
    "\n",
    "Instead, in the case of a __directed graph__, the edgelist is going to be a set of _ordered node pairs_ where the information regarding the directionality of the connection is captured by the fact that the first element of the pair represents the _source node_ while the second one represents the _target node_. \n",
    "\n",
    "\n",
    "For example, if we consider the directed network in the previous Figure, the edgelist of the network is: $\\left\\{ (0,1),(2,5),(0,5),(3,2),(1,2),(1,3),(4,5),(2,5),(4,0) \\right\\}$."
   ]
  },
  {
   "cell_type": "markdown",
   "metadata": {},
   "source": [
    "A graph $G=(V,E)$ can be represented, from a mathematical standpoint, by an $N\\times N$ ___adjancency matrix___ $A$.\n",
    "\n",
    "$$ A = \n",
    " \\begin{pmatrix}\n",
    "  a_{1,1} & a_{1,2} & \\cdots & a_{1,N} \\\\\n",
    "  a_{2,1} & a_{2,2} & \\cdots & a_{2,N} \\\\\n",
    "  \\vdots  & \\vdots  & \\ddots & \\vdots  \\\\\n",
    "  a_{N,1} & a_{N,2} & \\cdots & a_{N,N} \n",
    " \\end{pmatrix},$$\n",
    " \n",
    "where $\\forall i,j \\in V$, \n",
    "$$a_{i,j} =\n",
    "  \\begin{cases}\n",
    "    1       & \\quad \\text{if } e_{i,j} \\in E\\\\\n",
    "    0  & \\quad \\text{if } e_{i,j} \\notin E\\\\\n",
    "  \\end{cases}$$\n",
    "  \n",
    "  \n",
    "In an _undirected graph_, the adjacency matrix $A$ is symmetric with $a_{i,j} == a_{j,i}$; while in a _directed graph_ the elements $a_{i,j}$ generally differ from $a_{j,i}$ since the presence of an edge from node $i$ to node $j$ does not necessarily imply the existence of an edge from node $j$ to node $i$."
   ]
  },
  {
   "cell_type": "markdown",
   "metadata": {},
   "source": [
    "In additional, the adjacency matrix format can be easily extended to represent weighted graphs where a __weighted graph__ (undirected or directed) is a network in which we associate a value (usually a real number) to each edge. Therefore, we can represent a __weighted graph__ $G=(V,E,\\Omega)$ using a $N\\times N$ ___weighted adjancency matrix___ $W$.\n",
    "\n",
    "$$ W = \n",
    "\\begin{pmatrix}\n",
    "    w_{1,1} & w_{1,2} & \\cdots & w_{1,N} \\\\\n",
    "    w_{2,1} & w_{2,2} & \\cdots & w_{2,N} \\\\\n",
    "    \\vdots  & \\vdots  & \\ddots & \\vdots  \\\\\n",
    "    w_{N,1} & w_{N,2} & \\cdots & w_{N,N} \n",
    "\\end{pmatrix},\n",
    "$$\n",
    " \n",
    "where $\\forall i,j \\in V$,\n",
    "$$w_{i,j} =\n",
    "\\begin{cases}\n",
    "    w    & \\quad \\text{if } e_{i,j} \\in E\\\\\n",
    "    0    & \\quad \\text{if } e_{i,j} \\notin E\\\\\n",
    "\\end{cases}\n",
    "$$"
   ]
  },
  {
   "cell_type": "markdown",
   "metadata": {},
   "source": [
    "However, working with an adjacency matrix is not always ideal. Indeed, the price we pay to loop over one node's neighbors is high (i.e. $O(N)$) and it can be quite impractical when dealing with large but __sparse graphs__. I.e., networks for which the number of edges $|E|$ in the graph scales as $|E| \\sim N^\\alpha$ with $\\alpha <2$. \n",
    "\n",
    "For this reason, we can also consider storing a network using an __adjacency list__ rather than and adjacency matrix. In practice, this amounts to store a graph as a set of lists where each list is associated to each node of the graph and it contains the list of its neighbors.  For example, in following Table we show how an adjacency list might look like."
   ]
  },
  {
   "cell_type": "markdown",
   "metadata": {},
   "source": [
    "| Vertex | Neighbors   |\n",
    "|------|------|\n",
    "|   0  | [1,3] |\n",
    "|   1  | [0,2] |\n",
    "|   2  | [1] |\n",
    "|   3  | [0] |\n"
   ]
  },
  {
   "cell_type": "markdown",
   "metadata": {},
   "source": [
    "## Network Representations in Python"
   ]
  },
  {
   "cell_type": "code",
   "execution_count": null,
   "metadata": {},
   "outputs": [],
   "source": [
    "edgelist_undirected = [(0,1),(1,2),(0,3),(3,1),(0,2),(2,3),(4,5),(1,5),(4,0)] # using a list of tuples"
   ]
  },
  {
   "cell_type": "code",
   "execution_count": null,
   "metadata": {},
   "outputs": [],
   "source": [
    "edgelist_undirected = {(0,1),(1,2),(0,3),(3,1),(0,2),(2,3),(4,5),(1,5),(4,0)} # using a set of tuples"
   ]
  },
  {
   "cell_type": "code",
   "execution_count": null,
   "metadata": {},
   "outputs": [],
   "source": [
    "edgelist_undirected.add((0,1))"
   ]
  },
  {
   "cell_type": "code",
   "execution_count": null,
   "metadata": {},
   "outputs": [],
   "source": [
    "edgelist_undirected"
   ]
  },
  {
   "cell_type": "code",
   "execution_count": null,
   "metadata": {},
   "outputs": [],
   "source": [
    "edgelist_undirected.discard((0,5))"
   ]
  },
  {
   "cell_type": "code",
   "execution_count": null,
   "metadata": {},
   "outputs": [],
   "source": [
    "edgelist_undirected.remove((0,5))"
   ]
  },
  {
   "cell_type": "markdown",
   "metadata": {},
   "source": [
    "_________"
   ]
  },
  {
   "cell_type": "markdown",
   "metadata": {},
   "source": [
    "An __adjacency matrix__ can be implemented in Python using the array datatype provided by the NumPy library which allows us to define two dimensional arrays. Alternatively, as we are going to see in more details in the following, we could also use sparse matrices as implemented by the SciPy library. Using a NumPy array, the graph corresponding to the edgelist provided above can be defined as follows:"
   ]
  },
  {
   "cell_type": "code",
   "execution_count": 11,
   "metadata": {},
   "outputs": [
    {
     "name": "stdout",
     "output_type": "stream",
     "text": [
      "[[0 1 1 1 1 0]\n",
      " [1 0 1 1 0 1]\n",
      " [1 1 0 1 0 0]\n",
      " [1 1 1 0 0 0]\n",
      " [1 0 0 0 0 1]\n",
      " [0 1 0 0 1 0]]\n"
     ]
    }
   ],
   "source": [
    "import numpy as np\n",
    "A = np.array([[0,1,1,1,1,0], [1,0,1,1,0,1], [1,1,0,1,0,0], [1,1,1,0,0,0], [1,0,0,0,0,1], [0,1,0,0,1,0]])\n",
    "print(A)"
   ]
  },
  {
   "cell_type": "code",
   "execution_count": 13,
   "metadata": {},
   "outputs": [],
   "source": [
    "edgelist_undirected = {(0,1),(1,2),(0,3),(3,1),(0,2),(2,3),(4,5),(1,5),(4,0)}\n",
    "edgelist_directed = {(0,1),(2,5),(0,5),(3,2),(1,2),(1,3),(4,5),(2,5),(4,0)}"
   ]
  },
  {
   "cell_type": "code",
   "execution_count": 14,
   "metadata": {},
   "outputs": [
    {
     "data": {
      "text/plain": [
       "{0, 1, 2, 3, 4, 5}"
      ]
     },
     "execution_count": 14,
     "metadata": {},
     "output_type": "execute_result"
    }
   ],
   "source": [
    "set([node for tup in edgelist_undirected for node in tup])"
   ]
  },
  {
   "cell_type": "code",
   "execution_count": null,
   "metadata": {},
   "outputs": [],
   "source": []
  },
  {
   "cell_type": "code",
   "execution_count": null,
   "metadata": {},
   "outputs": [],
   "source": [
    "source_nodes, target_nodes = zip(*edgelist_directed)"
   ]
  },
  {
   "cell_type": "code",
   "execution_count": null,
   "metadata": {},
   "outputs": [],
   "source": [
    "source_nodes"
   ]
  },
  {
   "cell_type": "code",
   "execution_count": null,
   "metadata": {},
   "outputs": [],
   "source": [
    "target_nods"
   ]
  },
  {
   "cell_type": "code",
   "execution_count": null,
   "metadata": {},
   "outputs": [],
   "source": [
    "A_undirected = np.zeros((N_undirected,N_undirected), dtype = int )\n",
    "for node_i, node_j in edgelist_undirected:\n",
    "    A_undirected[node_i,node_j] = 1\n",
    "    A_undirected[node_j,node_i] = 1"
   ]
  },
  {
   "cell_type": "code",
   "execution_count": null,
   "metadata": {},
   "outputs": [],
   "source": [
    "A_directed = np.zeros((N_directed,N_directed), dtype=int)\n",
    "for node_i, node_j in edgelist_directed:\n",
    "    A_directed[node_i,node_j] = 1"
   ]
  },
  {
   "cell_type": "code",
   "execution_count": null,
   "metadata": {},
   "outputs": [],
   "source": [
    "A_undirected = np.zeros((N_undirected,N_undirected), dtype=int)\n",
    "nodes_i, nodes_j = zip(*edgelist_undirected)\n",
    "A_undirected[nodes_i,nodes_j] = 1\n",
    "A_undirected[nodes_j,nodes_i] = 1"
   ]
  },
  {
   "cell_type": "code",
   "execution_count": null,
   "metadata": {},
   "outputs": [],
   "source": [
    "A_directed.nonzero()"
   ]
  },
  {
   "cell_type": "code",
   "execution_count": null,
   "metadata": {},
   "outputs": [],
   "source": []
  },
  {
   "cell_type": "code",
   "execution_count": null,
   "metadata": {},
   "outputs": [],
   "source": [
    "edgelist_directed = set(zip(*A_directed.nonzero()))\n"
   ]
  },
  {
   "cell_type": "code",
   "execution_count": null,
   "metadata": {},
   "outputs": [],
   "source": [
    "edgelist_undirected = set(zip(*np.triu(A_undirected).nonzero()))\n"
   ]
  },
  {
   "cell_type": "code",
   "execution_count": null,
   "metadata": {},
   "outputs": [],
   "source": []
  },
  {
   "cell_type": "code",
   "execution_count": null,
   "metadata": {},
   "outputs": [],
   "source": [
    "adjacency_undirected = {}\n",
    "for node in range(N_undirected): # remember, N is the number of nodes in the graph\n",
    "    adjacency_undirected[node] = set()\n",
    "\n",
    "for node_i, node_j in edgelist_undirected:\n",
    "    adjacency_undirected[node_i].add(node_j)    \n",
    "    adjacency_undirected[node_j].add(node_i)"
   ]
  },
  {
   "cell_type": "code",
   "execution_count": null,
   "metadata": {},
   "outputs": [],
   "source": []
  },
  {
   "cell_type": "code",
   "execution_count": null,
   "metadata": {},
   "outputs": [],
   "source": [
    "adjacency_directed_out = {}\n",
    "adjacency_directed_in = {}\n",
    "for node in range(N_directed): # remember, N is the number of nodes in the graph\n",
    "    adjacency_directed_out[node] = set()\n",
    "    adjacency_directed_in[node] = set()\n",
    "\n",
    "for source_node, target_node in edgelist_directed:\n",
    "    adjacency_directed_out[source_node].add(target_node)    \n",
    "    adjacency_directed_in[target_node].add(source_node)    \n",
    "    "
   ]
  },
  {
   "cell_type": "code",
   "execution_count": null,
   "metadata": {},
   "outputs": [],
   "source": []
  },
  {
   "cell_type": "code",
   "execution_count": null,
   "metadata": {},
   "outputs": [],
   "source": [
    "adjacency_directed_both = {}\n",
    "for node in range(N_directed): # remember, N is the number of nodes in the graph\n",
    "    adjacency_directed_both[node] = {'in':set(), 'out':set()}\n",
    "\n",
    "for source_node, target_node in edgelist_directed:\n",
    "    adjacency_directed_both[source_node]['out'].add(target_node)    \n",
    "    adjacency_directed_both[target_node]['in'].add(source_node)    \n",
    "    "
   ]
  },
  {
   "cell_type": "code",
   "execution_count": null,
   "metadata": {},
   "outputs": [],
   "source": []
  },
  {
   "cell_type": "code",
   "execution_count": null,
   "metadata": {},
   "outputs": [],
   "source": []
  },
  {
   "cell_type": "markdown",
   "metadata": {},
   "source": [
    "## `networkx`"
   ]
  },
  {
   "cell_type": "code",
   "execution_count": null,
   "metadata": {},
   "outputs": [],
   "source": []
  },
  {
   "cell_type": "code",
   "execution_count": null,
   "metadata": {},
   "outputs": [],
   "source": []
  },
  {
   "cell_type": "code",
   "execution_count": null,
   "metadata": {},
   "outputs": [],
   "source": []
  },
  {
   "cell_type": "code",
   "execution_count": null,
   "metadata": {},
   "outputs": [],
   "source": []
  },
  {
   "cell_type": "code",
   "execution_count": null,
   "metadata": {},
   "outputs": [],
   "source": []
  },
  {
   "cell_type": "code",
   "execution_count": null,
   "metadata": {},
   "outputs": [],
   "source": []
  },
  {
   "cell_type": "code",
   "execution_count": null,
   "metadata": {},
   "outputs": [],
   "source": []
  },
  {
   "cell_type": "code",
   "execution_count": null,
   "metadata": {},
   "outputs": [],
   "source": []
  },
  {
   "cell_type": "code",
   "execution_count": null,
   "metadata": {},
   "outputs": [],
   "source": []
  },
  {
   "cell_type": "code",
   "execution_count": null,
   "metadata": {},
   "outputs": [],
   "source": []
  },
  {
   "cell_type": "code",
   "execution_count": null,
   "metadata": {},
   "outputs": [],
   "source": []
  },
  {
   "cell_type": "code",
   "execution_count": null,
   "metadata": {},
   "outputs": [],
   "source": []
  },
  {
   "cell_type": "code",
   "execution_count": null,
   "metadata": {},
   "outputs": [],
   "source": []
  },
  {
   "cell_type": "code",
   "execution_count": null,
   "metadata": {},
   "outputs": [],
   "source": []
  },
  {
   "cell_type": "code",
   "execution_count": null,
   "metadata": {},
   "outputs": [],
   "source": []
  },
  {
   "cell_type": "code",
   "execution_count": null,
   "metadata": {},
   "outputs": [],
   "source": []
  },
  {
   "cell_type": "code",
   "execution_count": null,
   "metadata": {},
   "outputs": [],
   "source": []
  }
 ],
 "metadata": {
  "kernelspec": {
   "display_name": "Python 3",
   "language": "python",
   "name": "python3"
  },
  "language_info": {
   "codemirror_mode": {
    "name": "ipython",
    "version": 3
   },
   "file_extension": ".py",
   "mimetype": "text/x-python",
   "name": "python",
   "nbconvert_exporter": "python",
   "pygments_lexer": "ipython3",
   "version": "3.8.5"
  }
 },
 "nbformat": 4,
 "nbformat_minor": 5
}
