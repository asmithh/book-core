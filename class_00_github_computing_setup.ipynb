{
 "cells": [
  {
   "cell_type": "markdown",
   "id": "6062e9c7",
   "metadata": {},
   "source": [
    "# Class 0: Introduction to the Course, Github, Computing Setup"
   ]
  },
  {
   "cell_type": "markdown",
   "id": "2cfb0774",
   "metadata": {},
   "source": [
    "## How The Course Works\n",
    "### Expectations\n",
    "### Grading\n",
    "### What You'll Hopefully Learn\n",
    "\n",
    "## GitHub\n",
    "### What is GitHub?\n",
    "GitHub is a website that implements `git`. `git` is a piece of open-source software that does distributed version control. This is really important for big teams making changes simultaneously to a large codebase. Git lets people document and track their code, and its various versions, so they can collaborate more efficiently. \n",
    "\n",
    "On Github, you'll keep your code in what's called a *repository*. That's a chunk of code that all works together. You can download a repository to your own computer, make changes to it, and *push* them to the repository on GitHub. Then your changes will be reflected in the version of the repository that's on GitHub, and anyone can download the version with your changes in it. \n",
    "\n",
    "Our class has a repository that's available [here](https://github.com/asmithh/network-science-data-book). You will download a *fork* of the repository to make your very own. Occasionally we'll update the repository and you'll need to incorporate the updates; we'll explain how to do that in a second. \n",
    "\n",
    "#### Forking and Maintaining The Class Repository\n",
    "First, let's fork the repository. Go to the repository GitHub link. You'll see a little icon on the top left that says \"Fork\". Click on it:\n",
    "![a screenshot of the github repo with fork command](images/github_fork_screenshot.png)\n",
    "\n",
    "Once you've clicked the fork button, you'll get this screen:\n",
    "\n",
    "![a screenshot of fork creation](images/github_create_fork_screen.png)\n",
    "Make sure you're listed as the owner and create the fork. \n",
    "Then you'll clone your fork in the Discovery terminal using the URL obtained via the green `Code` buttion:\n",
    "![a screenshot of the clone button](images/github_clone_repo.png)\n",
    "\n",
    "\n",
    "`git clone [URL YOU COPIED]`\n",
    "\n",
    "Now let's set up a way to get updates from the original repo. Let's `cd` into the repo: \n",
    "`cd REPO_FILEPATH`\n",
    "\n",
    "`git remote add upstream git@github.com:asmithh/network-science-data-book.git`\n",
    "\n",
    "`git fetch upstream`\n",
    "\n",
    "`git checkout main`\n",
    "\n",
    "`git merge upstream/main`\n",
    "\n",
    "\n",
    "This sets up the original version of the GitHub repo as an upstream source. Now we can, at any point, fetch the upstream source and merge it into our main branch, which is the main branch of your forked repository. You'll be working in this forked repository in your `/courses/students/USERNAME` directory throughout the course. If you want to sync your forked version with the original version (as we will be adding new notebooks over the course of the class), you can run the following commands:\n",
    "\n",
    "`git fetch upstream`\n",
    "\n",
    "`git checkout main`\n",
    "\n",
    "`git merge upstream/main`\n",
    "\n",
    "(Here's a [StackOverflow thread]((https://stackoverflow.com/questions/7244321/how-do-i-update-or-sync-a-forked-repository-on-github)) explaining this in more detail.)\n",
    "\n",
    "## Discovery Cluster\n",
    "### Our Very Own Partition\n",
    "### Jupyter Notebook Server\n",
    "### Virtual Environment"
   ]
  },
  {
   "cell_type": "code",
   "execution_count": null,
   "id": "394a9102",
   "metadata": {},
   "outputs": [],
   "source": []
  }
 ],
 "metadata": {
  "kernelspec": {
   "display_name": "Python 3 (ipykernel)",
   "language": "python",
   "name": "python3"
  },
  "language_info": {
   "codemirror_mode": {
    "name": "ipython",
    "version": 3
   },
   "file_extension": ".py",
   "mimetype": "text/x-python",
   "name": "python",
   "nbconvert_exporter": "python",
   "pygments_lexer": "ipython3",
   "version": "3.12.4"
  }
 },
 "nbformat": 4,
 "nbformat_minor": 5
}
