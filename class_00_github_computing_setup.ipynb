{
 "cells": [
  {
   "cell_type": "markdown",
   "id": "6062e9c7",
   "metadata": {},
   "source": [
    "# Class 0: Introduction to the Course, Github, Computing Setup"
   ]
  },
  {
   "cell_type": "markdown",
   "id": "2cfb0774",
   "metadata": {},
   "source": [
    "## How The Course Works\n",
    "### Expectations\n",
    "### Grading\n",
    "### What You'll Hopefully Learn\n",
    "\n",
    "## Github\n",
    "### What is Github?\n",
    "### Forking and Maintaining The Class Repository\n",
    "[link here](https://stackoverflow.com/questions/7244321/how-do-i-update-or-sync-a-forked-repository-on-github)\n",
    "\n",
    "## Discovery Cluster\n",
    "### Our Very Own Partition\n",
    "### Jupyter Notebook Server\n",
    "### Virtual Environment"
   ]
  },
  {
   "cell_type": "code",
   "execution_count": null,
   "id": "394a9102",
   "metadata": {},
   "outputs": [],
   "source": []
  }
 ],
 "metadata": {
  "kernelspec": {
   "display_name": "Python 3",
   "language": "python",
   "name": "python3"
  },
  "language_info": {
   "codemirror_mode": {
    "name": "ipython",
    "version": 3
   },
   "file_extension": ".py",
   "mimetype": "text/x-python",
   "name": "python",
   "nbconvert_exporter": "python",
   "pygments_lexer": "ipython3",
   "version": "3.9.19"
  }
 },
 "nbformat": 4,
 "nbformat_minor": 5
}
