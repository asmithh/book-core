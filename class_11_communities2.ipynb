{
 "cells": [
  {
   "cell_type": "markdown",
   "id": "24acbd07",
   "metadata": {},
   "source": [
    "# Class 11: Clustering & Community Detection 2 — Contemporary"
   ]
  },
  {
   "cell_type": "markdown",
   "id": "35e06ed9",
   "metadata": {},
   "source": [
    "1. Come in. Sit down. Open Teams.\n",
    "2. Make sure your notebook from last class is saved.\n",
    "3. Open up the Jupyter Lab server.\n",
    "4. Open up the Jupyter Lab terminal.\n",
    "5. Activate Conda: `module load anaconda3/2022.05`\n",
    "6. Activate the shared virtual environment: `source activate /courses/PHYS7332.202510/shared/phys7332-env/`\n",
    "7. Run `python3 git_fixer2.py`\n",
    "8. Github:\n",
    "    - git status (figure out what files have changed)\n",
    "    - git add ... (add the file that you changed, aka the `_MODIFIED` one(s))\n",
    "    - git commit -m \"your changes\"\n",
    "    - git push origin main\n",
    "________"
   ]
  },
  {
   "cell_type": "code",
   "execution_count": null,
   "id": "53161d43",
   "metadata": {},
   "outputs": [],
   "source": []
  }
 ],
 "metadata": {
  "kernelspec": {
   "display_name": "Python 3 (ipykernel)",
   "language": "python",
   "name": "python3"
  },
  "language_info": {
   "codemirror_mode": {
    "name": "ipython",
    "version": 3
   },
   "file_extension": ".py",
   "mimetype": "text/x-python",
   "name": "python",
   "nbconvert_exporter": "python",
   "pygments_lexer": "ipython3",
   "version": "3.9.19"
  }
 },
 "nbformat": 4,
 "nbformat_minor": 5
}
