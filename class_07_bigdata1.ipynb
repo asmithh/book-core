{
 "cells": [
  {
   "cell_type": "markdown",
   "id": "5949a982",
   "metadata": {},
   "source": [
    "# Class 7: Big Data 1 — Algorithmic Complexity & Computing Paths"
   ]
  },
  {
   "cell_type": "markdown",
   "id": "01260dc7",
   "metadata": {},
   "source": [
    "## What is algorithmic complexity?"
   ]
  },
  {
   "cell_type": "markdown",
   "id": "4016abe9",
   "metadata": {},
   "source": [
    "### Why might we care about the time complexity of an algorithm?\n",
    "### How do we determine the time complexity of an algorithm?"
   ]
  },
  {
   "cell_type": "markdown",
   "id": "ea68513b",
   "metadata": {},
   "source": [
    "### Big O Notation"
   ]
  },
  {
   "cell_type": "markdown",
   "id": "79dbe6cd",
   "metadata": {},
   "source": [
    "### Some Examples"
   ]
  },
  {
   "cell_type": "markdown",
   "id": "38c45ef8",
   "metadata": {},
   "source": [
    "## Path Length Algorithms"
   ]
  },
  {
   "cell_type": "markdown",
   "id": "b96c98ab",
   "metadata": {},
   "source": [
    "Let's think about building an algorithm to find the shortest path from one node to another in an unweighted, undirected graph.\n",
    "The simplest way to do this is called *breadth-first search*. "
   ]
  },
  {
   "cell_type": "code",
   "execution_count": null,
   "id": "1446bc0a",
   "metadata": {},
   "outputs": [],
   "source": []
  }
 ],
 "metadata": {
  "kernelspec": {
   "display_name": "Python 3",
   "language": "python",
   "name": "python3"
  },
  "language_info": {
   "codemirror_mode": {
    "name": "ipython",
    "version": 3
   },
   "file_extension": ".py",
   "mimetype": "text/x-python",
   "name": "python",
   "nbconvert_exporter": "python",
   "pygments_lexer": "ipython3",
   "version": "3.9.19"
  }
 },
 "nbformat": 4,
 "nbformat_minor": 5
}
