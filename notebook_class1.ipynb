{
 "cells": [
  {
   "cell_type": "markdown",
   "id": "e4bea5e9",
   "metadata": {},
   "source": [
    "# Quick intro to pandas"
   ]
  },
  {
   "cell_type": "markdown",
   "id": "52503e21",
   "metadata": {},
   "source": [
    "pandas is a Python library for manipulating & analyzing data.\n",
    "\n",
    "We usually import pandas like this:"
   ]
  },
  {
   "cell_type": "code",
   "execution_count": 1,
   "id": "90822e28",
   "metadata": {},
   "outputs": [],
   "source": [
    "import pandas as pd"
   ]
  },
  {
   "cell_type": "markdown",
   "id": "0c3fbffe",
   "metadata": {},
   "source": [
    "pandas has two basic units that we care about: a `Series` and a `DataFrame`. `Series` are roughly akin to lists -- they're one-dimensional and can hold data of any type. `DataFrames` are two-dimensional (they have rows and columns) and are indexed by one or more columns. This means that a row can be identified by the labels in the index column. Each column of a `DataFrame` is also a `Series`. \n",
    "\n",
    "We'll focus on `DataFrames` for now. We can populate a `DataFrame` in a few different ways. First, let's instantiate a `DataFrame` with our own data."
   ]
  },
  {
   "cell_type": "markdown",
   "id": "3a2e9b5f",
   "metadata": {},
   "source": [
    "## Making a DataFrame:"
   ]
  },
  {
   "cell_type": "code",
   "execution_count": 2,
   "id": "60279c09",
   "metadata": {},
   "outputs": [],
   "source": [
    "df = pd.DataFrame({\n",
    "    \"Name\": [\"Orca\", \"Blue Whale\", \"Beluga Whale\", \"Narwhal\"],\n",
    "    \"Weight\": [22000, 441000, 2530, 3500],\n",
    "    \"Cute\":[True, True, True, True],\n",
    "    \"Habitat\": [\"Everywhere\", \"Everywhere\", \"Arctic\", \"Arctic\"],\n",
    "})"
   ]
  },
  {
   "cell_type": "markdown",
   "id": "8166b0da",
   "metadata": {},
   "source": [
    "Let's look at the types the columns of `df` have: "
   ]
  },
  {
   "cell_type": "code",
   "execution_count": 3,
   "id": "e5f55de5",
   "metadata": {},
   "outputs": [
    {
     "data": {
      "text/plain": [
       "Name       object\n",
       "Weight      int64\n",
       "Cute         bool\n",
       "Habitat    object\n",
       "dtype: object"
      ]
     },
     "execution_count": 3,
     "metadata": {},
     "output_type": "execute_result"
    }
   ],
   "source": [
    "df.dtypes"
   ]
  },
  {
   "cell_type": "markdown",
   "id": "7bc639d9",
   "metadata": {},
   "source": [
    "Wow! These are a lot of different types! \n",
    "\n",
    "We can also access the column names like this:"
   ]
  },
  {
   "cell_type": "code",
   "execution_count": 4,
   "id": "378699fa",
   "metadata": {},
   "outputs": [
    {
     "data": {
      "text/plain": [
       "Index(['Name', 'Weight', 'Cute', 'Habitat'], dtype='object')"
      ]
     },
     "execution_count": 4,
     "metadata": {},
     "output_type": "execute_result"
    }
   ],
   "source": [
    "df.columns"
   ]
  },
  {
   "cell_type": "markdown",
   "id": "dd68af7f",
   "metadata": {},
   "source": [
    "or see the first 3 entries like this:"
   ]
  },
  {
   "cell_type": "code",
   "execution_count": 5,
   "id": "cfde3d02",
   "metadata": {},
   "outputs": [
    {
     "data": {
      "text/html": [
       "<div>\n",
       "<style scoped>\n",
       "    .dataframe tbody tr th:only-of-type {\n",
       "        vertical-align: middle;\n",
       "    }\n",
       "\n",
       "    .dataframe tbody tr th {\n",
       "        vertical-align: top;\n",
       "    }\n",
       "\n",
       "    .dataframe thead th {\n",
       "        text-align: right;\n",
       "    }\n",
       "</style>\n",
       "<table border=\"1\" class=\"dataframe\">\n",
       "  <thead>\n",
       "    <tr style=\"text-align: right;\">\n",
       "      <th></th>\n",
       "      <th>Name</th>\n",
       "      <th>Weight</th>\n",
       "      <th>Cute</th>\n",
       "      <th>Habitat</th>\n",
       "    </tr>\n",
       "  </thead>\n",
       "  <tbody>\n",
       "    <tr>\n",
       "      <th>0</th>\n",
       "      <td>Orca</td>\n",
       "      <td>22000</td>\n",
       "      <td>True</td>\n",
       "      <td>Everywhere</td>\n",
       "    </tr>\n",
       "    <tr>\n",
       "      <th>1</th>\n",
       "      <td>Blue Whale</td>\n",
       "      <td>441000</td>\n",
       "      <td>True</td>\n",
       "      <td>Everywhere</td>\n",
       "    </tr>\n",
       "    <tr>\n",
       "      <th>2</th>\n",
       "      <td>Beluga Whale</td>\n",
       "      <td>2530</td>\n",
       "      <td>True</td>\n",
       "      <td>Arctic</td>\n",
       "    </tr>\n",
       "  </tbody>\n",
       "</table>\n",
       "</div>"
      ],
      "text/plain": [
       "           Name  Weight  Cute     Habitat\n",
       "0          Orca   22000  True  Everywhere\n",
       "1    Blue Whale  441000  True  Everywhere\n",
       "2  Beluga Whale    2530  True      Arctic"
      ]
     },
     "execution_count": 5,
     "metadata": {},
     "output_type": "execute_result"
    }
   ],
   "source": [
    "df.head(3)"
   ]
  },
  {
   "cell_type": "markdown",
   "id": "4671d554",
   "metadata": {},
   "source": [
    "## Common Pandas operations\n",
    "### Sorting\n",
    "Now we'll practice some common operations in pandas. One thing we might want to do is sort a dataframe by a particular column:"
   ]
  },
  {
   "cell_type": "code",
   "execution_count": 6,
   "id": "1f7a55a9",
   "metadata": {},
   "outputs": [
    {
     "data": {
      "text/html": [
       "<div>\n",
       "<style scoped>\n",
       "    .dataframe tbody tr th:only-of-type {\n",
       "        vertical-align: middle;\n",
       "    }\n",
       "\n",
       "    .dataframe tbody tr th {\n",
       "        vertical-align: top;\n",
       "    }\n",
       "\n",
       "    .dataframe thead th {\n",
       "        text-align: right;\n",
       "    }\n",
       "</style>\n",
       "<table border=\"1\" class=\"dataframe\">\n",
       "  <thead>\n",
       "    <tr style=\"text-align: right;\">\n",
       "      <th></th>\n",
       "      <th>Name</th>\n",
       "      <th>Weight</th>\n",
       "      <th>Cute</th>\n",
       "      <th>Habitat</th>\n",
       "    </tr>\n",
       "  </thead>\n",
       "  <tbody>\n",
       "    <tr>\n",
       "      <th>1</th>\n",
       "      <td>Blue Whale</td>\n",
       "      <td>441000</td>\n",
       "      <td>True</td>\n",
       "      <td>Everywhere</td>\n",
       "    </tr>\n",
       "    <tr>\n",
       "      <th>0</th>\n",
       "      <td>Orca</td>\n",
       "      <td>22000</td>\n",
       "      <td>True</td>\n",
       "      <td>Everywhere</td>\n",
       "    </tr>\n",
       "    <tr>\n",
       "      <th>3</th>\n",
       "      <td>Narwhal</td>\n",
       "      <td>3500</td>\n",
       "      <td>True</td>\n",
       "      <td>Arctic</td>\n",
       "    </tr>\n",
       "    <tr>\n",
       "      <th>2</th>\n",
       "      <td>Beluga Whale</td>\n",
       "      <td>2530</td>\n",
       "      <td>True</td>\n",
       "      <td>Arctic</td>\n",
       "    </tr>\n",
       "  </tbody>\n",
       "</table>\n",
       "</div>"
      ],
      "text/plain": [
       "           Name  Weight  Cute     Habitat\n",
       "1    Blue Whale  441000  True  Everywhere\n",
       "0          Orca   22000  True  Everywhere\n",
       "3       Narwhal    3500  True      Arctic\n",
       "2  Beluga Whale    2530  True      Arctic"
      ]
     },
     "execution_count": 6,
     "metadata": {},
     "output_type": "execute_result"
    }
   ],
   "source": [
    "df.sort_values(by=\"Weight\", ascending=False)"
   ]
  },
  {
   "cell_type": "markdown",
   "id": "751f7db4",
   "metadata": {},
   "source": [
    "What happens if we change the `ascending` parameter to True?\n",
    "Can you sort the dataframe alphabetically by species name? \n"
   ]
  },
  {
   "cell_type": "code",
   "execution_count": 13,
   "id": "fd6c9bc6",
   "metadata": {},
   "outputs": [],
   "source": [
    "# Your turn!!!"
   ]
  },
  {
   "cell_type": "markdown",
   "id": "033f39cc",
   "metadata": {},
   "source": [
    "### Filtering\n",
    "Another common thing we can do in Pandas is filtering. This means we only select the rows that match a specific condition. Let's filter for all the cetaceans whose weight is over 5000 pounds:"
   ]
  },
  {
   "cell_type": "code",
   "execution_count": 7,
   "id": "8bd71e8f",
   "metadata": {},
   "outputs": [
    {
     "data": {
      "text/html": [
       "<div>\n",
       "<style scoped>\n",
       "    .dataframe tbody tr th:only-of-type {\n",
       "        vertical-align: middle;\n",
       "    }\n",
       "\n",
       "    .dataframe tbody tr th {\n",
       "        vertical-align: top;\n",
       "    }\n",
       "\n",
       "    .dataframe thead th {\n",
       "        text-align: right;\n",
       "    }\n",
       "</style>\n",
       "<table border=\"1\" class=\"dataframe\">\n",
       "  <thead>\n",
       "    <tr style=\"text-align: right;\">\n",
       "      <th></th>\n",
       "      <th>Name</th>\n",
       "      <th>Weight</th>\n",
       "      <th>Cute</th>\n",
       "      <th>Habitat</th>\n",
       "    </tr>\n",
       "  </thead>\n",
       "  <tbody>\n",
       "    <tr>\n",
       "      <th>0</th>\n",
       "      <td>Orca</td>\n",
       "      <td>22000</td>\n",
       "      <td>True</td>\n",
       "      <td>Everywhere</td>\n",
       "    </tr>\n",
       "    <tr>\n",
       "      <th>1</th>\n",
       "      <td>Blue Whale</td>\n",
       "      <td>441000</td>\n",
       "      <td>True</td>\n",
       "      <td>Everywhere</td>\n",
       "    </tr>\n",
       "  </tbody>\n",
       "</table>\n",
       "</div>"
      ],
      "text/plain": [
       "         Name  Weight  Cute     Habitat\n",
       "0        Orca   22000  True  Everywhere\n",
       "1  Blue Whale  441000  True  Everywhere"
      ]
     },
     "execution_count": 7,
     "metadata": {},
     "output_type": "execute_result"
    }
   ],
   "source": [
    "df[df.Weight > 5000]"
   ]
  },
  {
   "cell_type": "markdown",
   "id": "afa16e17",
   "metadata": {},
   "source": [
    "Here, we're referring to the `Weight` column as an _attribute_ of our dataframe `df`. However, we can also refer to the column like we would a key in a dictionary, with the same result:"
   ]
  },
  {
   "cell_type": "code",
   "execution_count": 8,
   "id": "c6738483",
   "metadata": {},
   "outputs": [
    {
     "data": {
      "text/html": [
       "<div>\n",
       "<style scoped>\n",
       "    .dataframe tbody tr th:only-of-type {\n",
       "        vertical-align: middle;\n",
       "    }\n",
       "\n",
       "    .dataframe tbody tr th {\n",
       "        vertical-align: top;\n",
       "    }\n",
       "\n",
       "    .dataframe thead th {\n",
       "        text-align: right;\n",
       "    }\n",
       "</style>\n",
       "<table border=\"1\" class=\"dataframe\">\n",
       "  <thead>\n",
       "    <tr style=\"text-align: right;\">\n",
       "      <th></th>\n",
       "      <th>Name</th>\n",
       "      <th>Weight</th>\n",
       "      <th>Cute</th>\n",
       "      <th>Habitat</th>\n",
       "    </tr>\n",
       "  </thead>\n",
       "  <tbody>\n",
       "    <tr>\n",
       "      <th>0</th>\n",
       "      <td>Orca</td>\n",
       "      <td>22000</td>\n",
       "      <td>True</td>\n",
       "      <td>Everywhere</td>\n",
       "    </tr>\n",
       "    <tr>\n",
       "      <th>1</th>\n",
       "      <td>Blue Whale</td>\n",
       "      <td>441000</td>\n",
       "      <td>True</td>\n",
       "      <td>Everywhere</td>\n",
       "    </tr>\n",
       "  </tbody>\n",
       "</table>\n",
       "</div>"
      ],
      "text/plain": [
       "         Name  Weight  Cute     Habitat\n",
       "0        Orca   22000  True  Everywhere\n",
       "1  Blue Whale  441000  True  Everywhere"
      ]
     },
     "execution_count": 8,
     "metadata": {},
     "output_type": "execute_result"
    }
   ],
   "source": [
    "df[df['Weight'] > 5000]"
   ]
  },
  {
   "cell_type": "markdown",
   "id": "7195a001",
   "metadata": {},
   "source": [
    "Can you filter the dataframe to get all the cetaceans that live in the Arctic?\n"
   ]
  },
  {
   "cell_type": "code",
   "execution_count": 10,
   "id": "d6c4a1ed",
   "metadata": {},
   "outputs": [],
   "source": [
    "# Your turn!!"
   ]
  },
  {
   "cell_type": "markdown",
   "id": "117a13c4",
   "metadata": {},
   "source": [
    "### Adding a column\n",
    "We can also add a column to the dataframe as long as it's the same length as the existing dataframe:"
   ]
  },
  {
   "cell_type": "code",
   "execution_count": 11,
   "id": "5c2114bf",
   "metadata": {},
   "outputs": [],
   "source": [
    "df[\"Food\"] = [\"Everything\", \"Krill\", \"Squid, Clams, Octopus, Cod, Herring\", \"Fish\"]\n"
   ]
  },
  {
   "cell_type": "markdown",
   "id": "56ba20ff",
   "metadata": {},
   "source": [
    "And we can create a column from an existing column using the `apply` function:\n"
   ]
  },
  {
   "cell_type": "code",
   "execution_count": 12,
   "id": "69601475",
   "metadata": {},
   "outputs": [],
   "source": [
    "def convert_from_lbs_to_kg(wt):\n",
    "    return wt * 0.45\n",
    "df[\"Weight_kg\"] = df[\"Weight\"].apply(convert_from_lbs_to_kg)"
   ]
  },
  {
   "cell_type": "markdown",
   "id": "365977cc",
   "metadata": {},
   "source": [
    "When we apply a function, we can use an actual function, as we did above, or we can use an __anonymous function__, or a \"lambda function\". "
   ]
  },
  {
   "cell_type": "code",
   "execution_count": 13,
   "id": "7802541e",
   "metadata": {},
   "outputs": [],
   "source": [
    "df[\"Weight_tons\"] = df[\"Weight\"].apply(lambda b: b / 2000)"
   ]
  },
  {
   "cell_type": "markdown",
   "id": "5a758d66",
   "metadata": {},
   "source": [
    "### Grouping\n",
    "\n",
    "We also might want to group our dataframe into chunks that have something in common."
   ]
  },
  {
   "cell_type": "code",
   "execution_count": 14,
   "id": "c1d3be6c",
   "metadata": {},
   "outputs": [
    {
     "name": "stdout",
     "output_type": "stream",
     "text": [
      "Arctic\n",
      "           Name  Weight  Cute Habitat                                 Food  \\\n",
      "2  Beluga Whale    2530  True  Arctic  Squid, Clams, Octopus, Cod, Herring   \n",
      "3       Narwhal    3500  True  Arctic                                 Fish   \n",
      "\n",
      "   Weight_kg  Weight_tons  \n",
      "2     1138.5        1.265  \n",
      "3     1575.0        1.750  \n",
      "Everywhere\n",
      "         Name  Weight  Cute     Habitat        Food  Weight_kg  Weight_tons\n",
      "0        Orca   22000  True  Everywhere  Everything     9900.0         11.0\n",
      "1  Blue Whale  441000  True  Everywhere       Krill   198450.0        220.5\n"
     ]
    }
   ],
   "source": [
    "groups = df.groupby('Habitat')\n",
    "for habitat, df_gr in groups:\n",
    "    print(habitat)\n",
    "    print(df_gr.head())"
   ]
  },
  {
   "cell_type": "markdown",
   "id": "157fca92",
   "metadata": {},
   "source": [
    "Here, we're grouping our dataframe by the `Habitat` column. `groups` is an iterable (we can iterate over the items in it, in the order given to us) that has two variables. One of them is the unique value of the column we grouped by (`Everywhere` and `Arctic`) and the other one is the chunk of the dataframe that had that unique value in that column. \n",
    "\n",
    "Can you group the cetaceans that weigh more than 5000 pounds apart from the ones that weigh less than 5000 pounds? (Hint: You might have to create a new column!)"
   ]
  },
  {
   "cell_type": "code",
   "execution_count": 15,
   "id": "24f48de9",
   "metadata": {},
   "outputs": [],
   "source": [
    "# Your Turn!!!"
   ]
  },
  {
   "cell_type": "markdown",
   "id": "1e03337c",
   "metadata": {},
   "source": [
    "## Practicing with Pandas\n",
    "We can also load a pandas dataframe from a `.csv` (comma separate values) file. We're going to load up `WhaleFromSpaceDB_Whales.csv`, which we sourced from the [UK Polar Data Centre](https://ramadda.data.bas.ac.uk/repository/entry/show?entryid=c1afe32c-493c-4dc7-af9f-649593b97b2c)"
   ]
  },
  {
   "cell_type": "code",
   "execution_count": 16,
   "id": "3cee2b2a",
   "metadata": {},
   "outputs": [
    {
     "name": "stdout",
     "output_type": "stream",
     "text": [
      "              MstLklSp SpAbbr PtlOtrSp  BoL  BoW  BoS  BoC  FlukeP  Blow  \\\n",
      "0  Eubalaena australis    SRW     None    2    1    1    2       0     0   \n",
      "1  Eubalaena australis    SRW     None    2    1    1    2       0     0   \n",
      "2  Eubalaena australis    SRW     None    1    1    1    2       0     0   \n",
      "3  Eubalaena australis    SRW     None    1    1    1    2       0     0   \n",
      "4  Eubalaena australis    SRW     None    1    1    1    2       0     0   \n",
      "\n",
      "   Contour  ...        Long   ImageID  \\\n",
      "0        0  ...  166.281952  1.01E+15   \n",
      "1        0  ...  166.278841  1.01E+15   \n",
      "2        0  ...  166.274348  1.01E+15   \n",
      "3        0  ...  166.291132  1.01E+15   \n",
      "4        0  ...  166.268754  1.01E+15   \n",
      "\n",
      "                                      ImageFile  ImageDate  Satellite  \\\n",
      "0  06AUG12231250-P2AS-052609152010_01_P001+M2AS   20060812        QB2   \n",
      "1  06AUG12231250-P2AS-052609152010_01_P001+M2AS   20060812        QB2   \n",
      "2  06AUG12231250-P2AS-052609152010_01_P001+M2AS   20060812        QB2   \n",
      "3  06AUG12231250-P2AS-052609152010_01_P001+M2AS   20060812        QB2   \n",
      "4  06AUG12231250-P2AS-052609152010_01_P001+M2AS   20060812        QB2   \n",
      "\n",
      "   NumWhale        BoxSize  SpatialRes                  BoxID/ImageChip  \\\n",
      "0         1  128x128pixels       0.54m  Auckland_SRW_QB2_PS_20060812_B0   \n",
      "1         1  128x128pixels       0.54m  Auckland_SRW_QB2_PS_20060812_B1   \n",
      "2         1  128x128pixels       0.54m  Auckland_SRW_QB2_PS_20060812_B2   \n",
      "3         1  128x128pixels       0.54m  Auckland_SRW_QB2_PS_20060812_B3   \n",
      "4         1  128x128pixels       0.54m  Auckland_SRW_QB2_PS_20060812_B4   \n",
      "\n",
      "                           PointID  \n",
      "0  Auckland_SRW_QB2_PS_20060812_P0  \n",
      "1  Auckland_SRW_QB2_PS_20060812_P1  \n",
      "2  Auckland_SRW_QB2_PS_20060812_P2  \n",
      "3  Auckland_SRW_QB2_PS_20060812_P3  \n",
      "4  Auckland_SRW_QB2_PS_20060812_P4  \n",
      "\n",
      "[5 rows x 34 columns]\n",
      "Index(['MstLklSp', 'SpAbbr', 'PtlOtrSp', 'BoL', 'BoW', 'BoS', 'BoC', 'FlukeP',\n",
      "       'Blow', 'Contour', 'Wake', 'AfterB', 'Defecation', 'MudTrail',\n",
      "       'OtherDistu', 'Fluke', 'Flipper', 'HeadCalosi', 'Movement',\n",
      "       'Certainty2', 'ClassScore', 'Location', 'GCS', 'Lat', 'Long', 'ImageID',\n",
      "       'ImageFile', 'ImageDate', 'Satellite', 'NumWhale', 'BoxSize',\n",
      "       'SpatialRes', 'BoxID/ImageChip', 'PointID'],\n",
      "      dtype='object')\n"
     ]
    }
   ],
   "source": [
    "df_whales = pd.read_csv('data/WhaleFromSpaceDB_Whales.csv')\n",
    "print(df_whales.head(5))\n",
    "print(df_whales.columns)"
   ]
  },
  {
   "cell_type": "markdown",
   "id": "5826225c",
   "metadata": {},
   "source": [
    "Let's explore the dataset a little bit! The `value_counts` function tells us how many times each unique value showed up in a column."
   ]
  },
  {
   "cell_type": "code",
   "execution_count": 17,
   "id": "6294ab98",
   "metadata": {},
   "outputs": [
    {
     "data": {
      "text/plain": [
       "Eubalaena australis       463\n",
       "Eschrichtius robustus      80\n",
       "Megaptera novaeangliae     56\n",
       "Balaenoptera physalus      34\n",
       "Name: MstLklSp, dtype: int64"
      ]
     },
     "execution_count": 17,
     "metadata": {},
     "output_type": "execute_result"
    }
   ],
   "source": [
    "df_whales['MstLklSp'].value_counts()"
   ]
  },
  {
   "cell_type": "markdown",
   "id": "606ce489",
   "metadata": {},
   "source": [
    "Now let's check for flukes! Flukes are valuable to marine biologists because they help them identify individuals. For each whale species, can you count how many times flukes were and were not seen?\n",
    "\n",
    "What about the average certainty for each species? (Hint: `df.column.mean()` gives the average value of a column, and `Certainty2` is the column that contains the certainty score!)"
   ]
  },
  {
   "cell_type": "code",
   "execution_count": 18,
   "id": "bfaa1979",
   "metadata": {},
   "outputs": [],
   "source": [
    "# Your Turn!!!"
   ]
  },
  {
   "cell_type": "markdown",
   "id": "6e62cef0",
   "metadata": {},
   "source": []
  },
  {
   "cell_type": "markdown",
   "id": "fb593d21",
   "metadata": {},
   "source": [
    "# Regressions"
   ]
  },
  {
   "cell_type": "markdown",
   "id": "e5c8f1e0",
   "metadata": {},
   "source": [
    "Regressions are used to figure out how variables in a dataset are related to each other. Usually, you have a dependent variable (the __outcome__ we care about) and some set of __independent variables__ that influence the outcome. For example, let's say we have a bunch of fish and their dimensional measurements. We want to figure out how much the fish weighs, given its measurements. Regression is one way we can do this!\n",
    "\n",
    "In its most basic form, a linear regression will try to minimize the __sum of squared error__. Let's say we have a bunch of observations $y_i$ and $\\vec{X_i}$. Each $y_i$ is a numeric value, and each $X_i$ is a vector of dependent variables. We want to find a vector $\\vec{\\beta}$ such that $\\sum_{i=0}^{n} (\\vec{\\beta} x_i - y_i)^2$ is minimized. This is also referred to the sum of the squares of the residuals -- __residual__ is another word for how incorrect an individual prediction is. In aggregate, we want the amount that we are wrong to be as small as possible. \n",
    "\n",
    "We often use $R^2$, or the [\"coefficient of determination,\"](https://en.wikipedia.org/wiki/Coefficient_of_determination)  to estimate how well a regression explains data. Formally, it takes the following form:\n",
    "$SS_{res} = \\sum_{i=0}^{n} (\\vec{\\beta} x_i - y_i)^2$ is the sum of the squares of the __residuals__ (remember, this is how wrong an individual prediction is).\n",
    "$SS_{tot} = \\sum_{i=0}^{n} (y_i - \\bar{y})^2$ is the __total sum of squares__ - this is proportional to the variance of the dataset. \n",
    "\n",
    "Now, $R^2 = 1 - \\frac{SS_{res}}{SS_{tot}}$. In other words, we're asking \"how big is our error compared to all the variance in the dataset?\""
   ]
  },
  {
   "cell_type": "markdown",
   "id": "4b546722",
   "metadata": {},
   "source": [
    "### When are regressions useful?\n",
    "Regressions are useful for figuring out how different independent variables affect a dependent variable. They are also helpful in predicting how a system might act in the future. For example, if you have a lot of fish and a linear regression model that can predict their weights pretty well, you can then measure even more fish and predict their weights! "
   ]
  },
  {
   "cell_type": "markdown",
   "id": "77a42af5",
   "metadata": {},
   "source": [
    "### When do they fall short?\n",
    "Sometimes data isn't linear! Other times, you might have something that looks like a good fit, but it doesn't explain your data well. [Anscombe's Quartet](https://en.wikipedia.org/wiki/Anscombe%27s_quartet) is a good example that explains why just going ahead and fitting a linear model to your data may not always be wise! \n",
    "\n",
    "![Anscombe's Quartet](images/anscombe_quartet.png)\n",
    "\n",
    "As you can see, these datasets are doing very different things, but the linear model that best describes them is the same for all four datasets. It also fits each dataset as well as the next: the $R^2$ is $0.67$ for all the regressions. This is a cautionary tale: sometimes a linear model is simply not the right model!"
   ]
  },
  {
   "cell_type": "markdown",
   "id": "1339c965",
   "metadata": {},
   "source": [
    "## Running a linear regression on a Pandas dataframe\n",
    "Now we're going to load another CSV; this time, it will be full of fish measurements that we will attempt to correlate to the fishes' weights."
   ]
  },
  {
   "cell_type": "code",
   "execution_count": 21,
   "id": "904d7643",
   "metadata": {},
   "outputs": [
    {
     "data": {
      "text/html": [
       "<div>\n",
       "<style scoped>\n",
       "    .dataframe tbody tr th:only-of-type {\n",
       "        vertical-align: middle;\n",
       "    }\n",
       "\n",
       "    .dataframe tbody tr th {\n",
       "        vertical-align: top;\n",
       "    }\n",
       "\n",
       "    .dataframe thead th {\n",
       "        text-align: right;\n",
       "    }\n",
       "</style>\n",
       "<table border=\"1\" class=\"dataframe\">\n",
       "  <thead>\n",
       "    <tr style=\"text-align: right;\">\n",
       "      <th></th>\n",
       "      <th>Species</th>\n",
       "      <th>Weight</th>\n",
       "      <th>Length1</th>\n",
       "      <th>Length2</th>\n",
       "      <th>Length3</th>\n",
       "      <th>Height</th>\n",
       "      <th>Width</th>\n",
       "    </tr>\n",
       "  </thead>\n",
       "  <tbody>\n",
       "    <tr>\n",
       "      <th>0</th>\n",
       "      <td>Bream</td>\n",
       "      <td>242.0</td>\n",
       "      <td>23.2</td>\n",
       "      <td>25.4</td>\n",
       "      <td>30.0</td>\n",
       "      <td>11.5200</td>\n",
       "      <td>4.0200</td>\n",
       "    </tr>\n",
       "    <tr>\n",
       "      <th>1</th>\n",
       "      <td>Bream</td>\n",
       "      <td>290.0</td>\n",
       "      <td>24.0</td>\n",
       "      <td>26.3</td>\n",
       "      <td>31.2</td>\n",
       "      <td>12.4800</td>\n",
       "      <td>4.3056</td>\n",
       "    </tr>\n",
       "    <tr>\n",
       "      <th>2</th>\n",
       "      <td>Bream</td>\n",
       "      <td>340.0</td>\n",
       "      <td>23.9</td>\n",
       "      <td>26.5</td>\n",
       "      <td>31.1</td>\n",
       "      <td>12.3778</td>\n",
       "      <td>4.6961</td>\n",
       "    </tr>\n",
       "    <tr>\n",
       "      <th>3</th>\n",
       "      <td>Bream</td>\n",
       "      <td>363.0</td>\n",
       "      <td>26.3</td>\n",
       "      <td>29.0</td>\n",
       "      <td>33.5</td>\n",
       "      <td>12.7300</td>\n",
       "      <td>4.4555</td>\n",
       "    </tr>\n",
       "    <tr>\n",
       "      <th>4</th>\n",
       "      <td>Bream</td>\n",
       "      <td>430.0</td>\n",
       "      <td>26.5</td>\n",
       "      <td>29.0</td>\n",
       "      <td>34.0</td>\n",
       "      <td>12.4440</td>\n",
       "      <td>5.1340</td>\n",
       "    </tr>\n",
       "  </tbody>\n",
       "</table>\n",
       "</div>"
      ],
      "text/plain": [
       "  Species  Weight  Length1  Length2  Length3   Height   Width\n",
       "0   Bream   242.0     23.2     25.4     30.0  11.5200  4.0200\n",
       "1   Bream   290.0     24.0     26.3     31.2  12.4800  4.3056\n",
       "2   Bream   340.0     23.9     26.5     31.1  12.3778  4.6961\n",
       "3   Bream   363.0     26.3     29.0     33.5  12.7300  4.4555\n",
       "4   Bream   430.0     26.5     29.0     34.0  12.4440  5.1340"
      ]
     },
     "execution_count": 21,
     "metadata": {},
     "output_type": "execute_result"
    }
   ],
   "source": [
    "df_fish = pd.read_csv('data/Fish.csv')\n",
    "df_fish.head(5)"
   ]
  },
  {
   "cell_type": "markdown",
   "id": "6dcf423f",
   "metadata": {},
   "source": [
    "First, we'll try doing a basic regression with sklearn. We need to make two `numpy` arrays for the linear regression module to use. So we're going to learn how to grab `numpy` arrays from a pandas dataframe. We'll use the columns `Length1`, `Length2`, `Length3`, `Height`, and `Width` as our _independent variables_. Our _dependent variable_, of course,  is `Weight`. \n",
    "\n",
    "To get a subset of columns from a dataframe, we simply list the columns we want. then call the `.numpy()` function. This converts our dataframe into a numeric numpy array:"
   ]
  },
  {
   "cell_type": "code",
   "execution_count": 24,
   "id": "e7d89102",
   "metadata": {},
   "outputs": [],
   "source": [
    "col_subset = df_fish[['Length1', 'Length2', 'Length3', 'Height', 'Width']]\n",
    "x_mtx = col_subset.to_numpy()\n"
   ]
  },
  {
   "cell_type": "markdown",
   "id": "000557bb",
   "metadata": {},
   "source": [
    "Can you figure out how to obtain the array of fish weights?\n"
   ]
  },
  {
   "cell_type": "code",
   "execution_count": 26,
   "id": "4e26d6f1",
   "metadata": {},
   "outputs": [],
   "source": [
    "# Your Turn!!!\n",
    "y_mtx = df_fish['Weight'].to_numpy()"
   ]
  },
  {
   "cell_type": "markdown",
   "id": "d0d8f332",
   "metadata": {},
   "source": [
    "### Importing `sklearn`\n",
    "`sklearn`, or [scikit-learn](https://scikit-learn.org/stable/index.html), is a Python package that has a bunch of machine learning algorithms built in. We're going to use it to practice running linear regressions. We're also going to import `numpy`, which is a great [package](https://numpy.org/) for numerical computation and array manipulation. "
   ]
  },
  {
   "cell_type": "code",
   "execution_count": 40,
   "id": "8302aa24",
   "metadata": {},
   "outputs": [
    {
     "data": {
      "text/plain": [
       "LinearRegression()"
      ]
     },
     "execution_count": 40,
     "metadata": {},
     "output_type": "execute_result"
    }
   ],
   "source": [
    "from sklearn import linear_model\n",
    "import numpy as np\n",
    "reg = linear_model.LinearRegression()\n",
    "reg.fit(x_mtx, y_mtx)"
   ]
  },
  {
   "cell_type": "markdown",
   "id": "60e0056c",
   "metadata": {},
   "source": [
    "We have created a `LinearRegression` object, called `reg`. When we call the `fit()` method, we compute the best coefficients to multiply the values in `x_mtx` by to get something close to `y_mtx`. How good is our model? The `score()` method gives us $R^2$. "
   ]
  },
  {
   "cell_type": "code",
   "execution_count": 30,
   "id": "0efb5985",
   "metadata": {},
   "outputs": [
    {
     "data": {
      "text/plain": [
       "0.8852867046546207"
      ]
     },
     "execution_count": 30,
     "metadata": {},
     "output_type": "execute_result"
    }
   ],
   "source": [
    "reg.score(x_mtx, y_mtx)"
   ]
  },
  {
   "cell_type": "markdown",
   "id": "d47bd5d8",
   "metadata": {},
   "source": [
    "That's not too bad!\n"
   ]
  },
  {
   "cell_type": "markdown",
   "id": "d4063147",
   "metadata": {},
   "source": [
    "#### Adding in Fish Species\n",
    "What if our fish are different densities depending on species? Let's see if we can make our regression a little better. One way to do this is to introduce a _categorical variable_. In this case, we'll have a column for each fish species. Its entry for each row will take the value $1$ if the fish in that row is of that species; otherwise, it'll be $0$. This is really easy to do with `pandas`:"
   ]
  },
  {
   "cell_type": "code",
   "execution_count": 36,
   "id": "73878c98",
   "metadata": {},
   "outputs": [],
   "source": [
    "df_fish[\"fish_category\"] = df_fish[\"Species\"].astype(\"category\")\n",
    "fish_dummies = pd.get_dummies(df_fish['fish_category'], prefix='species_')"
   ]
  },
  {
   "cell_type": "markdown",
   "id": "80f32f37",
   "metadata": {},
   "source": [
    "We've created what's called one-hot encodings, or dummmy variables, which is great news for our fish regression! Let's create a matrix of species dummy variables:"
   ]
  },
  {
   "cell_type": "code",
   "execution_count": 38,
   "id": "ae7ef677",
   "metadata": {},
   "outputs": [],
   "source": [
    "species_mtx = fish_dummies.to_numpy()"
   ]
  },
  {
   "cell_type": "markdown",
   "id": "440bc6c7",
   "metadata": {},
   "source": [
    "And now we'll concatenate that (along the horizontal axis) to our original matrix of fish measurements:"
   ]
  },
  {
   "cell_type": "code",
   "execution_count": 42,
   "id": "8ccb71a8",
   "metadata": {},
   "outputs": [],
   "source": [
    "x_new = np.hstack([species_mtx, x_mtx])"
   ]
  },
  {
   "cell_type": "markdown",
   "id": "2ba91ab0",
   "metadata": {},
   "source": [
    "We'll make a new regression object:\n"
   ]
  },
  {
   "cell_type": "code",
   "execution_count": 43,
   "id": "7a593db5",
   "metadata": {},
   "outputs": [
    {
     "data": {
      "text/plain": [
       "LinearRegression()"
      ]
     },
     "execution_count": 43,
     "metadata": {},
     "output_type": "execute_result"
    }
   ],
   "source": [
    "reg1 = linear_model.LinearRegression()\n",
    "reg1.fit(x_new, y_mtx)"
   ]
  },
  {
   "cell_type": "markdown",
   "id": "e65fbed8",
   "metadata": {},
   "source": [
    "How well did we do?"
   ]
  },
  {
   "cell_type": "code",
   "execution_count": 47,
   "id": "2e313d84",
   "metadata": {},
   "outputs": [
    {
     "data": {
      "text/plain": [
       "0.9360849020585846"
      ]
     },
     "execution_count": 47,
     "metadata": {},
     "output_type": "execute_result"
    }
   ],
   "source": [
    "reg1.score(x_new, y_mtx)"
   ]
  },
  {
   "cell_type": "markdown",
   "id": "2c7268f3",
   "metadata": {},
   "source": [
    "That's better! Adding more information doesn't always help, but this time around it did!\n"
   ]
  },
  {
   "cell_type": "markdown",
   "id": "3ed70fba",
   "metadata": {},
   "source": [
    "### Getting Fancy\n",
    "We can also use something called a *kernel function* to transform our linear data into higher dimensional space. Specifically, we can apply arbitrary functions to our fish data and add them to our linear regression matrices. Let's say we have two concentric circles as a dataset:\n",
    "![Concentric circles](images/concentric_circles.png)\n",
    "We're going to have a hard time separating these with either of their $x$ and $y$ coordinates! But what if we add a new column that is $\\sqrt{x_i^2 + y_i^2}$? We're able to separate them easily because we've projected our points into a higher dimensional space. Neat!!\n"
   ]
  },
  {
   "cell_type": "markdown",
   "id": "449deb7a",
   "metadata": {},
   "source": [
    "Let's try applying this to the fish dataset. Can you engineer a new column for the fish dataset that improves your $R^2$?"
   ]
  },
  {
   "cell_type": "code",
   "execution_count": 48,
   "id": "78bfeafe",
   "metadata": {},
   "outputs": [],
   "source": [
    "# Your Turn!"
   ]
  },
  {
   "cell_type": "code",
   "execution_count": null,
   "id": "a7c09abe",
   "metadata": {},
   "outputs": [],
   "source": []
  }
 ],
 "metadata": {
  "kernelspec": {
   "display_name": "Python 3",
   "language": "python",
   "name": "python3"
  },
  "language_info": {
   "codemirror_mode": {
    "name": "ipython",
    "version": 3
   },
   "file_extension": ".py",
   "mimetype": "text/x-python",
   "name": "python",
   "nbconvert_exporter": "python",
   "pygments_lexer": "ipython3",
   "version": "3.9.19"
  }
 },
 "nbformat": 4,
 "nbformat_minor": 5
}
