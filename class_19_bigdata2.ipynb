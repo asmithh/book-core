{
 "cells": [
  {
   "cell_type": "markdown",
   "id": "51e2c982",
   "metadata": {},
   "source": [
    "# Class 19: What To Do When Your Data Seems Too Big\n",
    "Introducing a toolkit of solutions for dealing with bigger datasets and bigger problems."
   ]
  },
  {
   "cell_type": "markdown",
   "id": "0db4d5a2",
   "metadata": {},
   "source": [
    "## Preamble\n",
    "1. Come in. Sit down. Open Teams.\n",
    "2. Make sure your notebook from last class is saved.\n",
    "3. Open up the Jupyter Lab server.\n",
    "4. Run `git status` and `git add` and `git commit` anything that needs adding/committing.\n",
    "5. Run `python3 git_fixer2.py`\n",
    "6. Github:\n",
    "    - git status (figure out what files have changed)\n",
    "    - git add ... (add the file that you changed, aka the `_MODIFIED` one(s))\n",
    "    - git commit -m \"your changes\"\n",
    "    - git push origin main"
   ]
  },
  {
   "cell_type": "markdown",
   "id": "28e0113c",
   "metadata": {},
   "source": [
    "## Goals of today's class\n",
    "1. Practice running scripts on Discovery proper (using the shell / `srun` & `sbatch`)\n",
    "2. Learn about parallelism and explore some Python-based solutions for parallelism\n",
    "3. Discuss other techniques for dealing with big data/problems (like sparsification and GPU-based solutions)"
   ]
  },
  {
   "cell_type": "markdown",
   "id": "7a12ab14",
   "metadata": {},
   "source": [
    "## Running Scripts on Discovery\n",
    "\n",
    "### The Basic Case\n",
    "To request an interactive shell, we use `srun`. The basic syntax for `srun` is `srun --ntasks 1 --nodes 1 --cpus-per-task 1 --partition courses --mem=2G --time=00:30:00 /bin/bash`. A **task** refers to a computational process; you might have multiple tasks running at once, and each task might spawn multiple subprocesses. For now, we'll focus on the single-task case. A **node** refers to a machine, which may have multiple CPUs. We'll focus on the single-machine case for this lesson, as multi-node computation can get gnarly fast. `--cpus-per-task` tells us how many computing cores we'll want to use per task (this is useful for parallel processing, which we'll discuss later today). And then the **partition** refers to the section of the cluster we're running the code on; this might be `courses` or `courses-gpu`, for example. `--mem` indicates how much RAM we're requesting, and `--time` is how long we want to use the shell for (the upper limit is 24 hours). Finally, we're requesting a `/bin/bash` shell, which will let us run a Python script (for example). \n",
    "\n",
    "This lets us run code and watch it progress; however, if we log out of Discovery or our time runs out, we can say goodbye to any progress we've made running the script!\n",
    "\n",
    "### Fancier Cases\n",
    "We can also submit jobs to the cluster to execute without our direct supervision (i.e. not interactively) using `sbatch`. In order to do this, we write a **shell script**, which is a program that's designed to be executed by the command line (the Unix terminal). Here's an example shell script for `sbatch`:\n",
    "\n",
    "```\n",
    "#!/bin/bash                                 # this is in the bash scripting language\n",
    "#SBATCH -J alyssa_is_trying_to_run_code     # Job name\n",
    "#SBATCH -N 1                                # Number of nodes\n",
    "#SBATCH -n 1                                # Number of tasks\n",
    "#SBATCH --cpus-per-task 1                   # CPUs per task\n",
    "#SBATCH -o output_%j.txt                    # Standard output file\n",
    "#SBATCH -e error_%j.txt                     # Standard error file\n",
    "#SBATCH --mail-user=smith.alyss@northeastern.edu  # Email\n",
    "#SBATCH --mail-type=ALL                     # Type of email notifications\n",
    "\n",
    "module load openmpi/4.0.5                   # loading openMPI to run python MPI code\n",
    "mpirun -np 4 python hello_world.py          # run a Python script that uses MPI\n",
    "```\n",
    "\n",
    "When we submit this, we can see our code's output at `output_{job_name}.txt` and any errors at `error_{job_name}.txt`. We'll also get email notifications about our code running, breaking, and finishing. We can set the number of nodes/tasks/CPUs per task (and more), just as we did with `srun`. And if we set our code to save output files and any other results, we can run big computations without babysitting the cluster very much at all.\n",
    "\n",
    "We can also monitor the status of our jobs with `squeue -u {your_username}`. \n",
    "\n",
    "### Practice!!\n",
    "The [**rumor model**](https://en.wikipedia.org/wiki/Rumor_spread_in_social_network) is a toy model that can be used to simulate how rumors spread in a network. It's governed by two parameters, $\\alpha$ and $\\beta$. We'll be coming back to this model throughout today's lesson. Essentially, there are 3 states: **S** (**spreader**, or \"infected\"), **I** (**ignorant**, or \"susceptible\"), and **R** (**recovered**, or a \"stifler\"). \n",
    "\n",
    "When an \"ignorant\" person meets a spreader, then with probability $\\alpha$, the \"ignorant\" person becomes a spreader as well. \n",
    "\n",
    "When two spreaders meet, with probability $\\beta$, one of them becomes a stifler. \n",
    "\n",
    "And when a spreader and a stifler meet, then the spreader becomes a stifler with probability $\\beta$. \n",
    "\n",
    "Today we're going to practice simulating the rumor model in a variety of ways; some will work better than others. First, though, let's try running a very basic **agent-based** version of the rumor model in a Python script. I've provided a starter script for you to run; it's in `scripts/rumor.py`. "
   ]
  },
  {
   "cell_type": "code",
   "execution_count": 13,
   "id": "a40b30f4",
   "metadata": {},
   "outputs": [
    {
     "data": {
      "text/plain": [
       "<matplotlib.legend.Legend at 0x1409c22e0>"
      ]
     },
     "execution_count": 13,
     "metadata": {},
     "output_type": "execute_result"
    },
    {
     "data": {
      "image/png": "[encoded data removed]",
      "text/plain": [
       "<Figure size 432x288 with 1 Axes>"
      ]
     },
     "metadata": {
      "needs_background": "light"
     },
     "output_type": "display_data"
    }
   ],
   "source": [
    "import pickle\n",
    "import collections\n",
    "import matplotlib.pyplot as plt\n",
    "\n",
    "dset = pickle.load(open('./rumor_model_agent_based.pkl', 'rb'))\n",
    "\n",
    "counts = [collections.Counter(idx.values()) for idx in dset]\n",
    "\n",
    "ignorant = [c['ignorant'] for c in counts]\n",
    "spreader = [c['spreader'] for c in counts]\n",
    "stifler = [c['stifler'] for c in counts]\n",
    "\n",
    "plt.plot([i for i in range(len(counts))], ignorant, label='ignorant')\n",
    "plt.plot([i for i in range(len(counts))], spreader, label='spreader')\n",
    "plt.plot([i for i in range(len(counts))], stifler, label='stifler')\n",
    "plt.xlabel('iterations')\n",
    "plt.ylabel('population')\n",
    "plt.legend()"
   ]
  },
  {
   "cell_type": "markdown",
   "id": "f536129e",
   "metadata": {},
   "source": [
    "\n",
    "## Parallelism\n",
    "### What is parallel processing?\n",
    "#### When is it useful? When is it terrible?\n",
    "### Python `multiprocessing`\n",
    "### `dask`\n",
    "### Packages with Built-In Parallelism"
   ]
  },
  {
   "cell_type": "markdown",
   "id": "969b7e23",
   "metadata": {},
   "source": [
    "\n",
    "## Other Techniques for Big Data Problems\n",
    "### Sparse Matrices & Friends\n",
    "### GPU-Based Approaches"
   ]
  },
  {
   "cell_type": "code",
   "execution_count": null,
   "id": "1c8ea630",
   "metadata": {},
   "outputs": [],
   "source": []
  }
 ],
 "metadata": {
  "kernelspec": {
   "display_name": "Python 3 (ipykernel)",
   "language": "python",
   "name": "python3"
  },
  "language_info": {
   "codemirror_mode": {
    "name": "ipython",
    "version": 3
   },
   "file_extension": ".py",
   "mimetype": "text/x-python",
   "name": "python",
   "nbconvert_exporter": "python",
   "pygments_lexer": "ipython3",
   "version": "3.9.19"
  }
 },
 "nbformat": 4,
 "nbformat_minor": 5
}
