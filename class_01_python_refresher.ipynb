{
 "cells": [
  {
   "cell_type": "markdown",
   "id": "957487d7",
   "metadata": {},
   "source": [
    "# Class 1: Python Refresher, Data Structures, Numpy\n",
    "Goal of today's class:\n",
    "1. Make sure we're all on the same page with Python\n",
    "    - Review the basics, discuss `types`, operations, data structures\n",
    "2. Demonstrate best practices for writing functions, both in notebook environments and as scripts\n",
    "3. Start discussing the basics of data summarization + communication (`matplotlib`)"
   ]
  },
  {
   "cell_type": "markdown",
   "id": "87b6bab1",
   "metadata": {},
   "source": [
    "_____________"
   ]
  },
  {
   "cell_type": "markdown",
   "id": "e9a4d357",
   "metadata": {},
   "source": [
    "## Python\n",
    "In this class, we'll be coding in ***Python***. There are several reasons for this, but probably most importantly it's the one we know best (and the most commonly-used language in Network Science!). Python high level general-purpose Language: object-oriented, dynamic and with strong typing, interpreted, and interactive. It is powerful, flexible, and easy to learn.\n",
    "\n",
    "- __Object-oriented__: object-oriented programming (OOP) refers to a type of computer programming (software design) in which programmers define not only the data type of a data structure, but also the types of operations (functions) that can be applied to the data structure. Everything in Python is an object, and almost everything has attributes and methods. However, everything is an object in the sense that it can be assigned to a variable or passed as an argument to a function.\n",
    "- __Dynamic typing__ means that runtime objects (values) have a type, as opposed to static typing where variables have a type.\n",
    "- __Strong typing__ means that the type of a value doesn't suddenly change. A string containing only digits doesn't magically become a number, as may happen in Perl. Every change of type requires an explicit conversion.\n",
    "- __Interpreted__: you don't need to compile your code.\n",
    "- __Interactive__: you can write and execute parts of your program while the program itself is already running."
   ]
  },
  {
   "cell_type": "markdown",
   "id": "51ab7566",
   "metadata": {},
   "source": [
    "### Main Features \n",
    "(source: https://www.python.org/)\n",
    "\n",
    "- Uses an elegant syntax, making the programs you write easier to read.\n",
    "\n",
    "- Is an easy-to-use language that makes it simple to get your program working. This makes Python ideal for prototype development and other ad-hoc programming tasks, without compromising maintainability.\n",
    "\n",
    "- Comes with a large standard library that supports many common programming tasks such as connecting to web servers, searching text with regular expressions, reading and modifying files.\n",
    "\n",
    "- Python's interactive mode makes it easy to test short snippets of code. There's also a bundled development environment called IDLE."
   ]
  },
  {
   "cell_type": "markdown",
   "id": "d2721cc6",
   "metadata": {},
   "source": [
    "- Is easily extended by adding new modules implemented in a compiled language such as C or C++.\n",
    "\n",
    "- Can also be embedded into an application to provide a programmable interface.\n",
    "\n",
    "- Runs anywhere, including Mac OS X, Windows, Linux, and Unix.\n",
    "\n",
    "- Is free software in two senses. It doesn't cost anything to download or use Python, or to include it in your application. Python can also be freely modified and re-distributed, because while the language is copyrighted it's available under an open source license.\n",
    "\n",
    "- A variety of basic data types are available: numbers (floating point, complex, and unlimited-length long integers), strings (both ASCII and Unicode), lists, and dictionaries."
   ]
  },
  {
   "cell_type": "markdown",
   "id": "c15d0261",
   "metadata": {},
   "source": [
    "- Python supports object-oriented programming with classes and multiple inheritance.\n",
    "\n",
    "- Code can be grouped into modules and packages.\n",
    "\n",
    "- The language supports raising and catching exceptions, resulting in cleaner error handling.\n",
    "\n",
    "- Data types are strongly and dynamically typed. Mixing incompatible types (e.g. attempting to add a string and a number) causes an exception to be raised, so errors are caught sooner.\n",
    "\n",
    "- Python contains advanced programming features such as generators and list comprehensions.\n",
    "\n",
    "- Python's automatic memory management frees you from having to manually allocate and free memory in your code."
   ]
  },
  {
   "cell_type": "markdown",
   "id": "fb050a00",
   "metadata": {},
   "source": [
    "### Additional Facts\n",
    "\n",
    "- Python was conceived in the late 1980s, and its implementation was started in December 1989 by Guido van Rossum, the National Research Institute for Mathematics and Computer Science in the Netherlands (CWI) and had originally focused on ___users as physicists and engineers___. \n",
    "\n",
    "- Python was designed from another existing language at the time, called ABC.\n",
    "\n",
    "- The name Python was taken by Guido van Rossum from british TV program *Monty Python Flying Circus* and there are many references to the show in language documentation. \n",
    "\n",
    "- The goals of the Python project were summarized by Tim Peters in a text called *Zen of Python* :"
   ]
  },
  {
   "cell_type": "markdown",
   "id": "5b537c6e",
   "metadata": {},
   "source": [
    "#### Fun..."
   ]
  },
  {
   "cell_type": "code",
   "execution_count": 1,
   "id": "ede83137",
   "metadata": {},
   "outputs": [
    {
     "name": "stdout",
     "output_type": "stream",
     "text": [
      "The Zen of Python, by Tim Peters\n",
      "\n",
      "Beautiful is better than ugly.\n",
      "Explicit is better than implicit.\n",
      "Simple is better than complex.\n",
      "Complex is better than complicated.\n",
      "Flat is better than nested.\n",
      "Sparse is better than dense.\n",
      "Readability counts.\n",
      "Special cases aren't special enough to break the rules.\n",
      "Although practicality beats purity.\n",
      "Errors should never pass silently.\n",
      "Unless explicitly silenced.\n",
      "In the face of ambiguity, refuse the temptation to guess.\n",
      "There should be one-- and preferably only one --obvious way to do it.\n",
      "Although that way may not be obvious at first unless you're Dutch.\n",
      "Now is better than never.\n",
      "Although never is often better than *right* now.\n",
      "If the implementation is hard to explain, it's a bad idea.\n",
      "If the implementation is easy to explain, it may be a good idea.\n",
      "Namespaces are one honking great idea -- let's do more of those!\n"
     ]
    }
   ],
   "source": [
    "import this"
   ]
  },
  {
   "cell_type": "code",
   "execution_count": 2,
   "id": "8c1ac975",
   "metadata": {},
   "outputs": [],
   "source": [
    "# import antigravity"
   ]
  },
  {
   "cell_type": "markdown",
   "id": "7eea28d9",
   "metadata": {},
   "source": [
    "### Python Today\n",
    "Source: https://www.statista.com/statistics/793628/worldwide-developer-survey-most-used-languages/\n",
    "\n",
    "<img src=\"images/most_used_programming_languages.png\" width=\"500\"/>"
   ]
  },
  {
   "cell_type": "markdown",
   "id": "c611a408",
   "metadata": {},
   "source": [
    "_________________"
   ]
  },
  {
   "cell_type": "markdown",
   "id": "3b15abc6",
   "metadata": {},
   "source": [
    "## Additional Tools\n",
    "- Jupyter Notebook (http://jupyter.org/) [already installed with Anaconda]\n",
    "- VS Code (https://code.visualstudio.com/) or any other text editor you might prefer such as Vim, Sublime, etc..\n",
    "\n",
    "## Commonly-used Software Libraries \n",
    "(most of them are already included in Anaconda)\n",
    "- numpy (https://numpy.org/)\n",
    "- scipy (https://www.scipy.org/)\n",
    "- matplotlib (https://matplotlib.org/)\n",
    "- seaborn (https://seaborn.pydata.org/)\n",
    "- pandas (https://pandas.pydata.org/)\n",
    "- beautifulsoup (https://www.crummy.com/software/BeautifulSoup/)\n",
    "- selenium (https://selenium-python.readthedocs.io/)\n",
    "\n",
    "## Additional Resources\n",
    "- The Unix Shell (https://swcarpentry.github.io/shell-novice/)\n",
    "- Version Control with Git (https://swcarpentry.github.io/git-novice/)\n",
    "- Databases and SQL (https://swcarpentry.github.io/sql-novice-survey/)\n",
    "- A gallery of interesting Jupyter Notebooks (https://github.com/jupyter/jupyter/wiki#a-gallery-of-interesting-jupyter-notebooks)"
   ]
  },
  {
   "cell_type": "markdown",
   "id": "e3893734",
   "metadata": {},
   "source": [
    "______________"
   ]
  },
  {
   "cell_type": "markdown",
   "id": "028f3cfb",
   "metadata": {},
   "source": [
    "## 'Sup, world?"
   ]
  },
  {
   "cell_type": "markdown",
   "id": "e7d6eeac",
   "metadata": {},
   "source": [
    "### Part 1: Very Basics"
   ]
  },
  {
   "cell_type": "code",
   "execution_count": 3,
   "id": "b6e904e1",
   "metadata": {},
   "outputs": [
    {
     "name": "stdout",
     "output_type": "stream",
     "text": [
      "Hello, World!\n"
     ]
    }
   ],
   "source": [
    "print(\"Hello, World!\")"
   ]
  },
  {
   "cell_type": "code",
   "execution_count": 4,
   "id": "7ca6d8aa",
   "metadata": {},
   "outputs": [
    {
     "name": "stdout",
     "output_type": "stream",
     "text": [
      "Hello World!\n"
     ]
    }
   ],
   "source": [
    "print(\"Hello\", \"World!\")"
   ]
  },
  {
   "cell_type": "code",
   "execution_count": 5,
   "id": "08990031",
   "metadata": {},
   "outputs": [
    {
     "data": {
      "text/plain": [
       "\u001b[0;31mInit signature:\u001b[0m \u001b[0mrange\u001b[0m\u001b[0;34m(\u001b[0m\u001b[0mself\u001b[0m\u001b[0;34m,\u001b[0m \u001b[0;34m/\u001b[0m\u001b[0;34m,\u001b[0m \u001b[0;34m*\u001b[0m\u001b[0margs\u001b[0m\u001b[0;34m,\u001b[0m \u001b[0;34m**\u001b[0m\u001b[0mkwargs\u001b[0m\u001b[0;34m)\u001b[0m\u001b[0;34m\u001b[0m\u001b[0;34m\u001b[0m\u001b[0m\n",
       "\u001b[0;31mDocstring:\u001b[0m     \n",
       "range(stop) -> range object\n",
       "range(start, stop[, step]) -> range object\n",
       "\n",
       "Return an object that produces a sequence of integers from start (inclusive)\n",
       "to stop (exclusive) by step.  range(i, j) produces i, i+1, i+2, ..., j-1.\n",
       "start defaults to 0, and stop is omitted!  range(4) produces 0, 1, 2, 3.\n",
       "These are exactly the valid indices for a list of 4 elements.\n",
       "When step is given, it specifies the increment (or decrement).\n",
       "\u001b[0;31mType:\u001b[0m           type\n",
       "\u001b[0;31mSubclasses:\u001b[0m     \n"
      ]
     },
     "metadata": {},
     "output_type": "display_data"
    }
   ],
   "source": [
    "range?"
   ]
  },
  {
   "cell_type": "code",
   "execution_count": 6,
   "id": "a0ec7fbb",
   "metadata": {},
   "outputs": [],
   "source": [
    "# print \"hello, world!\""
   ]
  },
  {
   "cell_type": "markdown",
   "id": "60984c68",
   "metadata": {},
   "source": [
    "_______\n",
    "### Part 2: Variables\n",
    "- Variables in the Python interpreter are created by assignment and destroyed by the garbage collector, when there are no more references to them.\n",
    "\n",
    "- Variable names must start with letter or underscore (`_`) and be followed by letters, digits or underscores (`_`).  \n",
    "\n",
    "- Uppercase and lowercase letters are considered different (i.e. Python is case-sensitive)."
   ]
  },
  {
   "cell_type": "code",
   "execution_count": 7,
   "id": "1ccad9aa",
   "metadata": {},
   "outputs": [],
   "source": [
    "a = 2\n",
    "b = 4\n",
    "x = \"hello\""
   ]
  },
  {
   "cell_type": "code",
   "execution_count": 8,
   "id": "daaf933a",
   "metadata": {},
   "outputs": [
    {
     "name": "stdout",
     "output_type": "stream",
     "text": [
      "a + b = 6\n",
      "a - b = -2\n",
      "a / b = 0.50\n",
      "a / b = 0.500000\n",
      "a^b = 16\n",
      "\n",
      "\n",
      "hellohellohello\n",
      "hellohello\n",
      "hellohello2\n",
      "hellohello16\n"
     ]
    }
   ],
   "source": [
    "# Printing\n",
    "print(\"a + b =\",a + b)\n",
    "print(\"a - b =\",a - b)\n",
    "print(\"a / b = %.2f\"%(a/b))\n",
    "print(\"a / b = {:f}\".format(a/b))\n",
    "print(f'a^b = {(a**b):d}')\n",
    "\n",
    "print('\\n')\n",
    "\n",
    "print(x + x + x)\n",
    "print(x * a)\n",
    "\n",
    "print(x + x + str(a))\n",
    "print(x + x + str(a**b))"
   ]
  },
  {
   "cell_type": "code",
   "execution_count": 9,
   "id": "0231090f",
   "metadata": {},
   "outputs": [
    {
     "name": "stdout",
     "output_type": "stream",
     "text": [
      "Variable   Type      Data/Info\n",
      "------------------------------\n",
      "a          int       2\n",
      "b          int       4\n",
      "this       module    <module 'this' from '/usr<...>d/lib/python3.8/this.py'>\n",
      "x          str       hello\n"
     ]
    }
   ],
   "source": [
    "whos"
   ]
  },
  {
   "cell_type": "code",
   "execution_count": 10,
   "id": "cfb8a20b",
   "metadata": {},
   "outputs": [],
   "source": [
    "del x"
   ]
  },
  {
   "cell_type": "code",
   "execution_count": 11,
   "id": "10453b2a",
   "metadata": {},
   "outputs": [
    {
     "name": "stdout",
     "output_type": "stream",
     "text": [
      "Variable   Type      Data/Info\n",
      "------------------------------\n",
      "a          int       2\n",
      "b          int       4\n",
      "this       module    <module 'this' from '/usr<...>d/lib/python3.8/this.py'>\n"
     ]
    }
   ],
   "source": [
    "whos"
   ]
  },
  {
   "cell_type": "code",
   "execution_count": 12,
   "id": "e6ac8c02",
   "metadata": {},
   "outputs": [
    {
     "name": "stdout",
     "output_type": "stream",
     "text": [
      "<class 'int'>\n",
      "<class 'int'>\n",
      "<class 'float'>\n",
      "<class 'str'>\n"
     ]
    }
   ],
   "source": [
    "print(type(a))\n",
    "print(type(b))\n",
    "\n",
    "b = a * 1.5\n",
    "print(type(b))\n",
    "\n",
    "x = \"hello\"\n",
    "print(type(x))"
   ]
  },
  {
   "cell_type": "markdown",
   "id": "52fbb37d",
   "metadata": {},
   "source": [
    "# Scope of Variables\n",
    "\n",
    "Not all variables are accessible from all parts of our program, and not all variables exist for the same amount of time. Where a variable is accessible and how long it exists depend on how it is defined. We call the part of a program where a variable is accessible its __scope__, and the duration for which the variable exists its __lifetime__.\n",
    "\n",
    "A variable which is defined in the main body of a file is called a __global__ variable. It will be visible throughout the file, and also inside any file which imports that file. Global variables can have unintended consequences because of their wide-ranging effects – that is why we should almost never use them. Only objects which are intended to be used globally, like functions and classes, should be put in the global namespace.\n",
    "\n",
    "A variable which is defined inside a function is __local__ to that function. It is accessible from the point at which it is defined until the end of the function, and exists for as long as the function is executing. The parameter names in the function definition behave like local variables, but they contain the values that we pass into the function when we call it. When we use the assignment operator (=) inside a function, its default behaviour is to create a new local variable – unless a variable with the same name is already defined in the local scope.\n",
    "\n",
    "(source: http://python-textbok.readthedocs.io/en/1.0/Variables_and_Scope.html )"
   ]
  },
  {
   "cell_type": "markdown",
   "id": "43018867",
   "metadata": {},
   "source": [
    "_________\n",
    "### Part 3: Types in Python\n",
    "1. Text Type: `str`\n",
    "2. Numeric Types: `int`, `float`, `complex`\n",
    "3. Sequence Types: `list`, `tuple`, `range`\n",
    "4. Mapping Type: `dict`\n",
    "5. Set Types: `set`, `frozenset`\n",
    "6. Boolean Type: `bool`\n",
    "7. Binary Types: `bytes`, `bytearray`, `memoryview`\n",
    "8. None Type: `NoneType`"
   ]
  },
  {
   "cell_type": "markdown",
   "id": "c827193f",
   "metadata": {},
   "source": [
    "**We'll be working most with:**\n",
    "- A) __Booleans__ are either True or False.\n",
    "- B) __Numbers__ can be integers (1 and 2), floats (1.1 and 1.2), fractions (1/2 and 2/3), or even complex numbers.\n",
    "- C) __Lists__ are ordered sequences of values.\n",
    "- D) __Strings__ are sequences of Unicode characters, e.g. an html document.\n",
    "- E) __Tuples__ are ordered, immutable sequences of values.\n",
    "- F) __Sets__ are unordered bags of values.\n",
    "- G) __Dictionaries__ are unordered bags of key-value pairs.\n",
    "- H) __Bytes__ and byte arrays, e.g. a jpeg image file."
   ]
  },
  {
   "cell_type": "markdown",
   "id": "66b8d0b9",
   "metadata": {},
   "source": [
    "#### (A) Booleans\n",
    "Booleans are either true or false and in Python we can assign \"boolean values\" to variables using two constants: \"True\" and \"False\"."
   ]
  },
  {
   "cell_type": "code",
   "execution_count": 13,
   "id": "805a2c3e",
   "metadata": {},
   "outputs": [
    {
     "data": {
      "text/plain": [
       "True"
      ]
     },
     "execution_count": 13,
     "metadata": {},
     "output_type": "execute_result"
    }
   ],
   "source": [
    "True"
   ]
  },
  {
   "cell_type": "code",
   "execution_count": 14,
   "id": "5b1d6a4f",
   "metadata": {},
   "outputs": [
    {
     "data": {
      "text/plain": [
       "False"
      ]
     },
     "execution_count": 14,
     "metadata": {},
     "output_type": "execute_result"
    }
   ],
   "source": [
    "False"
   ]
  },
  {
   "cell_type": "code",
   "execution_count": 15,
   "id": "6a9aa781",
   "metadata": {},
   "outputs": [
    {
     "data": {
      "text/plain": [
       "2"
      ]
     },
     "execution_count": 15,
     "metadata": {},
     "output_type": "execute_result"
    }
   ],
   "source": [
    "True + True"
   ]
  },
  {
   "cell_type": "code",
   "execution_count": 16,
   "id": "8584ced4",
   "metadata": {},
   "outputs": [
    {
     "data": {
      "text/plain": [
       "3"
      ]
     },
     "execution_count": 16,
     "metadata": {},
     "output_type": "execute_result"
    }
   ],
   "source": [
    "True * 3"
   ]
  },
  {
   "cell_type": "markdown",
   "id": "e9e04c60",
   "metadata": {},
   "source": [
    "#### (B) Numbers"
   ]
  },
  {
   "cell_type": "code",
   "execution_count": 17,
   "id": "11cb229a",
   "metadata": {},
   "outputs": [
    {
     "name": "stdout",
     "output_type": "stream",
     "text": [
      "1\n",
      "3.14\n",
      "314.0\n",
      "1/2\n",
      "1.0\n",
      "3/4\n",
      "3/4\n",
      "1.0\n",
      "5.0\n",
      "(1-5j)\n"
     ]
    }
   ],
   "source": [
    "# integers\n",
    "print(1)\n",
    "    \n",
    "# floats\n",
    "print(3.14)\n",
    "\n",
    "# scientific notation\n",
    "print(3.14e2)\n",
    "\n",
    "# fractions\n",
    "from fractions import Fraction\n",
    "print(Fraction('1/2'))\n",
    "print(Fraction('1/2') + 0.5)\n",
    "\n",
    "print(Fraction('1/2') + Fraction('1/4'))\n",
    "print(Fraction(1,2) + Fraction(1,4))\n",
    "\n",
    "\n",
    "# complex numbers\n",
    "c = 1 + 5j\n",
    "type(c)\n",
    "\n",
    "print(c.real)\n",
    "print(c.imag)\n",
    "print(c.conjugate())"
   ]
  },
  {
   "cell_type": "code",
   "execution_count": 18,
   "id": "be9231b4",
   "metadata": {},
   "outputs": [
    {
     "data": {
      "text/plain": [
       "3"
      ]
     },
     "execution_count": 18,
     "metadata": {},
     "output_type": "execute_result"
    }
   ],
   "source": [
    "# cast from float to int\n",
    "int(3.7)"
   ]
  },
  {
   "cell_type": "code",
   "execution_count": 19,
   "id": "9f7f4f8e",
   "metadata": {},
   "outputs": [
    {
     "data": {
      "text/plain": [
       "3.0"
      ]
     },
     "execution_count": 19,
     "metadata": {},
     "output_type": "execute_result"
    }
   ],
   "source": [
    "# cast from int to float\n",
    "float(3)"
   ]
  },
  {
   "cell_type": "code",
   "execution_count": 20,
   "id": "a0fe0250",
   "metadata": {},
   "outputs": [
    {
     "name": "stdout",
     "output_type": "stream",
     "text": [
      "(1+5j)\n"
     ]
    }
   ],
   "source": [
    "print(c)"
   ]
  },
  {
   "cell_type": "code",
   "execution_count": 21,
   "id": "d3c12b42",
   "metadata": {},
   "outputs": [
    {
     "data": {
      "text/plain": [
       "\u001b[0;31mType:\u001b[0m        float\n",
       "\u001b[0;31mString form:\u001b[0m 1.0\n",
       "\u001b[0;31mDocstring:\u001b[0m   Convert a string or number to a floating point number, if possible.\n"
      ]
     },
     "metadata": {},
     "output_type": "display_data"
    }
   ],
   "source": [
    "c.real?"
   ]
  },
  {
   "cell_type": "markdown",
   "id": "5eb90650",
   "metadata": {},
   "source": [
    "##### Common Operations with Numbers:\n",
    "+ Sum (+)\n",
    "+ Difference (-)\n",
    "+ Multiplication (*)\n",
    "+ Floating Point Division (/)\n",
    "+ Integer Division (//): the result is truncated to the next lower integer, even when applied to real numbers, but in this case the result type is real too.\n",
    "+ Module (%): returns the remainder of the division.\n",
    "+ Power (`**` ): can be used to calculate the root, through fractional exponents (eg `100 ** 0.5`).\n",
    "+ Positive (+)\n",
    "+ Negative (-)\n",
    "\n",
    "##### Logical Operations:\n",
    "+ Less than (<)\n",
    "+ Greater than (>)\n",
    "+ Less than or equal to (<=)\n",
    "+ Greater than or equal to (>=)\n",
    "+ Equal to (==)\n",
    "+ Not equal to (!=)"
   ]
  },
  {
   "cell_type": "code",
   "execution_count": 22,
   "id": "97a59725",
   "metadata": {},
   "outputs": [
    {
     "name": "stdout",
     "output_type": "stream",
     "text": [
      "1 + 3 = 4\n"
     ]
    },
    {
     "data": {
      "text/latex": [
       "$\\displaystyle 2-5 = -3$"
      ],
      "text/plain": [
       "<IPython.core.display.Math object>"
      ]
     },
     "metadata": {},
     "output_type": "display_data"
    },
    {
     "name": "stdout",
     "output_type": "stream",
     "text": [
      "20 \n",
      "\n",
      "1.6666666666666667\n",
      "1 \n",
      "\n",
      "-1.6666666666666667\n",
      "-2 \n",
      "\n",
      "2 \n",
      "\n"
     ]
    },
    {
     "data": {
      "text/latex": [
       "$\\displaystyle 2^4 = 16$"
      ],
      "text/plain": [
       "<IPython.core.display.Math object>"
      ]
     },
     "metadata": {},
     "output_type": "display_data"
    }
   ],
   "source": [
    "from IPython.display import display, Math\n",
    "\n",
    "# sum\n",
    "print(\"1 + 3 =\",1+3)\n",
    "\n",
    "# difference\n",
    "display(Math(r'2-5 = {}'.format(2-5)))\n",
    "\n",
    "# multiplication\n",
    "print(5*4,'\\n')\n",
    "\n",
    "# floating point division\n",
    "print(5/3)\n",
    "\n",
    "# integer division\n",
    "print(5//3,'\\n')\n",
    "\n",
    "# notice:\n",
    "print(-5/3)\n",
    "print(-5//3,'\\n')\n",
    "\n",
    "# modulo (returns the remainder of a division)\n",
    "print(5%3,'\\n')\n",
    "\n",
    "# exponentiation\n",
    "display(Math(r'2^4 = {}'.format(2**4)))"
   ]
  },
  {
   "cell_type": "markdown",
   "id": "348a67d5",
   "metadata": {},
   "source": [
    "##### Numbers & Booleans\n",
    "Zero values evaluate to False and non-zero values evaluate to True."
   ]
  },
  {
   "cell_type": "code",
   "execution_count": 23,
   "id": "642973dd",
   "metadata": {},
   "outputs": [],
   "source": [
    "x = 0\n",
    "if x:\n",
    "    print(\"do something\")"
   ]
  },
  {
   "cell_type": "markdown",
   "id": "04e92fee",
   "metadata": {},
   "source": [
    "#### (C) Lists\n",
    "\n",
    "Lists are collections of heterogeneous objects, which can be of any type, including other lists. They are mutable and can be changed at any time. Lists can be sliced in the same way that the *strings*, but as the lists are mutable, it is possible to make assignments to the list items."
   ]
  },
  {
   "cell_type": "code",
   "execution_count": 24,
   "id": "cc07247c",
   "metadata": {},
   "outputs": [
    {
     "data": {
      "text/plain": [
       "['item 1', 'item 2', [4, 5], 5, 6]"
      ]
     },
     "execution_count": 24,
     "metadata": {},
     "output_type": "execute_result"
    }
   ],
   "source": [
    "my_list = ['item 1', 'item 2', [4,5], 5 ,6]\n",
    "my_list"
   ]
  },
  {
   "cell_type": "code",
   "execution_count": 25,
   "id": "df51c52c",
   "metadata": {},
   "outputs": [
    {
     "name": "stdout",
     "output_type": "stream",
     "text": [
      "0\n",
      "[0, 1, 2, 3]\n",
      "[4, 5, 6, 7, 8]\n",
      "[1, 2, 3, 4, 5, 6, 7, 8]\n",
      "[0, 1]\n",
      "[0, 1, 2, 3, 4, 5, 6, 7, 8]\n",
      "[0, 2, 4, 6, 8]\n",
      "[0, 3, 6]\n",
      "[1, 3, 5]\n",
      "8\n",
      "7\n",
      "[8, 7, 6, 5, 4, 3, 2, 1, 0]\n"
     ]
    }
   ],
   "source": [
    "my_list = [0,1,2,3,4,5,6,7,8]\n",
    "\n",
    "# indexing\n",
    "print(my_list[0])\n",
    "\n",
    "# slicing\n",
    "print(my_list[:4])\n",
    "print(my_list[4:])\n",
    "\n",
    "print(my_list[1:])\n",
    "print(my_list[:2])\n",
    "\n",
    "print(my_list[::1])\n",
    "print(my_list[::2])\n",
    "print(my_list[::3])\n",
    "\n",
    "print(my_list[1:7:2])\n",
    "\n",
    "print(my_list[-1])\n",
    "print(my_list[-2])\n",
    "\n",
    "print(my_list[::-1])\n",
    "\n",
    "## notice that the return value from slicing is a new list"
   ]
  },
  {
   "cell_type": "code",
   "execution_count": 26,
   "id": "c527e4df",
   "metadata": {},
   "outputs": [
    {
     "data": {
      "text/plain": [
       "[0, 1, 2, 3, 4, 5, 6, 7, 8, 10, 11]"
      ]
     },
     "execution_count": 26,
     "metadata": {},
     "output_type": "execute_result"
    }
   ],
   "source": [
    "my_list = my_list + [10,11]\n",
    "my_list"
   ]
  },
  {
   "cell_type": "code",
   "execution_count": 27,
   "id": "72ca6a6a",
   "metadata": {},
   "outputs": [
    {
     "data": {
      "text/plain": [
       "[0, 1, 2, 3, 4, 5, 6, 7, 8, 10, 11, 12, 13]"
      ]
     },
     "execution_count": 27,
     "metadata": {},
     "output_type": "execute_result"
    }
   ],
   "source": [
    "my_list.extend([12,13])\n",
    "my_list"
   ]
  },
  {
   "cell_type": "code",
   "execution_count": 28,
   "id": "a6ad77f7",
   "metadata": {},
   "outputs": [
    {
     "data": {
      "text/plain": [
       "[0, 1, 2, 3, 4, 5, 6, 'dog', 7, 8, 10, 11, 12, 13]"
      ]
     },
     "execution_count": 28,
     "metadata": {},
     "output_type": "execute_result"
    }
   ],
   "source": [
    "my_list.insert(7,'dog')\n",
    "my_list"
   ]
  },
  {
   "cell_type": "code",
   "execution_count": 29,
   "id": "48c1398c",
   "metadata": {},
   "outputs": [
    {
     "data": {
      "text/plain": [
       "True"
      ]
     },
     "execution_count": 29,
     "metadata": {},
     "output_type": "execute_result"
    }
   ],
   "source": [
    "# search for values in a list\n",
    "'dog' in my_list\n"
   ]
  },
  {
   "cell_type": "code",
   "execution_count": 30,
   "id": "669df00b",
   "metadata": {},
   "outputs": [
    {
     "data": {
      "text/plain": [
       "1"
      ]
     },
     "execution_count": 30,
     "metadata": {},
     "output_type": "execute_result"
    }
   ],
   "source": [
    "my_list.count('dog')"
   ]
  },
  {
   "cell_type": "code",
   "execution_count": 31,
   "id": "f4d098c8",
   "metadata": {},
   "outputs": [
    {
     "data": {
      "text/plain": [
       "7"
      ]
     },
     "execution_count": 31,
     "metadata": {},
     "output_type": "execute_result"
    }
   ],
   "source": [
    "my_list.index('dog')"
   ]
  },
  {
   "cell_type": "code",
   "execution_count": 32,
   "id": "4bdf80da",
   "metadata": {},
   "outputs": [
    {
     "data": {
      "text/plain": [
       "[0, 1, 2, 3, 4, 5, 6, 7, 8, 10, 11, 12, 13]"
      ]
     },
     "execution_count": 32,
     "metadata": {},
     "output_type": "execute_result"
    }
   ],
   "source": [
    "# remove items from a list\n",
    "\n",
    "my_list.remove('dog')\n",
    "my_list"
   ]
  },
  {
   "cell_type": "code",
   "execution_count": 33,
   "id": "aae902d2",
   "metadata": {},
   "outputs": [
    {
     "data": {
      "text/plain": [
       "13"
      ]
     },
     "execution_count": 33,
     "metadata": {},
     "output_type": "execute_result"
    }
   ],
   "source": [
    "my_list.pop()"
   ]
  },
  {
   "cell_type": "code",
   "execution_count": 34,
   "id": "28a6d336",
   "metadata": {},
   "outputs": [
    {
     "data": {
      "text/plain": [
       "[0, 1, 2, 3, 4, 5, 6, 7, 8, 10, 11, 12]"
      ]
     },
     "execution_count": 34,
     "metadata": {},
     "output_type": "execute_result"
    }
   ],
   "source": [
    "my_list"
   ]
  },
  {
   "cell_type": "code",
   "execution_count": 35,
   "id": "52286b62",
   "metadata": {},
   "outputs": [
    {
     "data": {
      "text/plain": [
       "10"
      ]
     },
     "execution_count": 35,
     "metadata": {},
     "output_type": "execute_result"
    }
   ],
   "source": [
    "my_list.pop(-3)"
   ]
  },
  {
   "cell_type": "code",
   "execution_count": 36,
   "id": "0c0d063f",
   "metadata": {},
   "outputs": [
    {
     "data": {
      "text/plain": [
       "[0, 1, 2, 3, 4, 5, 6, 7, 8, 11, 12]"
      ]
     },
     "execution_count": 36,
     "metadata": {},
     "output_type": "execute_result"
    }
   ],
   "source": [
    "my_list"
   ]
  },
  {
   "cell_type": "code",
   "execution_count": 37,
   "id": "a3805979",
   "metadata": {},
   "outputs": [
    {
     "name": "stdout",
     "output_type": "stream",
     "text": [
      "59\n",
      "12\n",
      "0\n",
      "11\n"
     ]
    }
   ],
   "source": [
    "# sum the elements of an iterable (e.g. a list)\n",
    "print(sum(my_list))\n",
    "\n",
    "# find the maximum value of the elements of an iterable (e.g. a list)\n",
    "print(max(my_list))\n",
    "\n",
    "# find the minimum value of the elements of an iterable (e.g. a list)\n",
    "print(min(my_list))\n",
    "\n",
    "# get the length of an object (e.g. a list)\n",
    "print(len(my_list))"
   ]
  },
  {
   "cell_type": "code",
   "execution_count": 38,
   "id": "28981eed",
   "metadata": {},
   "outputs": [
    {
     "data": {
      "text/plain": [
       "['random item',\n",
       " 'random item',\n",
       " 'random item',\n",
       " 'random item',\n",
       " 'random item',\n",
       " 'random item',\n",
       " 'random item',\n",
       " 'random item',\n",
       " 'random item',\n",
       " 'random item']"
      ]
     },
     "execution_count": 38,
     "metadata": {},
     "output_type": "execute_result"
    }
   ],
   "source": [
    "my_list = ['random item']*10\n",
    "my_list"
   ]
  },
  {
   "cell_type": "code",
   "execution_count": 39,
   "id": "add5c3bf",
   "metadata": {},
   "outputs": [
    {
     "data": {
      "text/plain": [
       "10"
      ]
     },
     "execution_count": 39,
     "metadata": {},
     "output_type": "execute_result"
    }
   ],
   "source": [
    "len(my_list)"
   ]
  },
  {
   "cell_type": "code",
   "execution_count": 40,
   "id": "50f1023c",
   "metadata": {},
   "outputs": [
    {
     "name": "stdout",
     "output_type": "stream",
     "text": [
      "do something\n"
     ]
    }
   ],
   "source": [
    "if my_list:\n",
    "    print(\"do something\")"
   ]
  },
  {
   "cell_type": "markdown",
   "id": "e360e974",
   "metadata": {},
   "source": [
    "##### Lists and Booleans\n",
    "An empty list is False, any list with at least one item is true regardless of the actual value of the items."
   ]
  },
  {
   "cell_type": "markdown",
   "id": "781bf8be",
   "metadata": {},
   "source": [
    "#### (D) Strings\n",
    "- *Strings* are __immutable__: you can not add, remove, or change any character in a *string*. To perform these operations, Python needs to create a new *string*.\n",
    "- In Python 3, all strings are sequences of Unicode characters and can be encoded either as __unicode__ objects or as __bytes__ object.\n",
    "- Unicode is an international encoding standard for use with different languages and scripts, by which each letter, digit, or symbol is assigned a unique numeric value that applies across different platforms and programs."
   ]
  },
  {
   "cell_type": "code",
   "execution_count": 41,
   "id": "86efdcee",
   "metadata": {},
   "outputs": [
    {
     "name": "stdout",
     "output_type": "stream",
     "text": [
      "len(j) = 4\n",
      "\n",
      "伯\n",
      "恩\n",
      "茅\n",
      "斯\n"
     ]
    }
   ],
   "source": [
    "j = '伯恩茅斯'\n",
    "# length of a string\n",
    "print(\"len(j) =\",len(j))\n",
    "\n",
    "print()\n",
    "# access characters\n",
    "for c in j:\n",
    "    print(c)"
   ]
  },
  {
   "cell_type": "code",
   "execution_count": 42,
   "id": "66919cd4",
   "metadata": {},
   "outputs": [
    {
     "data": {
      "text/plain": [
       "'茅'"
      ]
     },
     "execution_count": 42,
     "metadata": {},
     "output_type": "execute_result"
    }
   ],
   "source": [
    "j[2]"
   ]
  },
  {
   "cell_type": "code",
   "execution_count": 43,
   "id": "07a65580",
   "metadata": {},
   "outputs": [
    {
     "data": {
      "text/plain": [
       "'茅'"
      ]
     },
     "execution_count": 43,
     "metadata": {},
     "output_type": "execute_result"
    }
   ],
   "source": [
    "x = j[2]\n",
    "x"
   ]
  },
  {
   "cell_type": "code",
   "execution_count": 44,
   "id": "6779f878",
   "metadata": {},
   "outputs": [
    {
     "ename": "TypeError",
     "evalue": "'str' object does not support item assignment",
     "output_type": "error",
     "traceback": [
      "\u001b[0;31m---------------------------------------------------------------------------\u001b[0m",
      "\u001b[0;31mTypeError\u001b[0m                                 Traceback (most recent call last)",
      "\u001b[0;32m<ipython-input-44-73d06584f76b>\u001b[0m in \u001b[0;36m<module>\u001b[0;34m\u001b[0m\n\u001b[0;32m----> 1\u001b[0;31m \u001b[0mj\u001b[0m\u001b[0;34m[\u001b[0m\u001b[0;36m2\u001b[0m\u001b[0;34m]\u001b[0m \u001b[0;34m=\u001b[0m \u001b[0;34m'c'\u001b[0m\u001b[0;34m\u001b[0m\u001b[0;34m\u001b[0m\u001b[0m\n\u001b[0m",
      "\u001b[0;31mTypeError\u001b[0m: 'str' object does not support item assignment"
     ]
    }
   ],
   "source": [
    "j[2] = 'c'"
   ]
  },
  {
   "cell_type": "code",
   "execution_count": 45,
   "id": "c3267da6",
   "metadata": {},
   "outputs": [
    {
     "data": {
      "text/plain": [
       "'  HELLO, WORLD!  '"
      ]
     },
     "execution_count": 45,
     "metadata": {},
     "output_type": "execute_result"
    }
   ],
   "source": [
    "# formatting a string\n",
    "s = '  heLlo, wOrld!  '\n",
    "\n",
    "s.upper()"
   ]
  },
  {
   "cell_type": "code",
   "execution_count": 46,
   "id": "f8e14055",
   "metadata": {},
   "outputs": [
    {
     "data": {
      "text/plain": [
       "'  hello, world!  '"
      ]
     },
     "execution_count": 46,
     "metadata": {},
     "output_type": "execute_result"
    }
   ],
   "source": [
    "s.lower()"
   ]
  },
  {
   "cell_type": "code",
   "execution_count": 47,
   "id": "c67bcabe",
   "metadata": {},
   "outputs": [
    {
     "data": {
      "text/plain": [
       "'  Hello, World!  '"
      ]
     },
     "execution_count": 47,
     "metadata": {},
     "output_type": "execute_result"
    }
   ],
   "source": [
    "s.title()"
   ]
  },
  {
   "cell_type": "markdown",
   "id": "3e7334a7",
   "metadata": {},
   "source": [
    "##### Question: What does the following do?"
   ]
  },
  {
   "cell_type": "code",
   "execution_count": 48,
   "id": "ed526066",
   "metadata": {},
   "outputs": [
    {
     "data": {
      "text/plain": [
       "['heLlo,', 'wOrld!']"
      ]
     },
     "execution_count": 48,
     "metadata": {},
     "output_type": "execute_result"
    }
   ],
   "source": [
    "# how to split a string\n",
    "s.split()"
   ]
  },
  {
   "cell_type": "code",
   "execution_count": 49,
   "id": "332ac1d8",
   "metadata": {},
   "outputs": [
    {
     "data": {
      "text/plain": [
       "['  heLlo', ' wOrld!  ']"
      ]
     },
     "execution_count": 49,
     "metadata": {},
     "output_type": "execute_result"
    }
   ],
   "source": [
    "s.split(',')"
   ]
  },
  {
   "cell_type": "code",
   "execution_count": 50,
   "id": "e900ad19",
   "metadata": {},
   "outputs": [
    {
     "data": {
      "text/plain": [
       "'heLlo, wOrld!'"
      ]
     },
     "execution_count": 50,
     "metadata": {},
     "output_type": "execute_result"
    }
   ],
   "source": [
    "s.strip()"
   ]
  },
  {
   "cell_type": "code",
   "execution_count": 51,
   "id": "c4ca8876",
   "metadata": {},
   "outputs": [
    {
     "data": {
      "text/plain": [
       "'  heLlo, wOrld!'"
      ]
     },
     "execution_count": 51,
     "metadata": {},
     "output_type": "execute_result"
    }
   ],
   "source": [
    "s.rstrip()"
   ]
  },
  {
   "cell_type": "code",
   "execution_count": 52,
   "id": "6bbcba96",
   "metadata": {},
   "outputs": [
    {
     "data": {
      "text/plain": [
       "'heLlo, wOrld!  '"
      ]
     },
     "execution_count": 52,
     "metadata": {},
     "output_type": "execute_result"
    }
   ],
   "source": [
    "s.lstrip()"
   ]
  },
  {
   "cell_type": "markdown",
   "id": "b0c75728",
   "metadata": {},
   "source": [
    "##### String vs Bytes Objects \n",
    "![](https://cdn-images-1.medium.com/v2/resize:fit:273/0*JI9rrVj0LnQP48ud.)"
   ]
  },
  {
   "cell_type": "code",
   "execution_count": 53,
   "id": "7f25cd7c",
   "metadata": {},
   "outputs": [
    {
     "data": {
      "text/plain": [
       "'伯恩茅斯'"
      ]
     },
     "execution_count": 53,
     "metadata": {},
     "output_type": "execute_result"
    }
   ],
   "source": [
    "ss = '伯恩茅斯'\n",
    "ss"
   ]
  },
  {
   "cell_type": "code",
   "execution_count": 54,
   "id": "9b2d9d70",
   "metadata": {},
   "outputs": [
    {
     "data": {
      "text/plain": [
       "b'\\xe4\\xbc\\xaf\\xe6\\x81\\xa9\\xe8\\x8c\\x85\\xe6\\x96\\xaf'"
      ]
     },
     "execution_count": 54,
     "metadata": {},
     "output_type": "execute_result"
    }
   ],
   "source": [
    "# encode a string\n",
    "ss.encode()"
   ]
  },
  {
   "cell_type": "code",
   "execution_count": 55,
   "id": "ad909630",
   "metadata": {},
   "outputs": [
    {
     "data": {
      "text/plain": [
       "'伯恩茅斯'"
      ]
     },
     "execution_count": 55,
     "metadata": {},
     "output_type": "execute_result"
    }
   ],
   "source": [
    "# encode + decode\n",
    "ss.encode().decode()"
   ]
  },
  {
   "cell_type": "code",
   "execution_count": 56,
   "id": "f316ea03",
   "metadata": {},
   "outputs": [
    {
     "name": "stdout",
     "output_type": "stream",
     "text": [
      "12\n",
      "4\n"
     ]
    }
   ],
   "source": [
    "# string lenght vs bytes length\n",
    "print(len(ss.encode()))\n",
    "print(len(ss))"
   ]
  },
  {
   "cell_type": "markdown",
   "id": "1e4cb161",
   "metadata": {},
   "source": [
    "##### UTF-8 encoding table and Unicode characters\n",
    "\n",
    "https://www.utf8-chartable.de/\n",
    "\n",
    "**Note:** Python 3 assumes that your source code — i.e. each .py file — is encoded in utf-8."
   ]
  },
  {
   "cell_type": "code",
   "execution_count": 57,
   "id": "4ec11082",
   "metadata": {},
   "outputs": [
    {
     "data": {
      "text/plain": [
       "'~'"
      ]
     },
     "execution_count": 57,
     "metadata": {},
     "output_type": "execute_result"
    }
   ],
   "source": [
    "# from bytes to string\n",
    "(b'\\x7e').decode()\n"
   ]
  },
  {
   "cell_type": "code",
   "execution_count": 58,
   "id": "86bde599",
   "metadata": {},
   "outputs": [],
   "source": [
    "è = 10"
   ]
  },
  {
   "cell_type": "code",
   "execution_count": 59,
   "id": "fb8386af",
   "metadata": {},
   "outputs": [
    {
     "ename": "NameError",
     "evalue": "name 'e' is not defined",
     "output_type": "error",
     "traceback": [
      "\u001b[0;31m---------------------------------------------------------------------------\u001b[0m",
      "\u001b[0;31mNameError\u001b[0m                                 Traceback (most recent call last)",
      "\u001b[0;32m<ipython-input-59-094e3afb2fe8>\u001b[0m in \u001b[0;36m<module>\u001b[0;34m\u001b[0m\n\u001b[0;32m----> 1\u001b[0;31m \u001b[0me\u001b[0m\u001b[0;34m\u001b[0m\u001b[0;34m\u001b[0m\u001b[0m\n\u001b[0m",
      "\u001b[0;31mNameError\u001b[0m: name 'e' is not defined"
     ]
    }
   ],
   "source": [
    "e"
   ]
  },
  {
   "cell_type": "markdown",
   "id": "7197b11c",
   "metadata": {},
   "source": [
    "#### (E) Tuples\n",
    "\n",
    "Similar to lists, but immutable: its not possible to append, delete or make assignments to the items.\n",
    "\n",
    "Syntax:\n",
    "\n",
    "    my_tuple = (a, b, ..., z)\n",
    "\n",
    "The parentheses are optional.\n",
    "\n",
    "Feature: a tuple with only one element is represented as:\n",
    "\n",
    "t1 = (1,)\n",
    "\n",
    "The tuple elements can be referenced the same way as the elements of a list:\n",
    "\n",
    "    first_element = tuple[0]\n",
    "\n",
    "Lists can be converted into tuples:\n",
    "\n",
    "    my_tuple = tuple(my_list)\n",
    "\n",
    "And tuples can be converted into lists:\n",
    "\n",
    "    my_list = list(my_tuple)\n",
    "\n",
    "While tuple can contain mutable elements, these elements can not undergo assignment, as this would change the reference to the object.\n",
    "\n",
    "Example (using the interactive mode):\n",
    "\n",
    "    >>> t = ([1, 2], 4)\n",
    "    >>> t[0].append(3)\n",
    "    >>> t\n",
    "    ([1, 2, 3], 4)\n",
    "    >>> t[0] = [1, 2, 3]\n",
    "    Traceback (most recent call last):\n",
    "      File \"<input>\", line 1, in ?\n",
    "    TypeError: object does not support item assignment\n",
    "    >>>"
   ]
  },
  {
   "cell_type": "code",
   "execution_count": 60,
   "id": "f0d6aec3",
   "metadata": {},
   "outputs": [
    {
     "data": {
      "text/plain": [
       "tuple"
      ]
     },
     "execution_count": 60,
     "metadata": {},
     "output_type": "execute_result"
    }
   ],
   "source": [
    "t = ( [1, 2], 4 )\n",
    "type(t)"
   ]
  },
  {
   "cell_type": "code",
   "execution_count": 61,
   "id": "558e3faa",
   "metadata": {},
   "outputs": [
    {
     "ename": "TypeError",
     "evalue": "'tuple' object does not support item assignment",
     "output_type": "error",
     "traceback": [
      "\u001b[0;31m---------------------------------------------------------------------------\u001b[0m",
      "\u001b[0;31mTypeError\u001b[0m                                 Traceback (most recent call last)",
      "\u001b[0;32m<ipython-input-61-88963aa635fa>\u001b[0m in \u001b[0;36m<module>\u001b[0;34m\u001b[0m\n\u001b[0;32m----> 1\u001b[0;31m \u001b[0mt\u001b[0m\u001b[0;34m[\u001b[0m\u001b[0;36m0\u001b[0m\u001b[0;34m]\u001b[0m \u001b[0;34m=\u001b[0m \u001b[0;36m10\u001b[0m\u001b[0;34m\u001b[0m\u001b[0;34m\u001b[0m\u001b[0m\n\u001b[0m",
      "\u001b[0;31mTypeError\u001b[0m: 'tuple' object does not support item assignment"
     ]
    }
   ],
   "source": [
    "t[0] = 10"
   ]
  },
  {
   "cell_type": "code",
   "execution_count": 62,
   "id": "c7315956",
   "metadata": {},
   "outputs": [],
   "source": [
    "t[0].append('new_value')"
   ]
  },
  {
   "cell_type": "code",
   "execution_count": 63,
   "id": "893556e8",
   "metadata": {},
   "outputs": [
    {
     "data": {
      "text/plain": [
       "([1, 2, 'new_value'], 4)"
      ]
     },
     "execution_count": 63,
     "metadata": {},
     "output_type": "execute_result"
    }
   ],
   "source": [
    "t"
   ]
  },
  {
   "cell_type": "markdown",
   "id": "54974f24",
   "metadata": {},
   "source": [
    "__So what are tuples good for?__\n",
    "\n",
    "- Tuples are faster than lists. If you’re defining a constant set of values and all you’re ever going to do with it is iterate through it, use a tuple instead of a list.\n",
    "- It makes your code safer if you “write-protect” data that doesn’t need to be changed. Using a tuple instead of a list is like having an implied assert statement that shows this data is constant, and that special thought (and a specific function) is required to override that.\n",
    "- Some tuples can be used as dictionary keys (specifically, tuples that contain immutable values like strings, numbers, and other tuples). Lists can never be used as dictionary keys, because lists are not immutable.\n",
    "\n",
    "##### Tuples and Booleans\n",
    "\n",
    "- In a boolean context, an empty tuple is false.\n",
    "- Any tuple with at least one item is true. The value of the items is irrelevant. \n",
    "- Note that to create a tuple of one item, you need a comma after the value. Without the comma, Python just assumes you have an extra pair of parentheses, which is harmless, but it doesn’t create a tuple."
   ]
  },
  {
   "cell_type": "code",
   "execution_count": 64,
   "id": "c0edd6f6",
   "metadata": {},
   "outputs": [
    {
     "data": {
      "text/plain": [
       "['a']"
      ]
     },
     "execution_count": 64,
     "metadata": {},
     "output_type": "execute_result"
    }
   ],
   "source": [
    "['a']"
   ]
  },
  {
   "cell_type": "code",
   "execution_count": 65,
   "id": "682cc616",
   "metadata": {},
   "outputs": [
    {
     "data": {
      "text/plain": [
       "'a'"
      ]
     },
     "execution_count": 65,
     "metadata": {},
     "output_type": "execute_result"
    }
   ],
   "source": [
    "('a')"
   ]
  },
  {
   "cell_type": "code",
   "execution_count": 66,
   "id": "3b1837cb",
   "metadata": {},
   "outputs": [
    {
     "data": {
      "text/plain": [
       "('a',)"
      ]
     },
     "execution_count": 66,
     "metadata": {},
     "output_type": "execute_result"
    }
   ],
   "source": [
    "('a',)"
   ]
  },
  {
   "cell_type": "markdown",
   "id": "a97f5573",
   "metadata": {},
   "source": [
    "##### Useful Tricks\n",
    "In Python, you can use a tuple to assign multiple values at once:"
   ]
  },
  {
   "cell_type": "code",
   "execution_count": 67,
   "id": "f3818d75",
   "metadata": {},
   "outputs": [
    {
     "name": "stdout",
     "output_type": "stream",
     "text": [
      "7 3\n"
     ]
    }
   ],
   "source": [
    "(x,y) = (3,7)\n",
    "(x,y) = (y,x)\n",
    "print(x,y)"
   ]
  },
  {
   "cell_type": "markdown",
   "id": "e0adb089",
   "metadata": {},
   "source": [
    "#### (F) Sets\n",
    "\n",
    "A set is an __unordered__ “bag” of unique values. A single set can contain values of any __immutable__ datatype. Once you have two sets, you can do standard set operations like union, intersection, and set difference."
   ]
  },
  {
   "cell_type": "code",
   "execution_count": 68,
   "id": "517bcf83",
   "metadata": {},
   "outputs": [
    {
     "data": {
      "text/plain": [
       "{1}"
      ]
     },
     "execution_count": 68,
     "metadata": {},
     "output_type": "execute_result"
    }
   ],
   "source": [
    "# create a set\n",
    "my_set = {1}\n",
    "my_set"
   ]
  },
  {
   "cell_type": "code",
   "execution_count": 69,
   "id": "f483dcbe",
   "metadata": {},
   "outputs": [
    {
     "data": {
      "text/plain": [
       "{1, 2, 3, 4, 5}"
      ]
     },
     "execution_count": 69,
     "metadata": {},
     "output_type": "execute_result"
    }
   ],
   "source": [
    "my_set = set([1,1,2,3,4,5])\n",
    "my_set"
   ]
  },
  {
   "cell_type": "code",
   "execution_count": 70,
   "id": "bbeed0e0",
   "metadata": {},
   "outputs": [
    {
     "data": {
      "text/plain": [
       "set"
      ]
     },
     "execution_count": 70,
     "metadata": {},
     "output_type": "execute_result"
    }
   ],
   "source": [
    "type(my_set)"
   ]
  },
  {
   "cell_type": "code",
   "execution_count": 71,
   "id": "ec25e137",
   "metadata": {},
   "outputs": [
    {
     "data": {
      "text/plain": [
       "set()"
      ]
     },
     "execution_count": 71,
     "metadata": {},
     "output_type": "execute_result"
    }
   ],
   "source": [
    "# create an empty set\n",
    "empty_set = set()\n",
    "empty_set"
   ]
  },
  {
   "cell_type": "code",
   "execution_count": 72,
   "id": "e54eede8",
   "metadata": {},
   "outputs": [
    {
     "data": {
      "text/plain": [
       "{1, 2, 3, 4, 5, 6}"
      ]
     },
     "execution_count": 72,
     "metadata": {},
     "output_type": "execute_result"
    }
   ],
   "source": [
    "my_set.add(6)\n",
    "my_set"
   ]
  },
  {
   "cell_type": "code",
   "execution_count": 73,
   "id": "e4afbb7c",
   "metadata": {},
   "outputs": [
    {
     "data": {
      "text/plain": [
       "{1, 2, 3, 4, 5, 6}"
      ]
     },
     "execution_count": 73,
     "metadata": {},
     "output_type": "execute_result"
    }
   ],
   "source": [
    "my_set.add(3)\n",
    "my_set"
   ]
  },
  {
   "cell_type": "code",
   "execution_count": 74,
   "id": "9fa359ac",
   "metadata": {},
   "outputs": [
    {
     "name": "stdout",
     "output_type": "stream",
     "text": [
      "{1, 2, 3, 4, 5, 6, 10}\n",
      "{1, 2, 3, 4, 5, 6, 10}\n",
      "{1, 2, 3, 4, 5, 6, 7, 9, 10}\n",
      "{0, 1, 2, 3, 4, 5, 6, 7, 9, 10, 41, 21, 61}\n"
     ]
    }
   ],
   "source": [
    "# add elements to a set\n",
    "my_set.add(10)\n",
    "print(my_set)\n",
    "\n",
    "my_set.update({2,4,6})\n",
    "print(my_set)\n",
    "\n",
    "my_set.update([3,7,9])\n",
    "print(my_set)\n",
    "\n",
    "my_set.update({21,41,61},{0,1,2})\n",
    "print(my_set)"
   ]
  },
  {
   "cell_type": "code",
   "execution_count": 75,
   "id": "1c307cb0",
   "metadata": {},
   "outputs": [
    {
     "name": "stdout",
     "output_type": "stream",
     "text": [
      "{0, 1, 2, 4, 5, 6, 7, 9, 10, 41, 21, 61}\n",
      "{0, 1, 2, 4, 5, 6, 9, 10, 41, 21, 61}\n",
      "{0, 1, 2, 4, 5, 6, 9, 10, 41, 21, 61}\n"
     ]
    },
    {
     "ename": "KeyError",
     "evalue": "3",
     "output_type": "error",
     "traceback": [
      "\u001b[0;31m---------------------------------------------------------------------------\u001b[0m",
      "\u001b[0;31mKeyError\u001b[0m                                  Traceback (most recent call last)",
      "\u001b[0;32m<ipython-input-75-f77ba5d01082>\u001b[0m in \u001b[0;36m<module>\u001b[0;34m\u001b[0m\n\u001b[1;32m      9\u001b[0m \u001b[0mprint\u001b[0m\u001b[0;34m(\u001b[0m\u001b[0mmy_set\u001b[0m\u001b[0;34m)\u001b[0m\u001b[0;34m\u001b[0m\u001b[0;34m\u001b[0m\u001b[0m\n\u001b[1;32m     10\u001b[0m \u001b[0;34m\u001b[0m\u001b[0m\n\u001b[0;32m---> 11\u001b[0;31m \u001b[0mmy_set\u001b[0m\u001b[0;34m.\u001b[0m\u001b[0mremove\u001b[0m\u001b[0;34m(\u001b[0m\u001b[0;36m3\u001b[0m\u001b[0;34m)\u001b[0m\u001b[0;34m\u001b[0m\u001b[0;34m\u001b[0m\u001b[0m\n\u001b[0m\u001b[1;32m     12\u001b[0m \u001b[0mprint\u001b[0m\u001b[0;34m(\u001b[0m\u001b[0mmy_set\u001b[0m\u001b[0;34m)\u001b[0m\u001b[0;34m\u001b[0m\u001b[0;34m\u001b[0m\u001b[0m\n",
      "\u001b[0;31mKeyError\u001b[0m: 3"
     ]
    }
   ],
   "source": [
    "# remove elements from a set\n",
    "my_set.remove(3)\n",
    "print(my_set)\n",
    "\n",
    "my_set.discard(7)\n",
    "print(my_set)\n",
    "\n",
    "my_set.discard(3)\n",
    "print(my_set)\n",
    "\n",
    "my_set.remove(3)\n",
    "print(my_set)"
   ]
  },
  {
   "cell_type": "code",
   "execution_count": 76,
   "id": "254b45b5",
   "metadata": {},
   "outputs": [],
   "source": [
    "set_a = {0,1,2,3}\n",
    "set_b = {3,4,5,6}"
   ]
  },
  {
   "cell_type": "code",
   "execution_count": 77,
   "id": "05b0881b",
   "metadata": {},
   "outputs": [
    {
     "data": {
      "text/plain": [
       "{0, 1, 2, 3, 4, 5, 6}"
      ]
     },
     "execution_count": 77,
     "metadata": {},
     "output_type": "execute_result"
    }
   ],
   "source": [
    "set_a.union(set_b)"
   ]
  },
  {
   "cell_type": "code",
   "execution_count": 78,
   "id": "81384527",
   "metadata": {},
   "outputs": [
    {
     "data": {
      "text/plain": [
       "{3}"
      ]
     },
     "execution_count": 78,
     "metadata": {},
     "output_type": "execute_result"
    }
   ],
   "source": [
    "set_a.intersection(set_b)"
   ]
  },
  {
   "cell_type": "code",
   "execution_count": 79,
   "id": "312473be",
   "metadata": {},
   "outputs": [
    {
     "data": {
      "text/plain": [
       "{0, 1, 2}"
      ]
     },
     "execution_count": 79,
     "metadata": {},
     "output_type": "execute_result"
    }
   ],
   "source": [
    "set_a.difference(set_b)"
   ]
  },
  {
   "cell_type": "code",
   "execution_count": 80,
   "id": "3d41c2f8",
   "metadata": {},
   "outputs": [
    {
     "data": {
      "text/plain": [
       "{0, 1, 2, 4, 5, 6}"
      ]
     },
     "execution_count": 80,
     "metadata": {},
     "output_type": "execute_result"
    }
   ],
   "source": [
    "set_a.symmetric_difference(set_b)"
   ]
  },
  {
   "cell_type": "code",
   "execution_count": 81,
   "id": "75efbe86",
   "metadata": {},
   "outputs": [
    {
     "data": {
      "text/plain": [
       "{0, 1, 2}"
      ]
     },
     "execution_count": 81,
     "metadata": {},
     "output_type": "execute_result"
    }
   ],
   "source": [
    "set_a - set_b"
   ]
  },
  {
   "cell_type": "code",
   "execution_count": 82,
   "id": "2e2ae2d5",
   "metadata": {},
   "outputs": [
    {
     "data": {
      "text/plain": [
       "{3}"
      ]
     },
     "execution_count": 82,
     "metadata": {},
     "output_type": "execute_result"
    }
   ],
   "source": [
    "set_a & set_b"
   ]
  },
  {
   "cell_type": "code",
   "execution_count": 83,
   "id": "2945e005",
   "metadata": {},
   "outputs": [
    {
     "data": {
      "text/plain": [
       "{0, 1, 2, 3, 4, 5, 6}"
      ]
     },
     "execution_count": 83,
     "metadata": {},
     "output_type": "execute_result"
    }
   ],
   "source": [
    "set_a | set_b"
   ]
  },
  {
   "cell_type": "markdown",
   "id": "e6664185",
   "metadata": {},
   "source": [
    "##### Sets and Booleans\n",
    "\n",
    "- In a boolean context, an empty set is false.\n",
    "- Any set with at least one item is true. The value of the items is irrelevant."
   ]
  },
  {
   "cell_type": "markdown",
   "id": "1e62371c",
   "metadata": {},
   "source": [
    "#### (G) Dictionaries\n",
    "\n",
    "<img src=\"https://pynative.com/wp-content/uploads/2021/02/dictionaries-in-python.jpg\" width=400px>\n",
    "\n",
    "- A dictionary is an __unordered__ set of key-value pairs. \n",
    "\n",
    "- When you add a key to a dictionary, you must also add a value for that key (you can always change the value later). \n",
    "\n",
    "- Python dictionaries are optimized for retrieving the value when you know the key, but not the other way around.\n",
    "\n",
    "- __Keys__ must be an __immutable type__, usually strings, but can also be tuples or numeric types. \n",
    "\n",
    "- __Values__ can be either mutable or immutable. \n"
   ]
  },
  {
   "cell_type": "code",
   "execution_count": 84,
   "id": "9ebc0efe",
   "metadata": {},
   "outputs": [
    {
     "data": {
      "text/plain": [
       "{'monday': 0, 'tuesday': 1, 'wed': 'another day', 1: 'tuesday'}"
      ]
     },
     "execution_count": 84,
     "metadata": {},
     "output_type": "execute_result"
    }
   ],
   "source": [
    "# create dictionary\n",
    "\n",
    "my_dict = { 'monday': 0, 'tuesday': 1 , 'wed': 'another day', 1:'tuesday' }\n",
    "my_dict"
   ]
  },
  {
   "cell_type": "code",
   "execution_count": 85,
   "id": "b048d503",
   "metadata": {},
   "outputs": [
    {
     "data": {
      "text/plain": [
       "0"
      ]
     },
     "execution_count": 85,
     "metadata": {},
     "output_type": "execute_result"
    }
   ],
   "source": [
    "my_dict['monday']"
   ]
  },
  {
   "cell_type": "code",
   "execution_count": 86,
   "id": "e0fd4fb4",
   "metadata": {},
   "outputs": [
    {
     "data": {
      "text/plain": [
       "1"
      ]
     },
     "execution_count": 86,
     "metadata": {},
     "output_type": "execute_result"
    }
   ],
   "source": [
    "my_dict['tuesday']"
   ]
  },
  {
   "cell_type": "code",
   "execution_count": 87,
   "id": "2766a5bc",
   "metadata": {},
   "outputs": [
    {
     "ename": "KeyError",
     "evalue": "'sda'",
     "output_type": "error",
     "traceback": [
      "\u001b[0;31m---------------------------------------------------------------------------\u001b[0m",
      "\u001b[0;31mKeyError\u001b[0m                                  Traceback (most recent call last)",
      "\u001b[0;32m<ipython-input-87-7f98da8a8c6d>\u001b[0m in \u001b[0;36m<module>\u001b[0;34m\u001b[0m\n\u001b[0;32m----> 1\u001b[0;31m \u001b[0mmy_dict\u001b[0m\u001b[0;34m[\u001b[0m\u001b[0;34m'sda'\u001b[0m\u001b[0;34m]\u001b[0m\u001b[0;34m\u001b[0m\u001b[0;34m\u001b[0m\u001b[0m\n\u001b[0m",
      "\u001b[0;31mKeyError\u001b[0m: 'sda'"
     ]
    }
   ],
   "source": [
    "my_dict['sda']"
   ]
  },
  {
   "cell_type": "code",
   "execution_count": 88,
   "id": "a8a67979",
   "metadata": {},
   "outputs": [
    {
     "data": {
      "text/plain": [
       "{'monday': 0, 'wed': 'another day', 1: 'tuesday'}"
      ]
     },
     "execution_count": 88,
     "metadata": {},
     "output_type": "execute_result"
    }
   ],
   "source": [
    "# remove elements\n",
    "del my_dict['tuesday']\n",
    "my_dict"
   ]
  },
  {
   "cell_type": "code",
   "execution_count": 89,
   "id": "66698e80",
   "metadata": {},
   "outputs": [
    {
     "data": {
      "text/plain": [
       "dict_keys(['monday', 'wed', 1])"
      ]
     },
     "execution_count": 89,
     "metadata": {},
     "output_type": "execute_result"
    }
   ],
   "source": [
    "my_dict.keys()"
   ]
  },
  {
   "cell_type": "code",
   "execution_count": 90,
   "id": "4a30234f",
   "metadata": {},
   "outputs": [
    {
     "data": {
      "text/plain": [
       "dict_values([0, 'another day', 'tuesday'])"
      ]
     },
     "execution_count": 90,
     "metadata": {},
     "output_type": "execute_result"
    }
   ],
   "source": [
    "my_dict.values()"
   ]
  },
  {
   "cell_type": "code",
   "execution_count": 91,
   "id": "3c384956",
   "metadata": {},
   "outputs": [
    {
     "data": {
      "text/plain": [
       "dict_items([('monday', 0), ('wed', 'another day'), (1, 'tuesday')])"
      ]
     },
     "execution_count": 91,
     "metadata": {},
     "output_type": "execute_result"
    }
   ],
   "source": [
    "my_dict.items()"
   ]
  },
  {
   "cell_type": "code",
   "execution_count": 92,
   "id": "b69c30d9",
   "metadata": {},
   "outputs": [
    {
     "data": {
      "text/plain": [
       "{'monday': 100, 'wed': 'another day', 1: 'tuesday'}"
      ]
     },
     "execution_count": 92,
     "metadata": {},
     "output_type": "execute_result"
    }
   ],
   "source": [
    "# updated dict_keys\n",
    "my_dict['monday'] = 100\n",
    "my_dict"
   ]
  },
  {
   "cell_type": "markdown",
   "id": "62029782",
   "metadata": {},
   "source": [
    "##### Dictionaries and Booleans\n",
    "\n",
    "- In a boolean context, an empty dictionary is false.\n",
    "- Any dictionary with at least one key-value pair is true.\n"
   ]
  },
  {
   "cell_type": "code",
   "execution_count": 93,
   "id": "c68e068b",
   "metadata": {},
   "outputs": [
    {
     "name": "stdout",
     "output_type": "stream",
     "text": [
      "it is true\n"
     ]
    }
   ],
   "source": [
    "if my_dict:\n",
    "    print('it is true')\n",
    "    \n",
    "empty_dict = dict([])\n",
    "if empty_dict:\n",
    "    print('it is true')"
   ]
  },
  {
   "cell_type": "markdown",
   "id": "5fe17c1c",
   "metadata": {},
   "source": [
    "___________"
   ]
  },
  {
   "cell_type": "markdown",
   "id": "c0f88925",
   "metadata": {},
   "source": [
    "### Part 4: Loops, Operations, etc.\n",
    "The for statement in Python differs a bit from what you may be used to in C or Pascal. Rather than always iterating over an arithmetic progression of numbers (like in Pascal), or giving the user the ability to define both the iteration step and halting condition (as C), Python’s for statement iterates over the items of any iterable sequence (e.g. a list, a tuple, a set, or a string), in the order that they appear in the sequence."
   ]
  },
  {
   "cell_type": "code",
   "execution_count": 94,
   "id": "f8941591",
   "metadata": {},
   "outputs": [
    {
     "name": "stdout",
     "output_type": "stream",
     "text": [
      "1\n",
      "2\n",
      "a\n",
      "b\n",
      "[3, 4]\n"
     ]
    }
   ],
   "source": [
    "my_list = [1,2,'a','b',[3,4]]\n",
    "for item in my_list:\n",
    "    print(item)"
   ]
  },
  {
   "cell_type": "code",
   "execution_count": 95,
   "id": "2bf7e2ac",
   "metadata": {},
   "outputs": [
    {
     "name": "stdout",
     "output_type": "stream",
     "text": [
      "1\n",
      "2\n",
      "3\n",
      "4\n"
     ]
    }
   ],
   "source": [
    "my_set = set([1,2,3,4,4,4])\n",
    "for item in my_set:\n",
    "    print(item)"
   ]
  },
  {
   "cell_type": "markdown",
   "id": "c1de565c",
   "metadata": {},
   "source": [
    "##### The `range()` function\n",
    "If you do need to iterate over a sequence of numbers, the built-in function `range()` comes in handy. It generates arithmetic progressions:"
   ]
  },
  {
   "cell_type": "code",
   "execution_count": 96,
   "id": "49d9fa06",
   "metadata": {},
   "outputs": [
    {
     "name": "stdout",
     "output_type": "stream",
     "text": [
      "0\n",
      "1\n",
      "2\n",
      "3\n"
     ]
    }
   ],
   "source": [
    "for i in range(4):\n",
    "    print(i)"
   ]
  },
  {
   "cell_type": "code",
   "execution_count": 97,
   "id": "27dd724a",
   "metadata": {},
   "outputs": [
    {
     "name": "stdout",
     "output_type": "stream",
     "text": [
      "0\n",
      "1\n",
      "2\n",
      "3\n",
      "4\n"
     ]
    }
   ],
   "source": [
    "for i in range(5):\n",
    "    print(i)"
   ]
  },
  {
   "cell_type": "code",
   "execution_count": 98,
   "id": "c371b527",
   "metadata": {},
   "outputs": [
    {
     "name": "stdout",
     "output_type": "stream",
     "text": [
      "5\n",
      "4\n",
      "3\n",
      "2\n",
      "1\n",
      "0\n",
      "---\n",
      "[3, 4]\n",
      "b\n",
      "a\n",
      "2\n",
      "1\n"
     ]
    }
   ],
   "source": [
    "# Reversed order\n",
    "for i in reversed(range(6)):\n",
    "    print(i)\n",
    "print('---')\n",
    "for item in reversed(my_list):\n",
    "    print(item)"
   ]
  },
  {
   "cell_type": "code",
   "execution_count": 99,
   "id": "c62977f8",
   "metadata": {},
   "outputs": [
    {
     "data": {
      "text/plain": [
       "[[3, 4], 'b', 'a', 2, 1]"
      ]
     },
     "execution_count": 99,
     "metadata": {},
     "output_type": "execute_result"
    }
   ],
   "source": [
    "new_list = []\n",
    "for i in range(len(my_list)):\n",
    "    new_list.append(my_list[-1-i])\n",
    "    \n",
    "new_list"
   ]
  },
  {
   "cell_type": "code",
   "execution_count": 100,
   "id": "4aee40b8",
   "metadata": {},
   "outputs": [
    {
     "data": {
      "text/plain": [
       "[[3, 4], 'b', 'a', 2, 1]"
      ]
     },
     "execution_count": 100,
     "metadata": {},
     "output_type": "execute_result"
    }
   ],
   "source": [
    "my_list[::-1]"
   ]
  },
  {
   "cell_type": "code",
   "execution_count": 101,
   "id": "c9cb2535",
   "metadata": {},
   "outputs": [
    {
     "data": {
      "text/plain": [
       "[0, 1, 2, 3, 4, 5, 6, 7, 8, 9]"
      ]
     },
     "execution_count": 101,
     "metadata": {},
     "output_type": "execute_result"
    }
   ],
   "source": [
    "simple_list = list(range(10))\n",
    "simple_list"
   ]
  },
  {
   "cell_type": "code",
   "execution_count": 102,
   "id": "7ca07102",
   "metadata": {},
   "outputs": [
    {
     "data": {
      "text/plain": [
       "[0, 1, 2]"
      ]
     },
     "execution_count": 102,
     "metadata": {},
     "output_type": "execute_result"
    }
   ],
   "source": [
    "simple_list[0:3]"
   ]
  },
  {
   "cell_type": "code",
   "execution_count": 103,
   "id": "b8e0ffa7",
   "metadata": {},
   "outputs": [
    {
     "data": {
      "text/plain": [
       "[[3, 4], 'b', 'a', 2, 1]"
      ]
     },
     "execution_count": 103,
     "metadata": {},
     "output_type": "execute_result"
    }
   ],
   "source": [
    "my_list[-1:-len(my_list)-1:-1]"
   ]
  },
  {
   "cell_type": "code",
   "execution_count": 104,
   "id": "d6cc5fe2",
   "metadata": {},
   "outputs": [
    {
     "name": "stdout",
     "output_type": "stream",
     "text": [
      "[3, 4]\n",
      "b\n",
      "a\n",
      "2\n",
      "1\n"
     ]
    }
   ],
   "source": [
    "for item in my_list[::-1]:\n",
    "    print(item)"
   ]
  },
  {
   "cell_type": "markdown",
   "id": "93a76c30",
   "metadata": {},
   "source": [
    "##### Sorted order"
   ]
  },
  {
   "cell_type": "code",
   "execution_count": 105,
   "id": "501f6863",
   "metadata": {},
   "outputs": [],
   "source": [
    "# random list of numbers\n",
    "from random import randint\n",
    "numbers = []\n",
    "for __ in range(100):\n",
    "    numbers.append(randint(0,1000))"
   ]
  },
  {
   "cell_type": "code",
   "execution_count": 106,
   "id": "18bf17c6",
   "metadata": {},
   "outputs": [
    {
     "data": {
      "text/plain": [
       "\u001b[0;31mSignature:\u001b[0m \u001b[0mrandint\u001b[0m\u001b[0;34m(\u001b[0m\u001b[0ma\u001b[0m\u001b[0;34m,\u001b[0m \u001b[0mb\u001b[0m\u001b[0;34m)\u001b[0m\u001b[0;34m\u001b[0m\u001b[0;34m\u001b[0m\u001b[0m\n",
       "\u001b[0;31mDocstring:\u001b[0m\n",
       "Return random integer in range [a, b], including both end points.\n",
       "        \n",
       "\u001b[0;31mFile:\u001b[0m      /usr/local/anaconda3/envs/covid/lib/python3.8/random.py\n",
       "\u001b[0;31mType:\u001b[0m      method\n"
      ]
     },
     "metadata": {},
     "output_type": "display_data"
    }
   ],
   "source": [
    "randint?"
   ]
  },
  {
   "cell_type": "code",
   "execution_count": 107,
   "id": "002d8a09",
   "metadata": {},
   "outputs": [
    {
     "name": "stdout",
     "output_type": "stream",
     "text": [
      "3,15,19,21,51,56,58,73,96,96,96,101,103,129,138,139,182,192,195,206,215,234,235,241,247,250,258,264,268,271,277,290,338,353,356,375,389,407,411,441,460,482,497,499,499,503,526,529,535,543,544,555,557,579,590,592,593,601,602,614,622,639,643,662,662,671,690,711,712,713,752,760,761,786,789,798,798,799,801,823,827,832,834,836,846,853,869,878,904,908,910,931,934,952,959,960,971,980,983,997,"
     ]
    }
   ],
   "source": [
    "for item in sorted(numbers):\n",
    "    print(item, end = ',')"
   ]
  },
  {
   "cell_type": "markdown",
   "id": "6d6c080f",
   "metadata": {},
   "source": [
    "##### Enumerate function\n",
    "\n",
    "If you do need to iterate over a sequence of elements keeping track of the index/position of the element:"
   ]
  },
  {
   "cell_type": "code",
   "execution_count": 108,
   "id": "08c3a4c4",
   "metadata": {},
   "outputs": [
    {
     "name": "stdout",
     "output_type": "stream",
     "text": [
      "0 1\n",
      "1 2\n",
      "2 a\n",
      "3 b\n",
      "4 [3, 4]\n"
     ]
    },
    {
     "data": {
      "text/plain": [
       "[(0, 1), (1, 2), (2, 'a'), (3, 'b'), (4, [3, 4])]"
      ]
     },
     "execution_count": 108,
     "metadata": {},
     "output_type": "execute_result"
    }
   ],
   "source": [
    "new_list = []\n",
    "c = 0\n",
    "for item in my_list:\n",
    "    print(c, item)\n",
    "    new_list.append((c,item))\n",
    "    c += 1\n",
    "    \n",
    "new_list"
   ]
  },
  {
   "cell_type": "code",
   "execution_count": 109,
   "id": "76a85be5",
   "metadata": {},
   "outputs": [
    {
     "name": "stdout",
     "output_type": "stream",
     "text": [
      "0 1\n",
      "1 2\n",
      "2 a\n",
      "3 b\n",
      "4 [3, 4]\n"
     ]
    }
   ],
   "source": [
    "for x in new_list:\n",
    "    c = x[0]\n",
    "    item = x[1]\n",
    "    print(c,item)"
   ]
  },
  {
   "cell_type": "code",
   "execution_count": 110,
   "id": "8373d2b4",
   "metadata": {},
   "outputs": [
    {
     "name": "stdout",
     "output_type": "stream",
     "text": [
      "10 20\n"
     ]
    }
   ],
   "source": [
    "x,y = (10,20)\n",
    "print(x, y)"
   ]
  },
  {
   "cell_type": "code",
   "execution_count": 111,
   "id": "1d7371e8",
   "metadata": {},
   "outputs": [
    {
     "name": "stdout",
     "output_type": "stream",
     "text": [
      "0 1\n",
      "1 2\n",
      "2 a\n",
      "3 b\n",
      "4 [3, 4]\n"
     ]
    }
   ],
   "source": [
    "for c, item in new_list:\n",
    "    print(c,item)"
   ]
  },
  {
   "cell_type": "code",
   "execution_count": 112,
   "id": "65c672ae",
   "metadata": {},
   "outputs": [
    {
     "data": {
      "text/plain": [
       "(1, ['a', 'b'])"
      ]
     },
     "execution_count": 112,
     "metadata": {},
     "output_type": "execute_result"
    }
   ],
   "source": [
    "strange_list = [(1,['a','b']),(2,['c','d'])]\n",
    "\n",
    "strange_list[0]"
   ]
  },
  {
   "cell_type": "code",
   "execution_count": 113,
   "id": "7e8f697a",
   "metadata": {},
   "outputs": [
    {
     "name": "stdout",
     "output_type": "stream",
     "text": [
      "1 a b\n",
      "2 c d\n"
     ]
    }
   ],
   "source": [
    "for i, (x,y) in strange_list:\n",
    "    print(i,x,y)"
   ]
  },
  {
   "cell_type": "code",
   "execution_count": 114,
   "id": "0934de61",
   "metadata": {},
   "outputs": [
    {
     "name": "stdout",
     "output_type": "stream",
     "text": [
      "0 1\n",
      "1 2\n",
      "2 a\n",
      "3 b\n",
      "4 [3, 4]\n"
     ]
    }
   ],
   "source": [
    "for c, item in enumerate(my_list):\n",
    "    print(c,item)"
   ]
  },
  {
   "cell_type": "markdown",
   "id": "db8f9714",
   "metadata": {},
   "source": [
    "##### Zip function\n",
    "We can use \"zip\" to loop over two or more sequences at the same time.\n",
    "\n",
    "`zip` creates an iterator that aggregates elements from each of the iterables:"
   ]
  },
  {
   "cell_type": "code",
   "execution_count": 115,
   "id": "a7065738",
   "metadata": {},
   "outputs": [],
   "source": [
    "list_a = ['a','b','c']\n",
    "list_b = [1,2,3]\n",
    "list_c = ['x','y','z']\n",
    "\n",
    "merged_list = [('a',1,'x'), ('b',2,'y'), ('c',3,'z')]"
   ]
  },
  {
   "cell_type": "code",
   "execution_count": 116,
   "id": "4afb4515",
   "metadata": {},
   "outputs": [
    {
     "name": "stdout",
     "output_type": "stream",
     "text": [
      "a 1 x\n",
      "b 2 y\n",
      "c 3 z\n"
     ]
    }
   ],
   "source": [
    "for i,j,k in zip(list_a,list_b,list_c):\n",
    "    print(i,j,k)"
   ]
  },
  {
   "cell_type": "code",
   "execution_count": 117,
   "id": "f88ea010",
   "metadata": {},
   "outputs": [
    {
     "data": {
      "text/plain": [
       "<zip at 0x7fa6800ca180>"
      ]
     },
     "execution_count": 117,
     "metadata": {},
     "output_type": "execute_result"
    }
   ],
   "source": [
    "zip(list_a,list_b,list_c)"
   ]
  },
  {
   "cell_type": "code",
   "execution_count": 118,
   "id": "08967bb7",
   "metadata": {},
   "outputs": [
    {
     "data": {
      "text/plain": [
       "[('a', 1, 'x'), ('b', 2, 'y'), ('c', 3, 'z')]"
      ]
     },
     "execution_count": 118,
     "metadata": {},
     "output_type": "execute_result"
    }
   ],
   "source": [
    "list(zip(list_a,list_b,list_c))"
   ]
  },
  {
   "cell_type": "code",
   "execution_count": 119,
   "id": "4a757efb",
   "metadata": {},
   "outputs": [
    {
     "data": {
      "text/plain": [
       "[(1, 5), (2, 1), (4, 5), (6, 9)]"
      ]
     },
     "execution_count": 119,
     "metadata": {},
     "output_type": "execute_result"
    }
   ],
   "source": [
    "sources_nodes = [1,2,4,6]\n",
    "target_nodes = [5,1,5,9]\n",
    "weights = [3.0,2.0,1.3,3.2]\n",
    "\n",
    "edge_list = list(zip(sources_nodes,target_nodes))\n",
    "edge_list"
   ]
  },
  {
   "cell_type": "code",
   "execution_count": 120,
   "id": "2a36f0ce",
   "metadata": {},
   "outputs": [],
   "source": [
    "graph = {}\n",
    "for source_node, target_node, weight in zip(sources_nodes,target_nodes,weights):\n",
    "    graph[(source_node,target_node)] = weight"
   ]
  },
  {
   "cell_type": "code",
   "execution_count": 121,
   "id": "561009de",
   "metadata": {},
   "outputs": [
    {
     "data": {
      "text/plain": [
       "{(1, 5): 3.0, (2, 1): 2.0, (4, 5): 1.3, (6, 9): 3.2}"
      ]
     },
     "execution_count": 121,
     "metadata": {},
     "output_type": "execute_result"
    }
   ],
   "source": [
    "graph"
   ]
  },
  {
   "cell_type": "code",
   "execution_count": 122,
   "id": "45bbbcc4",
   "metadata": {},
   "outputs": [
    {
     "name": "stdout",
     "output_type": "stream",
     "text": [
      "[(1, 5), (2, 1), (4, 5), (6, 9)] \n",
      "\n",
      "[(1, 2, 4, 6), (5, 1, 5, 9)]\n"
     ]
    }
   ],
   "source": [
    "print(edge_list,'\\n')\n",
    "print(list(zip(*edge_list)))"
   ]
  },
  {
   "cell_type": "code",
   "execution_count": 123,
   "id": "88550e13",
   "metadata": {},
   "outputs": [],
   "source": [
    "ss, tt = zip(*edge_list)"
   ]
  },
  {
   "cell_type": "code",
   "execution_count": 124,
   "id": "5fc7821c",
   "metadata": {},
   "outputs": [],
   "source": [
    "sources = [0,0,0,0,1,1,2,3,3,3]\n",
    "targets = [1,2,3,4,4,5,6,7,8,9]\n",
    "el = list(zip(sources,targets))"
   ]
  },
  {
   "cell_type": "code",
   "execution_count": 125,
   "id": "f71b6c52",
   "metadata": {},
   "outputs": [
    {
     "data": {
      "text/plain": [
       "{0, 1, 2, 3, 4, 5, 6, 7, 8, 9}"
      ]
     },
     "execution_count": 125,
     "metadata": {},
     "output_type": "execute_result"
    }
   ],
   "source": [
    "# what will this do?\n",
    "set(list(zip(*el))[0]+list(zip(*el))[1])"
   ]
  },
  {
   "cell_type": "code",
   "execution_count": null,
   "id": "09b2a35d",
   "metadata": {},
   "outputs": [],
   "source": []
  },
  {
   "cell_type": "markdown",
   "id": "2e9dce41",
   "metadata": {},
   "source": [
    "### To-do: Add while loops"
   ]
  },
  {
   "cell_type": "code",
   "execution_count": null,
   "id": "95ea4499",
   "metadata": {},
   "outputs": [],
   "source": []
  },
  {
   "cell_type": "code",
   "execution_count": null,
   "id": "3e8c43f2",
   "metadata": {},
   "outputs": [],
   "source": []
  },
  {
   "cell_type": "code",
   "execution_count": null,
   "id": "ac354f6e",
   "metadata": {},
   "outputs": [],
   "source": []
  },
  {
   "cell_type": "code",
   "execution_count": null,
   "id": "cbad89c9",
   "metadata": {},
   "outputs": [],
   "source": []
  },
  {
   "cell_type": "code",
   "execution_count": null,
   "id": "59b59dd0",
   "metadata": {},
   "outputs": [],
   "source": []
  },
  {
   "cell_type": "markdown",
   "id": "7ee10e72",
   "metadata": {},
   "source": [
    "## Part 5: Functions\n",
    "\n",
    "In Python, functions:\n",
    "\n",
    "+ Can return objects or not.\n",
    "+ Can have *Doc Strings*.\n",
    "+ Accepts optional parameters (with *defaults*). If no parameter is passed, it will be equal to the *default* defined in the function.\n",
    "+ Accepts parameters to be passed by name. In this case, the order in which the parameters were passed does not matter.\n",
    "+ Have their own namespace (local scope), and therefore may obscure definitions of global scope.\n",
    "+ Can have their properties changed (usually by decorators)."
   ]
  },
  {
   "cell_type": "code",
   "execution_count": 58,
   "id": "f6221dd6",
   "metadata": {},
   "outputs": [],
   "source": [
    "def hello():\n",
    "    print(\"Hello, World!\")\n",
    "    return"
   ]
  },
  {
   "cell_type": "code",
   "execution_count": 63,
   "id": "a14fce12",
   "metadata": {},
   "outputs": [
    {
     "data": {
      "text/plain": [
       "<function __main__.hello()>"
      ]
     },
     "execution_count": 63,
     "metadata": {},
     "output_type": "execute_result"
    }
   ],
   "source": [
    "hello"
   ]
  },
  {
   "cell_type": "code",
   "execution_count": 62,
   "id": "6365513b",
   "metadata": {},
   "outputs": [
    {
     "name": "stdout",
     "output_type": "stream",
     "text": [
      "Hello, World!\n"
     ]
    }
   ],
   "source": [
    "hello()"
   ]
  },
  {
   "cell_type": "markdown",
   "id": "5dfff12a",
   "metadata": {},
   "source": [
    "### Making Your Functions Readable\n",
    "\n",
    "When you write a function, you want to be able to look at it a year from when you wrote it and still know what's going on. There are several ways you can do this; one really helpful thing to use is a *docstring*. \n",
    "\n",
    "A docstring is a long string that usually shows up right after you declare a function (so after `def blah(inputs):`). It should look like this, though there's some flexibility with respect to what you do and don't include:\n",
    "```\n",
    "def blah(inputs):\n",
    "    \"\"\"\n",
    "    Imperative statement explaining what the function does.\n",
    "    \n",
    "    Inputs:\n",
    "    input1 (type): describes the first parameter\n",
    "    input2 (type): describes the second parameter\n",
    "    ...\n",
    "    \n",
    "    Outputs:\n",
    "    output1 (type): describes the first output\n",
    "    output2 (type): describes the second output\n",
    "    ...\n",
    "    \"\"\"\n",
    "    z = some_code(inputs)\n",
    "    y = do_something(z)\n",
    "    # comments should be used to clarify things that look strange \n",
    "    # you can also use them to label chunks of code that perform a particular operation together.\n",
    "    \n",
    "    return output1, output2\n",
    "```\n",
    "\n",
    "You can also indicate the types of your inputs and outputs in the function declaration, and you can set default values for the *keyword arguments*. Keyword arguments are optional inputs (if there is no input, the keyword argument will be set to its default value) and must appear after all required inputs are declared. "
   ]
  },
  {
   "cell_type": "code",
   "execution_count": 6,
   "id": "5a32ea42",
   "metadata": {},
   "outputs": [
    {
     "name": "stdout",
     "output_type": "stream",
     "text": [
      "it was true all along!\n",
      "0.5 potatoes\n"
     ]
    }
   ],
   "source": [
    "def blah1(my_number: float, my_string: str, my_bool: bool = False) -> str:\n",
    "    \"\"\"\n",
    "    Do a string manipulation on the inputs or return a default phrase.\n",
    "    \n",
    "    Inputs:\n",
    "    my_number (float): a number that is a float\n",
    "    my_string (string): a string of any length\n",
    "    my_bool (boolean): default False; indicates whether the default phrase will be returned\n",
    "    \n",
    "    Outputs:\n",
    "    a string that is either \"it was true all along!\" \n",
    "    or my_number and my_string concatenated into one string.\n",
    "    \"\"\"\n",
    "    if my_bool:\n",
    "        return \"it was true all along!\"\n",
    "    else:\n",
    "        return str(my_number) + ' ' + my_string\n",
    "    \n",
    "print(blah1(0.5, '0.5', True))\n",
    "print(blah1(0.5, 'potatoes'))"
   ]
  },
  {
   "cell_type": "markdown",
   "id": "53f848e7",
   "metadata": {},
   "source": [
    "#### Scope\n",
    "You should also be careful about **scope** when working on a function. When you're writing a function, you will have variables that are **local** -- they only exist inside the function, and they don't exist outside it. Other variables that you declare outside the function will not be known about in the world of the function itself. Try out this block of code, then uncomment the line that's commented out. What happens, and why?"
   ]
  },
  {
   "cell_type": "code",
   "execution_count": 13,
   "id": "2d9b8b81",
   "metadata": {},
   "outputs": [
    {
     "name": "stdout",
     "output_type": "stream",
     "text": [
      "we have this many potatoes:  5\n",
      "but now we have this many potatoes:  4\n",
      "my dog is barking but we have 4 POTATOES\n",
      "finally we have this many potatoes:  5\n"
     ]
    }
   ],
   "source": [
    "# Your Turn!\n",
    "\n",
    "NUM_POTATOES = 5\n",
    "print('we have this many potatoes: ', NUM_POTATOES)\n",
    "\n",
    "def potato_peeler(words:str) -> str:\n",
    "    \"\"\"\n",
    "    Return a string plus the phrase \"but we have 4 POTATOES\".\n",
    "    \n",
    "    Inputs:\n",
    "    words (str): any string\n",
    "    \n",
    "    Outputs:\n",
    "    (str): words plus \"but we have 4 POTATOES\"\n",
    "    \n",
    "    \"\"\"\n",
    "    # print('now we have this many potatoes: ', NUM_POTATOES)\n",
    "    NUM_POTATOES = 4\n",
    "    print('but now we have this many potatoes: ', NUM_POTATOES)\n",
    "    return words + ' but we have ' + str(NUM_POTATOES) + ' POTATOES'\n",
    "\n",
    "print(potato_peeler('my dog is barking'))\n",
    "print('finally we have this many potatoes: ', NUM_POTATOES)"
   ]
  },
  {
   "cell_type": "code",
   "execution_count": 64,
   "id": "e999bf12",
   "metadata": {},
   "outputs": [],
   "source": [
    "def hello(data=None):\n",
    "    \"\"\"\n",
    "    This is a function that takes anything as `data` and returns\n",
    "    a string depending on the input.\n",
    "\n",
    "    Parameters:\n",
    "    data (type): Description of the first parameter.\n",
    "\n",
    "    Returns:\n",
    "    out (str): String with the answer.\n",
    "    \"\"\"\n",
    "\n",
    "    out = ''\n",
    "    if data:\n",
    "        out += \"Hello, World!\"\n",
    "\n",
    "    else:\n",
    "        out += 'Set \"data\" to something!'\n",
    "\n",
    "\n",
    "    return out"
   ]
  },
  {
   "cell_type": "code",
   "execution_count": 69,
   "id": "4d939ec2",
   "metadata": {},
   "outputs": [
    {
     "name": "stdout",
     "output_type": "stream",
     "text": [
      "Set \"data\" to something!\n",
      "\n",
      "Hello, World!\n"
     ]
    }
   ],
   "source": [
    "print(hello())\n",
    "print()\n",
    "print(hello(x))"
   ]
  },
  {
   "cell_type": "code",
   "execution_count": null,
   "id": "733ce8ed",
   "metadata": {},
   "outputs": [],
   "source": []
  },
  {
   "cell_type": "code",
   "execution_count": null,
   "id": "f8c0110b",
   "metadata": {},
   "outputs": [],
   "source": []
  },
  {
   "cell_type": "code",
   "execution_count": null,
   "id": "c2186ff4",
   "metadata": {},
   "outputs": [],
   "source": []
  },
  {
   "cell_type": "markdown",
   "id": "df96f0c0",
   "metadata": {},
   "source": [
    "# Part 6: Numpy, Matplotlib, and more"
   ]
  },
  {
   "cell_type": "code",
   "execution_count": null,
   "id": "11bcc9e6",
   "metadata": {},
   "outputs": [],
   "source": []
  },
  {
   "cell_type": "code",
   "execution_count": null,
   "id": "26228342",
   "metadata": {},
   "outputs": [],
   "source": []
  },
  {
   "cell_type": "code",
   "execution_count": null,
   "id": "cb027b14",
   "metadata": {},
   "outputs": [],
   "source": []
  },
  {
   "cell_type": "code",
   "execution_count": null,
   "id": "46435f45",
   "metadata": {},
   "outputs": [],
   "source": []
  },
  {
   "cell_type": "code",
   "execution_count": null,
   "id": "46450934",
   "metadata": {},
   "outputs": [],
   "source": []
  },
  {
   "cell_type": "code",
   "execution_count": null,
   "id": "25d73d05",
   "metadata": {},
   "outputs": [],
   "source": []
  },
  {
   "cell_type": "markdown",
   "id": "aaf9de30",
   "metadata": {},
   "source": [
    "___________"
   ]
  },
  {
   "cell_type": "markdown",
   "id": "de6474e2",
   "metadata": {},
   "source": [
    "# References and further resources:\n",
    "\n",
    "1. Class Webpages\n",
    "    - Jupyter Book: https://asmithh.github.io/network-science-data-book/intro.html\n",
    "    - Github: https://github.com/asmithh/network-science-data-book\n",
    "    - Syllabus and course details: https://brennanklein.com/phys7332-fall24\n",
    "2. Discovery Cluster \"OOD\": https://ood.discovery.neu.edu/\n",
    "    - Open OnDemand Documentation: https://osc.github.io/ood-documentation/latest/\n",
    "3. **Python for R users:** https://rebeccabarter.com/blog/2023-09-11-from_r_to_python"
   ]
  },
  {
   "cell_type": "markdown",
   "id": "4048ec6c",
   "metadata": {},
   "source": [
    "_____________"
   ]
  },
  {
   "cell_type": "markdown",
   "id": "9d31e6ad",
   "metadata": {},
   "source": [
    "### potential:\n",
    "---------------------\n",
    "\n",
    "# Exercise\n",
    "\n",
    "Let's consider an __undirected unweighted network__ composed by 5 nodes and 7 edges:\n",
    "- nodes: 0,1,2,3, and 4 ;\n",
    "- edges: 0--1, 0--2, 0--4, 2--3, 1--4, 2--4, and 1--3. \n",
    "\n",
    "### Questions: ###\n",
    "\n",
    "1. How would you represent the adjancency matrix of this graph using __only__ the data types that we have seen so far?\n",
    "\n",
    "2. Given the adjacency matrix object that you have constructed at point 1, can you write a simple function that takes that object as input and computes the number of neighbors (i.e. degree) of each node?\n",
    "\n",
    "-------------"
   ]
  },
  {
   "cell_type": "code",
   "execution_count": null,
   "id": "fa390626",
   "metadata": {},
   "outputs": [],
   "source": []
  }
 ],
 "metadata": {
  "kernelspec": {
   "display_name": "Python 3",
   "language": "python",
   "name": "python3"
  },
  "language_info": {
   "codemirror_mode": {
    "name": "ipython",
    "version": 3
   },
   "file_extension": ".py",
   "mimetype": "text/x-python",
   "name": "python",
   "nbconvert_exporter": "python",
   "pygments_lexer": "ipython3",
   "version": "3.9.19"
  }
 },
 "nbformat": 4,
 "nbformat_minor": 5
}
