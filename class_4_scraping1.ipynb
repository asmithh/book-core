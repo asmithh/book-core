{
 "cells": [
  {
   "cell_type": "markdown",
   "id": "9be32880",
   "metadata": {},
   "source": [
    "# Class 4: Scraping Web Data 1 - BeautifulSoup, HTML, Pandas\n"
   ]
  },
  {
   "cell_type": "code",
   "execution_count": null,
   "id": "550b6b68",
   "metadata": {},
   "outputs": [],
   "source": []
  }
 ],
 "metadata": {
  "kernelspec": {
   "display_name": "Python 3",
   "language": "python",
   "name": "python3"
  },
  "language_info": {
   "codemirror_mode": {
    "name": "ipython",
    "version": 3
   },
   "file_extension": ".py",
   "mimetype": "text/x-python",
   "name": "python",
   "nbconvert_exporter": "python",
   "pygments_lexer": "ipython3",
   "version": "3.9.19"
  }
 },
 "nbformat": 4,
 "nbformat_minor": 5
}
